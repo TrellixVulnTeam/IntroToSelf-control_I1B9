{
 "cells": [
  {
   "cell_type": "markdown",
   "metadata": {},
   "source": [
    "# 数学与 Python\n",
    "数学很重要，但并不是只有知道数学理论才能 **做** 数学运算。 在这个纳米学位课程中学到的数学知识主要包括：如何使用数学符号，并用代码解决（以及当你不知道代码如何运行的时候，该怎么做）。\n",
    "\n",
    "这个 notebook 演示了一些借助一个名为`SymPy`的 python **库** 进行的数学计算。\n",
    "\n",
    "按下`Shift + Enter`可浏览这些单元格。"
   ]
  },
  {
   "cell_type": "code",
   "execution_count": null,
   "metadata": {},
   "outputs": [],
   "source": [
    "# Press Shift + Enter to run this cell\n",
    "\n",
    "# 1- import everything from sympy \n",
    "from sympy import *  \n",
    "\n",
    "# 2- use a special printing technique to make math look nice\n",
    "init_printing(use_latex=\"mathjax\")\n",
    "\n",
    "# 3- define x, y, and z as \"symbols\"\n",
    "x, y, z = symbols(\"x y z\")"
   ]
  },
  {
   "cell_type": "code",
   "execution_count": null,
   "metadata": {},
   "outputs": [],
   "source": [
    "# write polynomials\n",
    "\n",
    "3*x**2 + 2*x - 7"
   ]
  },
  {
   "cell_type": "code",
   "execution_count": null,
   "metadata": {},
   "outputs": [],
   "source": [
    "# automatically simplify\n",
    "\n",
    "(x + 1) / (x - 1) * (x - 1)"
   ]
  },
  {
   "cell_type": "code",
   "execution_count": null,
   "metadata": {},
   "outputs": [],
   "source": [
    "# factor polynomials\n",
    "\n",
    "factor(x**2 + 2*x + 1)"
   ]
  },
  {
   "cell_type": "code",
   "execution_count": null,
   "metadata": {},
   "outputs": [],
   "source": [
    "# factor polynomials with multiple variables\n",
    "\n",
    "factor(x**2*z + 4*x*y*z + 4*y**2*z)"
   ]
  },
  {
   "cell_type": "code",
   "execution_count": null,
   "metadata": {},
   "outputs": [],
   "source": [
    "# expand from factored form\n",
    "\n",
    "expand( (x+1) ** 3 )"
   ]
  },
  {
   "cell_type": "code",
   "execution_count": null,
   "metadata": {},
   "outputs": [],
   "source": [
    "# trig\n",
    "\n",
    "sin(x)**2 + cos(x)**2"
   ]
  },
  {
   "cell_type": "code",
   "execution_count": null,
   "metadata": {},
   "outputs": [],
   "source": [
    "# trig identities\n",
    "\n",
    "trigsimp( sin(x)**2 + cos(x)**2 )"
   ]
  },
  {
   "cell_type": "code",
   "execution_count": null,
   "metadata": {},
   "outputs": [],
   "source": [
    "# calculus - derivatives of polynomials\n",
    "\n",
    "diff(x**2, x)"
   ]
  },
  {
   "cell_type": "code",
   "execution_count": null,
   "metadata": {},
   "outputs": [],
   "source": [
    "# derivatives of more complex expressions\n",
    "\n",
    "diff( exp(x**2) + sin(x), x)"
   ]
  },
  {
   "cell_type": "code",
   "execution_count": null,
   "metadata": {},
   "outputs": [],
   "source": [
    "# integrals\n",
    "\n",
    "Integral( exp(-x**2) , x)"
   ]
  },
  {
   "cell_type": "code",
   "execution_count": null,
   "metadata": {},
   "outputs": [],
   "source": [
    "# indefinite integrals\n",
    "\n",
    "integrate( cos(x), x ) "
   ]
  },
  {
   "cell_type": "code",
   "execution_count": null,
   "metadata": {},
   "outputs": [],
   "source": [
    "# definite integrals\n",
    "\n",
    "integrate( exp(-x), (x, 0, oo) )"
   ]
  },
  {
   "cell_type": "code",
   "execution_count": null,
   "metadata": {},
   "outputs": [],
   "source": [
    "# Demo of what happens after repeated \n",
    "# integration FIRST run this cell once...\n",
    "\n",
    "demo = x"
   ]
  },
  {
   "cell_type": "code",
   "execution_count": null,
   "metadata": {},
   "outputs": [],
   "source": [
    "# ...then press Ctrl + Enter SEVERAL TIMES \n",
    "# to keep integrating\n",
    "demo = integrate(demo, x)\n",
    "demo"
   ]
  }
 ],
 "metadata": {
  "kernelspec": {
   "display_name": "Python 3",
   "language": "python",
   "name": "python3"
  },
  "language_info": {
   "codemirror_mode": {
    "name": "ipython",
    "version": 3
   },
   "file_extension": ".py",
   "mimetype": "text/x-python",
   "name": "python",
   "nbconvert_exporter": "python",
   "pygments_lexer": "ipython3",
   "version": "3.6.3"
  }
 },
 "nbformat": 4,
 "nbformat_minor": 2
}
