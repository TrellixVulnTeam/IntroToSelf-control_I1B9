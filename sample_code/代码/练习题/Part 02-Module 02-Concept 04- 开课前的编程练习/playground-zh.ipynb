{
 "cells": [
  {
   "cell_type": "markdown",
   "metadata": {},
   "source": [
    "# 编程练习\n",
    "这是一个**Jupyter Notebook**。 在整个该纳米学位课程中，你的大部分编程工作将要在这样的 notebook 上进行。\n",
    "\n",
    "选择下面的单元格（其中包含Python代码）并按下`Ctrl + Enter`（此符号表示“同时按下Ctrl键与Enter键）"
   ]
  },
  {
   "cell_type": "code",
   "execution_count": 2,
   "metadata": {},
   "outputs": [
    {
     "name": "stdout",
     "output_type": "stream",
     "text": [
      "Hello World!\n"
     ]
    }
   ],
   "source": [
    "# Press Ctrl + Enter to run this code\n",
    "print(\"Hello World!\")"
   ]
  },
  {
   "cell_type": "markdown",
   "metadata": {},
   "source": [
    "## 秘密信息\n",
    "下面单元格中的代码执行了一个文件的 python **`import`**，并将**秘密信息**存储为变量。不要过分担心这意味着什么，但请尝试对这些信息进行探究。"
   ]
  },
  {
   "cell_type": "code",
   "execution_count": 4,
   "metadata": {},
   "outputs": [
    {
     "ename": "ModuleNotFoundError",
     "evalue": "No module named 'autoreload '",
     "output_type": "error",
     "traceback": [
      "\u001b[0;31m---------------------------------------------------------------------------\u001b[0m",
      "\u001b[0;31mModuleNotFoundError\u001b[0m                       Traceback (most recent call last)",
      "\u001b[0;32m<ipython-input-4-af8effeec642>\u001b[0m in \u001b[0;36m<module>\u001b[0;34m\u001b[0m\n\u001b[1;32m      2\u001b[0m \u001b[0;34m\u001b[0m\u001b[0m\n\u001b[1;32m      3\u001b[0m \u001b[0;31m# this code will be explained later, ignore it for now\u001b[0m\u001b[0;34m\u001b[0m\u001b[0;34m\u001b[0m\u001b[0;34m\u001b[0m\u001b[0m\n\u001b[0;32m----> 4\u001b[0;31m \u001b[0mget_ipython\u001b[0m\u001b[0;34m(\u001b[0m\u001b[0;34m)\u001b[0m\u001b[0;34m.\u001b[0m\u001b[0mrun_line_magic\u001b[0m\u001b[0;34m(\u001b[0m\u001b[0;34m'load_ext'\u001b[0m\u001b[0;34m,\u001b[0m \u001b[0;34m'autoreload '\u001b[0m\u001b[0;34m)\u001b[0m\u001b[0;34m\u001b[0m\u001b[0;34m\u001b[0m\u001b[0m\n\u001b[0m\u001b[1;32m      5\u001b[0m \u001b[0mget_ipython\u001b[0m\u001b[0;34m(\u001b[0m\u001b[0;34m)\u001b[0m\u001b[0;34m.\u001b[0m\u001b[0mrun_line_magic\u001b[0m\u001b[0;34m(\u001b[0m\u001b[0;34m'autoreload'\u001b[0m\u001b[0;34m,\u001b[0m \u001b[0;34m'2'\u001b[0m\u001b[0;34m)\u001b[0m\u001b[0;34m\u001b[0m\u001b[0;34m\u001b[0m\u001b[0m\n\u001b[1;32m      6\u001b[0m \u001b[0;34m\u001b[0m\u001b[0m\n",
      "\u001b[0;32m/anaconda3/lib/python3.7/site-packages/IPython/core/interactiveshell.py\u001b[0m in \u001b[0;36mrun_line_magic\u001b[0;34m(self, magic_name, line, _stack_depth)\u001b[0m\n\u001b[1;32m   2285\u001b[0m                 \u001b[0mkwargs\u001b[0m\u001b[0;34m[\u001b[0m\u001b[0;34m'local_ns'\u001b[0m\u001b[0;34m]\u001b[0m \u001b[0;34m=\u001b[0m \u001b[0msys\u001b[0m\u001b[0;34m.\u001b[0m\u001b[0m_getframe\u001b[0m\u001b[0;34m(\u001b[0m\u001b[0mstack_depth\u001b[0m\u001b[0;34m)\u001b[0m\u001b[0;34m.\u001b[0m\u001b[0mf_locals\u001b[0m\u001b[0;34m\u001b[0m\u001b[0;34m\u001b[0m\u001b[0m\n\u001b[1;32m   2286\u001b[0m             \u001b[0;32mwith\u001b[0m \u001b[0mself\u001b[0m\u001b[0;34m.\u001b[0m\u001b[0mbuiltin_trap\u001b[0m\u001b[0;34m:\u001b[0m\u001b[0;34m\u001b[0m\u001b[0;34m\u001b[0m\u001b[0m\n\u001b[0;32m-> 2287\u001b[0;31m                 \u001b[0mresult\u001b[0m \u001b[0;34m=\u001b[0m \u001b[0mfn\u001b[0m\u001b[0;34m(\u001b[0m\u001b[0;34m*\u001b[0m\u001b[0margs\u001b[0m\u001b[0;34m,\u001b[0m\u001b[0;34m**\u001b[0m\u001b[0mkwargs\u001b[0m\u001b[0;34m)\u001b[0m\u001b[0;34m\u001b[0m\u001b[0;34m\u001b[0m\u001b[0m\n\u001b[0m\u001b[1;32m   2288\u001b[0m             \u001b[0;32mreturn\u001b[0m \u001b[0mresult\u001b[0m\u001b[0;34m\u001b[0m\u001b[0;34m\u001b[0m\u001b[0m\n\u001b[1;32m   2289\u001b[0m \u001b[0;34m\u001b[0m\u001b[0m\n",
      "\u001b[0;32m<decorator-gen-65>\u001b[0m in \u001b[0;36mload_ext\u001b[0;34m(self, module_str)\u001b[0m\n",
      "\u001b[0;32m/anaconda3/lib/python3.7/site-packages/IPython/core/magic.py\u001b[0m in \u001b[0;36m<lambda>\u001b[0;34m(f, *a, **k)\u001b[0m\n\u001b[1;32m    185\u001b[0m     \u001b[0;31m# but it's overkill for just that one bit of state.\u001b[0m\u001b[0;34m\u001b[0m\u001b[0;34m\u001b[0m\u001b[0;34m\u001b[0m\u001b[0m\n\u001b[1;32m    186\u001b[0m     \u001b[0;32mdef\u001b[0m \u001b[0mmagic_deco\u001b[0m\u001b[0;34m(\u001b[0m\u001b[0marg\u001b[0m\u001b[0;34m)\u001b[0m\u001b[0;34m:\u001b[0m\u001b[0;34m\u001b[0m\u001b[0;34m\u001b[0m\u001b[0m\n\u001b[0;32m--> 187\u001b[0;31m         \u001b[0mcall\u001b[0m \u001b[0;34m=\u001b[0m \u001b[0;32mlambda\u001b[0m \u001b[0mf\u001b[0m\u001b[0;34m,\u001b[0m \u001b[0;34m*\u001b[0m\u001b[0ma\u001b[0m\u001b[0;34m,\u001b[0m \u001b[0;34m**\u001b[0m\u001b[0mk\u001b[0m\u001b[0;34m:\u001b[0m \u001b[0mf\u001b[0m\u001b[0;34m(\u001b[0m\u001b[0;34m*\u001b[0m\u001b[0ma\u001b[0m\u001b[0;34m,\u001b[0m \u001b[0;34m**\u001b[0m\u001b[0mk\u001b[0m\u001b[0;34m)\u001b[0m\u001b[0;34m\u001b[0m\u001b[0;34m\u001b[0m\u001b[0m\n\u001b[0m\u001b[1;32m    188\u001b[0m \u001b[0;34m\u001b[0m\u001b[0m\n\u001b[1;32m    189\u001b[0m         \u001b[0;32mif\u001b[0m \u001b[0mcallable\u001b[0m\u001b[0;34m(\u001b[0m\u001b[0marg\u001b[0m\u001b[0;34m)\u001b[0m\u001b[0;34m:\u001b[0m\u001b[0;34m\u001b[0m\u001b[0;34m\u001b[0m\u001b[0m\n",
      "\u001b[0;32m/anaconda3/lib/python3.7/site-packages/IPython/core/magics/extension.py\u001b[0m in \u001b[0;36mload_ext\u001b[0;34m(self, module_str)\u001b[0m\n\u001b[1;32m     31\u001b[0m         \u001b[0;32mif\u001b[0m \u001b[0;32mnot\u001b[0m \u001b[0mmodule_str\u001b[0m\u001b[0;34m:\u001b[0m\u001b[0;34m\u001b[0m\u001b[0;34m\u001b[0m\u001b[0m\n\u001b[1;32m     32\u001b[0m             \u001b[0;32mraise\u001b[0m \u001b[0mUsageError\u001b[0m\u001b[0;34m(\u001b[0m\u001b[0;34m'Missing module name.'\u001b[0m\u001b[0;34m)\u001b[0m\u001b[0;34m\u001b[0m\u001b[0;34m\u001b[0m\u001b[0m\n\u001b[0;32m---> 33\u001b[0;31m         \u001b[0mres\u001b[0m \u001b[0;34m=\u001b[0m \u001b[0mself\u001b[0m\u001b[0;34m.\u001b[0m\u001b[0mshell\u001b[0m\u001b[0;34m.\u001b[0m\u001b[0mextension_manager\u001b[0m\u001b[0;34m.\u001b[0m\u001b[0mload_extension\u001b[0m\u001b[0;34m(\u001b[0m\u001b[0mmodule_str\u001b[0m\u001b[0;34m)\u001b[0m\u001b[0;34m\u001b[0m\u001b[0;34m\u001b[0m\u001b[0m\n\u001b[0m\u001b[1;32m     34\u001b[0m \u001b[0;34m\u001b[0m\u001b[0m\n\u001b[1;32m     35\u001b[0m         \u001b[0;32mif\u001b[0m \u001b[0mres\u001b[0m \u001b[0;34m==\u001b[0m \u001b[0;34m'already loaded'\u001b[0m\u001b[0;34m:\u001b[0m\u001b[0;34m\u001b[0m\u001b[0;34m\u001b[0m\u001b[0m\n",
      "\u001b[0;32m/anaconda3/lib/python3.7/site-packages/IPython/core/extensions.py\u001b[0m in \u001b[0;36mload_extension\u001b[0;34m(self, module_str)\u001b[0m\n\u001b[1;32m     78\u001b[0m             \u001b[0;32mif\u001b[0m \u001b[0mmodule_str\u001b[0m \u001b[0;32mnot\u001b[0m \u001b[0;32min\u001b[0m \u001b[0msys\u001b[0m\u001b[0;34m.\u001b[0m\u001b[0mmodules\u001b[0m\u001b[0;34m:\u001b[0m\u001b[0;34m\u001b[0m\u001b[0;34m\u001b[0m\u001b[0m\n\u001b[1;32m     79\u001b[0m                 \u001b[0;32mwith\u001b[0m \u001b[0mprepended_to_syspath\u001b[0m\u001b[0;34m(\u001b[0m\u001b[0mself\u001b[0m\u001b[0;34m.\u001b[0m\u001b[0mipython_extension_dir\u001b[0m\u001b[0;34m)\u001b[0m\u001b[0;34m:\u001b[0m\u001b[0;34m\u001b[0m\u001b[0;34m\u001b[0m\u001b[0m\n\u001b[0;32m---> 80\u001b[0;31m                     \u001b[0mmod\u001b[0m \u001b[0;34m=\u001b[0m \u001b[0mimport_module\u001b[0m\u001b[0;34m(\u001b[0m\u001b[0mmodule_str\u001b[0m\u001b[0;34m)\u001b[0m\u001b[0;34m\u001b[0m\u001b[0;34m\u001b[0m\u001b[0m\n\u001b[0m\u001b[1;32m     81\u001b[0m                     \u001b[0;32mif\u001b[0m \u001b[0mmod\u001b[0m\u001b[0;34m.\u001b[0m\u001b[0m__file__\u001b[0m\u001b[0;34m.\u001b[0m\u001b[0mstartswith\u001b[0m\u001b[0;34m(\u001b[0m\u001b[0mself\u001b[0m\u001b[0;34m.\u001b[0m\u001b[0mipython_extension_dir\u001b[0m\u001b[0;34m)\u001b[0m\u001b[0;34m:\u001b[0m\u001b[0;34m\u001b[0m\u001b[0;34m\u001b[0m\u001b[0m\n\u001b[1;32m     82\u001b[0m                         print((\"Loading extensions from {dir} is deprecated. \"\n",
      "\u001b[0;32m/anaconda3/lib/python3.7/importlib/__init__.py\u001b[0m in \u001b[0;36mimport_module\u001b[0;34m(name, package)\u001b[0m\n\u001b[1;32m    125\u001b[0m                 \u001b[0;32mbreak\u001b[0m\u001b[0;34m\u001b[0m\u001b[0;34m\u001b[0m\u001b[0m\n\u001b[1;32m    126\u001b[0m             \u001b[0mlevel\u001b[0m \u001b[0;34m+=\u001b[0m \u001b[0;36m1\u001b[0m\u001b[0;34m\u001b[0m\u001b[0;34m\u001b[0m\u001b[0m\n\u001b[0;32m--> 127\u001b[0;31m     \u001b[0;32mreturn\u001b[0m \u001b[0m_bootstrap\u001b[0m\u001b[0;34m.\u001b[0m\u001b[0m_gcd_import\u001b[0m\u001b[0;34m(\u001b[0m\u001b[0mname\u001b[0m\u001b[0;34m[\u001b[0m\u001b[0mlevel\u001b[0m\u001b[0;34m:\u001b[0m\u001b[0;34m]\u001b[0m\u001b[0;34m,\u001b[0m \u001b[0mpackage\u001b[0m\u001b[0;34m,\u001b[0m \u001b[0mlevel\u001b[0m\u001b[0;34m)\u001b[0m\u001b[0;34m\u001b[0m\u001b[0;34m\u001b[0m\u001b[0m\n\u001b[0m\u001b[1;32m    128\u001b[0m \u001b[0;34m\u001b[0m\u001b[0m\n\u001b[1;32m    129\u001b[0m \u001b[0;34m\u001b[0m\u001b[0m\n",
      "\u001b[0;32m/anaconda3/lib/python3.7/importlib/_bootstrap.py\u001b[0m in \u001b[0;36m_gcd_import\u001b[0;34m(name, package, level)\u001b[0m\n",
      "\u001b[0;32m/anaconda3/lib/python3.7/importlib/_bootstrap.py\u001b[0m in \u001b[0;36m_find_and_load\u001b[0;34m(name, import_)\u001b[0m\n",
      "\u001b[0;32m/anaconda3/lib/python3.7/importlib/_bootstrap.py\u001b[0m in \u001b[0;36m_find_and_load_unlocked\u001b[0;34m(name, import_)\u001b[0m\n",
      "\u001b[0;31mModuleNotFoundError\u001b[0m: No module named 'autoreload '"
     ]
    }
   ],
   "source": [
    "import secret_messages\n",
    "\n",
    "# this code will be explained later, ignore it for now\n",
    "%load_ext autoreload \n",
    "%autoreload 2\n",
    "\n",
    "print(\"\"\"You've loaded the secret messages. \n",
    "Now run the cell below this one (Ctrl + Enter)\n",
    "to see the first message!\"\"\")"
   ]
  },
  {
   "cell_type": "code",
   "execution_count": 10,
   "metadata": {},
   "outputs": [
    {
     "name": "stdout",
     "output_type": "stream",
     "text": [
      "\n",
      "Nice work! You found the second message!\n",
      "\n",
      "Now, take a look at the toolbar at the top of the notebook. Insert \n",
      "a new cell and print message_3 by doing the following:\n",
      "\n",
      "1. Select Insert > Insert Cell Below\n",
      "2. Click the new cell to get a cursor. Type the following:\n",
      "\n",
      "print(secret_messages.message_3) \n",
      "\n",
      "3. Press Ctrl + Enter to run\n",
      "\n"
     ]
    }
   ],
   "source": [
    "print(secret_messages.message_2)"
   ]
  },
  {
   "cell_type": "code",
   "execution_count": 6,
   "metadata": {},
   "outputs": [
    {
     "name": "stdout",
     "output_type": "stream",
     "text": [
      "\n",
      "Great! There is still one more message to find but it's not named \n",
      "what you think. Luckily, you can use autocomplete to discover\n",
      "what it's called. To do that:\n",
      "\n",
      "1. Insert a cell below this one.\n",
      "2. Type the following into the cell (including the . )\n",
      "\n",
      "print(secret_messages.)\n",
      "\n",
      "3. Then, with your cursor to the right of the . press the Tab key on your \n",
      "   keyboard. You should see all of the variables contained in \n",
      "   the secret_messages file.\n",
      "   \n",
      "4. Use the arrow keys to navigate down to the last message and \n",
      "   press enter. If you then run the cell you should see the last\n",
      "   message.\n",
      "\n"
     ]
    }
   ],
   "source": [
    "print(secret_messages.message_3) "
   ]
  },
  {
   "cell_type": "code",
   "execution_count": 7,
   "metadata": {},
   "outputs": [
    {
     "name": "stdout",
     "output_type": "stream",
     "text": [
      "\n",
      "                                               ____\n",
      "                                              |    |                         \n",
      "                                              |  O |                          \n",
      "                                              |    |                         \n",
      "                                  ..---:::::::-----------. ::::;;.\n",
      "                               .'\"\"'\"\"'                  ;;   \\  \":.\n",
      "                            .''                          ;     \\   \"\\__.\n",
      "                          .'                            ;;      ;   \\\";\n",
      "                        .'                              ;   _____;   \\/\n",
      "                      .'                               :; ;\"     \\ ___:'.\n",
      "                    .'--...........................    : =   ____:\"    \\ \\\n",
      "               ..-\"\"                               \"'\"'  o\"'\"     ;     ; :\n",
      "          .--\"\"  .----- ..----...    _.-    --.  ..-\"     ;       ;     ; ;\n",
      "       .\"\"_-     \"--\"\"-----'\"\"    _-\"        .-\"\"         ;        ;    .-.\n",
      "    .'  .'                      .\"         .\"              ;       ;   /. |\n",
      "   /-./'                      .\"          /           _..  ;       ;   ;;;|\n",
      "  :  ;-.______               /       _________==.    /_  \\ ;       ;   ;;;;\n",
      "  ;  / |      \"\"'\"\"'\"\"'\"\".---.\"\"'\"\"'\"          :    /\" \". |;       ; _; ;;;\n",
      " /\"-/  |                /   /                  /   /     ;|;      ;-\" | ;';\n",
      ":-  :   \"'\"----______  /   /              ____.   .  .\"'. ;;   .-\"..T\"   .\n",
      "'. \"  ___            \"\":   '\"\"'\"\"'\"\"'\"\"'\"\"    .   ; ;    ;; ;.\" .\"   '--\"\n",
      " \",   __ \"'\"  \"\"---... :- - - - - - - - - ' '  ; ;  ;    ;;\"  .\"\n",
      "  /. ;  \"'\"---___                             ;  ; ;     ;|.\"\"\n",
      " :  \":           \"'\"----.    .-------.       ;   ; ;     ;:\n",
      "  \\  '--__               \\   \\        \\     /    | ;     ;;\n",
      "   '-..   \"\"'\"---___      :   .______..\\ __/..-\"\"|  ;   ; ;\n",
      "       \"\"--..       \"'\"--\"        m l s         .   \". . ;\n",
      "             \"\"------...                  ..--\"\"      \" :\n",
      "                        \"\"'\"\"'\"\"'\"\"'\"\"'\"\"'    \\        /\n",
      "                                               \"------\"\n",
      "                                               \n",
      "Good work, you've found the final message! \n",
      "\n",
      "But you can add more! Click the \"Jupyter\" logo in the \n",
      "top-left of the notebook and then navigate to secret_messages.py\n",
      "\n",
      "(or if you prefer, explore some of the other notebooks we've \n",
      "created for you to explore).\n",
      "\n",
      "You can add your own variables and then navigate back to this\n",
      "notebook to try printing them.\n",
      "\n"
     ]
    }
   ],
   "source": [
    "print(secret_messages.final_message)"
   ]
  },
  {
   "cell_type": "code",
   "execution_count": null,
   "metadata": {},
   "outputs": [],
   "source": []
  },
  {
   "cell_type": "code",
   "execution_count": 8,
   "metadata": {},
   "outputs": [
    {
     "name": "stdout",
     "output_type": "stream",
     "text": [
      "\n",
      "                                               ____\n",
      "                                              |    |                         \n",
      "                                              |  O |                          \n",
      "                                              |    |                         \n",
      "                                  ..---:::::::-----------. ::::;;.\n",
      "                               .'\"\"'\"\"'                  ;;   \\  \":.\n",
      "                            .''                          ;     \\   \"\\__.\n",
      "                          .'                            ;;      ;   \\\";\n",
      "                        .'                              ;   _____;   \\/\n",
      "                      .'                               :; ;\"     \\ ___:'.\n",
      "                    .'--...........................    : =   ____:\"    \\ \\\n",
      "               ..-\"\"                               \"'\"'  o\"'\"     ;     ; :\n",
      "          .--\"\"  .----- ..----...    _.-    --.  ..-\"     ;       ;     ; ;\n",
      "       .\"\"_-     \"--\"\"-----'\"\"    _-\"        .-\"\"         ;        ;    .-.\n",
      "    .'  .'                      .\"         .\"              ;       ;   /. |\n",
      "   /-./'                      .\"          /           _..  ;       ;   ;;;|\n",
      "  :  ;-.______               /       _________==.    /_  \\ ;       ;   ;;;;\n",
      "  ;  / |      \"\"'\"\"'\"\"'\"\".---.\"\"'\"\"'\"          :    /\" \". |;       ; _; ;;;\n",
      " /\"-/  |                /   /                  /   /     ;|;      ;-\" | ;';\n",
      ":-  :   \"'\"----______  /   /              ____.   .  .\"'. ;;   .-\"..T\"   .\n",
      "'. \"  ___            \"\":   '\"\"'\"\"'\"\"'\"\"'\"\"    .   ; ;    ;; ;.\" .\"   '--\"\n",
      " \",   __ \"'\"  \"\"---... :- - - - - - - - - ' '  ; ;  ;    ;;\"  .\"\n",
      "  /. ;  \"'\"---___                             ;  ; ;     ;|.\"\"\n",
      " :  \":           \"'\"----.    .-------.       ;   ; ;     ;:\n",
      "  \\  '--__               \\   \\        \\     /    | ;     ;;\n",
      "   '-..   \"\"'\"---___      :   .______..\\ __/..-\"\"|  ;   ; ;\n",
      "       \"\"--..       \"'\"--\"        m l s         .   \". . ;\n",
      "             \"\"------...                  ..--\"\"      \" :\n",
      "                        \"\"'\"\"'\"\"'\"\"'\"\"'\"\"'    \\        /\n",
      "                                               \"------\"\n",
      "                                               \n",
      "Good work, you've found the final message! \n",
      "\n",
      "But you can add more! Click the \"Jupyter\" logo in the \n",
      "top-left of the notebook and then navigate to secret_messages.py\n",
      "\n",
      "(or if you prefer, explore some of the other notebooks we've \n",
      "created for you to explore).\n",
      "\n",
      "You can add your own variables and then navigate back to this\n",
      "notebook to try printing them.\n",
      "\n"
     ]
    }
   ],
   "source": [
    "print(secret_messages.final_message)"
   ]
  },
  {
   "cell_type": "code",
   "execution_count": 9,
   "metadata": {
    "scrolled": false
   },
   "outputs": [
    {
     "ename": "SyntaxError",
     "evalue": "invalid syntax (<ipython-input-9-8fc1f6cf8844>, line 2)",
     "output_type": "error",
     "traceback": [
      "\u001b[0;36m  File \u001b[0;32m\"<ipython-input-9-8fc1f6cf8844>\"\u001b[0;36m, line \u001b[0;32m2\u001b[0m\n\u001b[0;31m    print(secret_messages. )\u001b[0m\n\u001b[0m                           ^\u001b[0m\n\u001b[0;31mSyntaxError\u001b[0m\u001b[0;31m:\u001b[0m invalid syntax\n"
     ]
    }
   ],
   "source": [
    "\n",
    "print(secret_messages. )\n"
   ]
  },
  {
   "cell_type": "code",
   "execution_count": null,
   "metadata": {},
   "outputs": [],
   "source": []
  }
 ],
 "metadata": {
  "kernelspec": {
   "display_name": "Python 3",
   "language": "python",
   "name": "python3"
  },
  "language_info": {
   "codemirror_mode": {
    "name": "ipython",
    "version": 3
   },
   "file_extension": ".py",
   "mimetype": "text/x-python",
   "name": "python",
   "nbconvert_exporter": "python",
   "pygments_lexer": "ipython3",
   "version": "3.7.1"
  }
 },
 "nbformat": 4,
 "nbformat_minor": 2
}
