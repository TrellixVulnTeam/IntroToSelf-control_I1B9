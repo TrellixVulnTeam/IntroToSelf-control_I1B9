{
 "cells": [
  {
   "cell_type": "markdown",
   "metadata": {},
   "source": [
    "# 裁剪图像并调整图像大小\n",
    "\n",
    "### 导入资源"
   ]
  },
  {
   "cell_type": "code",
   "execution_count": null,
   "metadata": {},
   "outputs": [],
   "source": [
    "import matplotlib.pyplot as plt\n",
    "import matplotlib.image as mpimg\n",
    "\n",
    "import numpy as np\n",
    "import cv2\n",
    "\n",
    "%matplotlib inline"
   ]
  },
  {
   "cell_type": "markdown",
   "metadata": {},
   "source": [
    "### 读入停车标志的第一张图像"
   ]
  },
  {
   "cell_type": "code",
   "execution_count": null,
   "metadata": {},
   "outputs": [],
   "source": [
    "# Read in the image\n",
    "stop1 = mpimg.imread('images/stop_sign.jpg')\n",
    "\n",
    "print('Image shape: ', stop1.shape)\n",
    "plt.imshow(stop1)"
   ]
  },
  {
   "cell_type": "markdown",
   "metadata": {},
   "source": [
    "### 读入第二张图像"
   ]
  },
  {
   "cell_type": "code",
   "execution_count": null,
   "metadata": {},
   "outputs": [],
   "source": [
    "# Read in the image\n",
    "stop2 = mpimg.imread('images/stop_sign2.jpg')\n",
    "\n",
    "print('Image shape: ', stop2.shape)\n",
    "plt.imshow(stop2)"
   ]
  },
  {
   "cell_type": "markdown",
   "metadata": {},
   "source": [
    "## 裁剪此图像，使其与第一张图像相似"
   ]
  },
  {
   "cell_type": "code",
   "execution_count": null,
   "metadata": {},
   "outputs": [],
   "source": [
    "# To crop and image, you can use image slicing \n",
    "# which is just slicing off a portion of the image array\n",
    "\n",
    "# Make a copy of the image to manipulate\n",
    "image_crop = np.copy(stop2)\n",
    "\n",
    "# Define how many pixels to slice off the sides of the original image\n",
    "row_crop = 90\n",
    "col_crop = 250\n",
    "\n",
    "# Using image slicing, subtract the row_crop from top/bottom and col_crop from left/right\n",
    "image_crop = stop2[row_crop:-row_crop, col_crop:-col_crop, :]\n",
    "\n",
    "plt.imshow(image_crop)"
   ]
  },
  {
   "cell_type": "markdown",
   "metadata": {},
   "source": [
    "## 调整裁剪后的图像大小，使其与第一张图像相同\n",
    "\n",
    "回想一下，第一张图像的形状是`(1500, 1389, 3)`。"
   ]
  },
  {
   "cell_type": "code",
   "execution_count": null,
   "metadata": {},
   "outputs": [],
   "source": [
    "# Use OpenCV's resize function\n",
    "standardized_im = cv2.resize(image_crop, (1389, 1500))\n",
    "\n",
    "print('Image shape: ', standardized_im.shape)\n",
    "\n",
    "# Plot the two images side by side\n",
    "f, (ax1, ax2) = plt.subplots(1, 2, figsize=(20,10))\n",
    "ax1.set_title('Stop sign 1')\n",
    "ax1.imshow(stop1)\n",
    "ax2.set_title('Standardized stop sign 2')\n",
    "ax2.imshow(standardized_im)"
   ]
  },
  {
   "cell_type": "markdown",
   "metadata": {},
   "source": [
    "## 比较这两张图像\n",
    "\n",
    "现在你应该能够逐像素比较这两张图像！\n",
    "我们将在每张中加图像入红色通道值，并且它们应该非常接近，这意味着我们可以使用这种相似性来表征这两张图像。\n",
    "\n",
    "为了对照，在进行比较时，我们还将使用原始`stop_sign2.jpg`看看会发生什么情况。"
   ]
  },
  {
   "cell_type": "code",
   "execution_count": null,
   "metadata": {},
   "outputs": [],
   "source": [
    "# Sum all the red channel values and compare\n",
    "red_sum1 = np.sum(stop1[:,:,0])\n",
    "red_sum2 = np.sum(standardized_im[:,:,0])\n",
    "\n",
    "print('Sum of all red pixel values in the first stop sign image: ', red_sum1)\n",
    "print('Sum of red pixel values in the second, standardized image: ', red_sum2)\n",
    "\n",
    "red_sum_orig = np.sum(stop2[:,:,0])\n",
    "\n",
    "print('\\nFor comparison, the sum of red pixels in the non-standardized image: ', red_sum_orig)\n"
   ]
  },
  {
   "cell_type": "code",
   "execution_count": null,
   "metadata": {},
   "outputs": [],
   "source": [
    "## Note: you have been given two other images:\n",
    "# `yield.jpg` and `walk.jpg`\n",
    "# You can look at these images and see what kind of RGB values might distinguish them"
   ]
  }
 ],
 "metadata": {},
 "nbformat": 4,
 "nbformat_minor": 2
}
