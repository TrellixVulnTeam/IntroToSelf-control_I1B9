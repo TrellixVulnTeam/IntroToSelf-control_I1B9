{
 "cells": [
  {
   "cell_type": "markdown",
   "metadata": {},
   "source": [
    "# 矩阵加法\n",
    "\n",
    "在本练习中，你将编写一个函数，然后输入两个矩阵并输出其总和。在这个过程中，想一想你可以如何使用 for 循环嵌套在另一个 for 循环中。"
   ]
  },
  {
   "cell_type": "code",
   "execution_count": null,
   "metadata": {},
   "outputs": [],
   "source": [
    "### TODO: Write a function called matrix_addition that \n",
    "###     calculate the sum of two matrices\n",
    "###\n",
    "### INPUTS:\n",
    "###    matrix A _ an m x n matrix\n",
    "###    matrix B _ an m x n matrix\n",
    "###\n",
    "### OUPUT:\n",
    "###   matrixSum _ sum of matrix A + matrix B\n",
    "\n",
    "def matrix_addition(matrixA, matrixB):\n",
    "\n",
    "    # initialize matrix to hold the results\n",
    "    matrixSum = []\n",
    "    \n",
    "    # matrix to hold a row for appending sums of each element\n",
    "    row = []\n",
    "    \n",
    "    # TODO: write a for loop within a for loop to iterate over\n",
    "    # the matrices\n",
    "    \n",
    "    # TODO: As you iterate through the matrices, add matching\n",
    "    # elements and append the sum to the row variable\n",
    "    \n",
    "    # TODO: When a row is filled, append the row to matrixSum. \n",
    "    # Then reinitialize row as an empty list\n",
    "    \n",
    "    return matrixSum\n",
    "\n",
    "### When you run this code cell, your matrix addition function\n",
    "### will run on the A and B matrix.\n",
    "\n",
    "A = [\n",
    "    [2,5,1], \n",
    "    [6,9,7.4], \n",
    "    [2,1,1], \n",
    "    [8,5,3], \n",
    "    [2,1,6], \n",
    "    [5,3,1]\n",
    "]\n",
    "\n",
    "B = [\n",
    "    [7, 19, 5.1], \n",
    "    [6.5,9.2,7.4], \n",
    "    [2.8,1.5,12], \n",
    "    [8,5,3], \n",
    "    [2,1,6], \n",
    "    [2,33,1]\n",
    "]\n",
    "\n",
    "matrix_addition(A, B)"
   ]
  },
  {
   "cell_type": "markdown",
   "metadata": {},
   "source": [
    "### 矢量与矩阵\n",
    "\n",
    "如果你运行下面的单元会发生什么？ 在这里，将两个矢量加在一起。你的代码是否会依然有效？"
   ]
  },
  {
   "cell_type": "code",
   "execution_count": null,
   "metadata": {},
   "outputs": [],
   "source": [
    "matrix_addition([4, 2, 1], [5, 2, 7])"
   ]
  },
  {
   "cell_type": "markdown",
   "metadata": {},
   "source": [
    "为什么会出现这个 error？ 因为你的代码假定矩阵是由列表列表表示的二维网格。 但是也可以认为是矩阵的水平向量是由单个列表表示的一维网格。\n",
    "\n",
    "如果将矢量存储为[[4,2,1]]和[[5,2,7]]等列表的列表，会发生什么情况？ 你的函数是否依然有效？ 运行下面的代码单元并找出答案。"
   ]
  },
  {
   "cell_type": "code",
   "execution_count": null,
   "metadata": {},
   "outputs": [],
   "source": [
    "matrix_addition([[4, 2, 1]], [[5, 2, 7]])"
   ]
  },
  {
   "cell_type": "markdown",
   "metadata": {},
   "source": [
    "### 测试你的代码\n",
    "运行下面的单元格。如果没有输出，则结果与预期一样。"
   ]
  },
  {
   "cell_type": "code",
   "execution_count": null,
   "metadata": {},
   "outputs": [],
   "source": [
    "assert matrix_addition([\n",
    "    [1, 2, 3]], \n",
    "    [[4, 5, 6]]) == [[5, 7, 9]]\n",
    "\n",
    "assert matrix_addition([\n",
    "    [4]], [\n",
    "    [5]]) == [[9]]\n",
    "\n",
    "assert matrix_addition([[1, 2, 3], \n",
    "                        [4, 5, 6]], \n",
    "                       [[7, 8, 9], \n",
    "                        [10, 11, 12]]) == [[8, 10, 12], \n",
    "                                           [14, 16, 18]]"
   ]
  }
 ],
 "metadata": {},
 "nbformat": 4,
 "nbformat_minor": 2
}
