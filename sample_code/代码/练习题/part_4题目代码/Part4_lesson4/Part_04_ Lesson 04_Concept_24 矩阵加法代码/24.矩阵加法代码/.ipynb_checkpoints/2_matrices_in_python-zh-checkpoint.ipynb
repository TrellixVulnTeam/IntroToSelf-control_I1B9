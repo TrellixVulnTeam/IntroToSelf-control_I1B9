{
 "cells": [
  {
   "cell_type": "markdown",
   "metadata": {},
   "source": [
    "## 编码矩阵\n",
    "\n",
    "这里的几个练习可以让你逐步入门编码矩阵。 从向量开始，然后慢慢变得更具挑战性。\n",
    "\n",
    "### 向量"
   ]
  },
  {
   "cell_type": "code",
   "execution_count": null,
   "metadata": {},
   "outputs": [],
   "source": [
    "### TODO: Assign the vector <5, 10, 2, 6, 1> to the variable v\n",
    "v = []"
   ]
  },
  {
   "cell_type": "markdown",
   "metadata": {},
   "source": [
    "v变量包含一个Python列表。这个列表也可以被认为是1行5列的1x5矩阵。你如何将这个列表表示为矩阵？"
   ]
  },
  {
   "cell_type": "code",
   "execution_count": null,
   "metadata": {},
   "outputs": [],
   "source": [
    "### TODO: Assign the vector <5, 10, 2, 6, 1> to the variable mv\n",
    "### The difference between a vector and a matrix in Python is that\n",
    "### a matrix is a list of lists.\n",
    "\n",
    "### Hint: See the last quiz on the previous page\n",
    "\n",
    "mv = [[]]"
   ]
  },
  {
   "cell_type": "markdown",
   "metadata": {},
   "source": [
    "你将如何用5行1列的垂直形式表示这个向量？ 在Python中定义矩阵时，每一行都是一个列表。 所以在这种情况下，你有5行，因此需要5个列表。\n",
    "\n",
    "举个例子，这就是向量  $$<5, 7>$$  在Python中看起来像1x2矩阵的样子："
   ]
  },
  {
   "cell_type": "code",
   "execution_count": null,
   "metadata": {},
   "outputs": [],
   "source": [
    "matrix1by2 = [\n",
    "    [5, 7]\n",
    "]"
   ]
  },
  {
   "cell_type": "markdown",
   "metadata": {},
   "source": [
    "下面是相同的向量看起来像2×1矩阵的样子："
   ]
  },
  {
   "cell_type": "code",
   "execution_count": null,
   "metadata": {},
   "outputs": [],
   "source": [
    "matrix2by1 = [\n",
    "    [5], \n",
    "    [7]\n",
    "]"
   ]
  },
  {
   "cell_type": "code",
   "execution_count": null,
   "metadata": {},
   "outputs": [],
   "source": [
    "### TODO: Assign the vector <5, 10, 2, 6, 1> to the variable vT\n",
    "### vT is a 5x1 matrix\n",
    "vT = []"
   ]
  },
  {
   "cell_type": "markdown",
   "metadata": {},
   "source": [
    "### 将矩阵赋值给变量"
   ]
  },
  {
   "cell_type": "code",
   "execution_count": null,
   "metadata": {},
   "outputs": [],
   "source": [
    "### TODO: Assign the following matrix to the variable m\n",
    "### 8 7 1 2 3\n",
    "### 1 5 2 9 0\n",
    "### 8 2 2 4 1\n",
    "\n",
    "m = [[]]"
   ]
  },
  {
   "cell_type": "markdown",
   "metadata": {},
   "source": [
    "### 访问矩阵值"
   ]
  },
  {
   "cell_type": "code",
   "execution_count": null,
   "metadata": {},
   "outputs": [],
   "source": [
    "### TODO: In matrix m, change the value \n",
    "###       in the second row last column from 0 to 5\n",
    "### Hint: You do not need to rewrite the entire matrix\n"
   ]
  },
  {
   "cell_type": "markdown",
   "metadata": {},
   "source": [
    "### 通过矩阵循环做数学运算\n",
    "\n",
    " 用矩阵编码数学运算可能会很棘手。因为矩阵是列表的列表，所以你需要在另一个for循环内使用for循环。外部for循环遍历所有的行，内部for循环遍历所有的列。\n",
    "\n",
    "\n",
    "下面是一些伪代码"
   ]
  },
  {
   "cell_type": "code",
   "execution_count": null,
   "metadata": {},
   "outputs": [],
   "source": [
    "for i in number of rows:\n",
    "    for j in number of columns:\n",
    "         mymatrix[i][j]"
   ]
  },
  {
   "cell_type": "markdown",
   "metadata": {},
   "source": [
    "要计算循环矩阵的次数，你需要知道行数和列数。\n",
    "\n",
    "\n",
    "如果你有一个带有矩阵的变量，怎么才能知道行数呢？ 怎么才能知道列数呢？ 在这里，Python 中的 [len](https://docs.python.org/2/library/functions.html#len) 函数可能会用得上。\n",
    "\n",
    "### 标量乘法"
   ]
  },
  {
   "cell_type": "code",
   "execution_count": null,
   "metadata": {},
   "outputs": [],
   "source": [
    "### TODO: Use for loops to multiply each matrix element by 5\n",
    "###       Store the answer in the r variable. This is called scalar\n",
    "###       multiplication\n",
    "###\n",
    "### HINT: First write a for loop that iterates through the rows\n",
    "###       one row at a time\n",
    "###\n",
    "###       Then write another for loop within the for loop that\n",
    "###       iterates through the columns\n",
    "###\n",
    "###       If you used the variable i to represent rows and j\n",
    "###       to represent columns, then m[i][j] would give you\n",
    "###       access to each element in the matrix\n",
    "###\n",
    "###       Because r is an empty list, you cannot directly assign\n",
    "###       a value like r[i][j] = m[i][j]. You might have to\n",
    "###       work on one row at a time and then use r.append(row).\n",
    "r = []"
   ]
  },
  {
   "cell_type": "markdown",
   "metadata": {},
   "source": [
    "### 输出一个矩阵"
   ]
  },
  {
   "cell_type": "code",
   "execution_count": null,
   "metadata": {},
   "outputs": [],
   "source": [
    "### TODO: Write a function called matrix_print() \n",
    "###       that prints out a matrix in\n",
    "###       a way that is easy to read.\n",
    "###       Each element in a row should be separated by a tab\n",
    "###       And each row should have its own line\n",
    "###       You can test our your results with the m matrix\n",
    "\n",
    "### HINT: You can use a for loop within a for loop\n",
    "### In Python, the print() function will be useful\n",
    "### print(5, '\\t', end = '') will print out the integer 5, \n",
    "###    then add a tab after the 5. The end = '' makes sure that\n",
    "###    the print function does not print out a new line if you do\n",
    "###    not want a new line.\n",
    "\n",
    "### Your output should look like this\n",
    "### 8   7   1   2   3    \n",
    "### 1   5   2   9   5 \n",
    "### 8   2   2   4   1\n",
    "\n",
    "def matrix_print(matrix):\n",
    "    return\n",
    "\n",
    "m = [\n",
    "    [8, 7, 1, 2, 3],\n",
    "    [1, 5, 2, 9, 5],\n",
    "    [8, 2, 2, 4, 1]\n",
    "]\n",
    "\n",
    "matrix_print(m)"
   ]
  },
  {
   "cell_type": "markdown",
   "metadata": {},
   "source": [
    "### 测试你的结果"
   ]
  },
  {
   "cell_type": "code",
   "execution_count": null,
   "metadata": {},
   "outputs": [],
   "source": [
    "### You can run these tests to see if you have the expected\n",
    "### results. If everything is correct, this cell has no output\n",
    "\n",
    "assert v == [5, 10, 2, 6, 1]\n",
    "assert mv == [\n",
    "    [5, 10, 2, 6, 1]\n",
    "]\n",
    "\n",
    "assert vT == [\n",
    "    [5], \n",
    "    [10], \n",
    "    [2], \n",
    "    [6], \n",
    "    [1]]\n",
    "\n",
    "assert m == [\n",
    "    [8, 7, 1, 2, 3], \n",
    "    [1, 5, 2, 9, 5], \n",
    "    [8, 2, 2, 4, 1]\n",
    "]\n",
    "\n",
    "assert r == [\n",
    "    [40, 35, 5, 10, 15], \n",
    "    [5, 25, 10, 45, 25], \n",
    "    [40, 10, 10, 20, 5]\n",
    "]"
   ]
  },
  {
   "cell_type": "markdown",
   "metadata": {},
   "source": [
    "### 输出你的结果"
   ]
  },
  {
   "cell_type": "code",
   "execution_count": null,
   "metadata": {},
   "outputs": [],
   "source": [
    "### Run this cell to print out your answers\n",
    "print(v)\n",
    "print(mv)\n",
    "print(vT)\n",
    "print(m)\n",
    "print(r)"
   ]
  }
 ],
 "metadata": {},
 "nbformat": 4,
 "nbformat_minor": 2
}
