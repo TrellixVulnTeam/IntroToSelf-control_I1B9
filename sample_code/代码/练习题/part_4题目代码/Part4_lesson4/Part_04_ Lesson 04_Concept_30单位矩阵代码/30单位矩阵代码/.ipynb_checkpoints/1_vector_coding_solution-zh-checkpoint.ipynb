{
 "cells": [
  {
   "cell_type": "markdown",
   "metadata": {},
   "source": [
    "## 向量编码参考答案\n",
    "这里有一些例子，可以告诉你在前面做过的练习所达到的水平。"
   ]
  },
  {
   "cell_type": "code",
   "execution_count": null,
   "metadata": {},
   "outputs": [],
   "source": [
    "def add(vector_1, vector_2):\n",
    "    if len(vector_1) != len(vector_2):\n",
    "        print(\"error! vectors must be same size to add\")\n",
    "        return \n",
    "    \n",
    "    new_vector = []\n",
    "    for i in range(len(vector_1)):\n",
    "        value_1 = vector_1[i]\n",
    "        value_2 = vector_2[i]\n",
    "        new_val = value_1 + value_2\n",
    "        new_vector.append(new_val)\n",
    "    \n",
    "    return new_vector\n",
    "\n",
    "v1 = [1,2]\n",
    "v2 = [3,4]\n",
    "\n",
    "v_1_plus_2 = add(v1, v2)\n",
    "\n",
    "print(v1, \"plus\", v2, \"equals\", v_1_plus_2)"
   ]
  },
  {
   "cell_type": "code",
   "execution_count": null,
   "metadata": {},
   "outputs": [],
   "source": [
    "def multiply(scalar, vector):\n",
    "    new_vector = []\n",
    "    for value in vector:\n",
    "        new_value = scalar * value\n",
    "        new_vector.append(new_value)\n",
    "    return new_vector\n",
    "\n",
    "vector = [1,2,3,4,5]\n",
    "number = 3\n",
    "\n",
    "product = multiply(number, vector)\n",
    "\n",
    "print(number, \"times\", vector, \"equals\", product)"
   ]
  },
  {
   "cell_type": "code",
   "execution_count": null,
   "metadata": {},
   "outputs": [],
   "source": [
    "def dot_product(v1, v2):\n",
    "    if len(v1) != len(v2):\n",
    "        print(\"error! Vectors must have same length\")\n",
    "    \n",
    "    result = 0\n",
    "    for i in range(len(v1)):\n",
    "        value_1 = v1[i]\n",
    "        value_2 = v2[i]\n",
    "        result += value_1 * value_2\n",
    "    return result\n",
    "\n",
    "vector_1 = [7,2,3]\n",
    "vector_2 = [1, 10, 4]\n",
    "\n",
    "# should be 39 (7*1 + 2*10 + 3*4)\n",
    "v1_dot_v2 = dot_product(vector_1, vector_2)\n",
    "\n",
    "\n",
    "print(vector_1, \"dot\", vector_2, \"equals\", v1_dot_v2)\n",
    "    "
   ]
  },
  {
   "cell_type": "markdown",
   "metadata": {},
   "source": [
    "在数学符号中，上面的代码可以描述如下：\n",
    "\n",
    "> Given two vectors $\\mathbf{a} = [a_1, a_2, \\ldots, a_n]$ and $\\mathbf{b} = [b_1, b_2, \\ldots, b_n]$, the **dot product** is defined as follows:\n",
    ">\n",
    "> $$\\mathbf{a} \\cdot \\mathbf{b} = \\sum_{i=1}^{n}a_ib_i = a_1b_1 + a_2b_2 + \\ldots + a_nb_n$$"
   ]
  }
 ],
 "metadata": {},
 "nbformat": 4,
 "nbformat_minor": 2
}
