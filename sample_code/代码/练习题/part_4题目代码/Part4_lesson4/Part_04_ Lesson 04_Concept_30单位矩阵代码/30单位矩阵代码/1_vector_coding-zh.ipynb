{
 "cells": [
  {
   "cell_type": "markdown",
   "metadata": {},
   "source": [
    "# Python 中的向量 \n",
    "\n",
    "在下面的练习中，你将要学习的是在 Python 中编码向量。\n",
    "\n",
    "假设你有一个状态向量\n",
    "$$\\mathbf{x_0}$$\n",
    "\n",
    "它表示在你的车辆前方行驶的那辆汽车的 x 位置、y 位置、x 方向上的速度以及 y 方向上的速度。而此刻，你正在跟踪另外一个车辆。\n",
    "\n",
    "目前，另外的那个车辆在你的 x 轴前 5 米，y 轴左 2 米，沿 x 方向行驶的速度是 10 m / s，沿y方向行驶的速度是 0 m / s。 你如何在一个Python 列表中表示这个向量包含 `<x, y, vx, vy>` 的正确顺序？\n",
    "\n",
    "\n",
    "### 向量赋值: 示例 1"
   ]
  },
  {
   "cell_type": "code",
   "execution_count": null,
   "metadata": {},
   "outputs": [],
   "source": [
    "## Practice working with Python vectors\n",
    "\n",
    "## TODO: Assume the state vector contains values for <x, y, vx, vy>\n",
    "## Currently, x = 5, y = 2, vx = 10, vy = 0\n",
    "## Represent this information in a list\n",
    "x0 = []\n"
   ]
  },
  {
   "cell_type": "markdown",
   "metadata": {},
   "source": [
    "### 测试你的代码\n",
    "\n",
    "通过运行下面的单元格来测试你的代码。\n",
    "\n",
    "测试代码要使用 Python Assert 语句。如果你的代码语句可以解析为True 或 False，则 Assert 语句将会：\n",
    "* 如果语句为 True，则没有任何输出\n",
    "* 如果语句为 False，则提示 error\n",
    "\n",
    "\n",
    "对于 Python Assert 语句\n",
    "如果答案不符合预期，它会输出 error。\n",
    "如果答案符合预期，它将没有任何输出。"
   ]
  },
  {
   "cell_type": "code",
   "execution_count": null,
   "metadata": {},
   "outputs": [],
   "source": [
    "### Test Cases \n",
    "### Run these test cases to see if your results are as expected\n",
    "### Running this cell should produce no output if all assertions are True\n",
    "\n",
    "assert x0 == [5, 2, 10, 0]"
   ]
  },
  {
   "cell_type": "markdown",
   "metadata": {},
   "source": [
    "### 向量赋值: 示例 2\n",
    "\n",
    "你前面的车辆已经离你更远了。已知该车辆已经在 x 方向上前进了 3 米，在 y 方向上前进了 5 米，x 方向上的速度增加了 2 米/秒，y 方向上的速度增加了 5 米/秒。\n",
    "\n",
    "将变化的位置和速度存储在名为 xdelta 的列表变数中"
   ]
  },
  {
   "cell_type": "code",
   "execution_count": null,
   "metadata": {},
   "outputs": [],
   "source": [
    "## TODO: Assign the change in position and velocity to the variable\n",
    "## xdelta. Remember that the order of the vector is x, y, vx, vy\n",
    "\n",
    "xdelta = []"
   ]
  },
  {
   "cell_type": "code",
   "execution_count": null,
   "metadata": {},
   "outputs": [],
   "source": [
    "### Test Case \n",
    "### Run this test case to see if your results are as expected\n",
    "### Running this cell should produce no output if all assertions are True\n",
    "\n",
    "assert xdelta == [3, 5, 2, 5]"
   ]
  },
  {
   "cell_type": "markdown",
   "metadata": {},
   "source": [
    "### 向量数学：加法\n",
    "\n",
    "计算跟踪车辆的新位置和速度。以下是你需要执行此操作的几个步骤：\n",
    "\n",
    "* 将一个名为 x1 的空列表初始化\n",
    "* 使用 for 循环将 xdelta 添加到 x0\n",
    "* 使用 append 方法迭代 for 循环时，将结果存储在 x1 中"
   ]
  },
  {
   "cell_type": "code",
   "execution_count": null,
   "metadata": {},
   "outputs": [],
   "source": [
    "## TODO: Add the vectors together element-wise. For example, \n",
    "## element-wise addition of [2, 6] and [10, 3] is [12, 9].\n",
    "## Place the answer in the x1 variable. \n",
    "##\n",
    "## Hint: You can use a for loop. The append method might also\n",
    "## be helpful.\n",
    "\n",
    "x1 = []"
   ]
  },
  {
   "cell_type": "code",
   "execution_count": null,
   "metadata": {},
   "outputs": [],
   "source": [
    "### Test Case \n",
    "### Run this test case to see if your results are as expected\n",
    "### Running this cell should produce no output if all assertions are True\n",
    "assert x1 == [8, 7, 12, 5]"
   ]
  },
  {
   "cell_type": "markdown",
   "metadata": {},
   "source": [
    "### 向量数学:  标量乘法\n",
    "\n",
    "你的当前位置以米为单位，当前速度以米/秒为单位。但是，你需要在公司会议上报告你的结果，而大多数人习惯以英尺而不是米为单位。所以，要将你的位置向量 x1 转换为英尺与英尺/秒。\n",
    "\n",
    "这将会涉及到标量乘法。标量乘法的编码过程与向量加法非常相似。你需要：\n",
    "* 将一个空列表初始化\n",
    "* 使用 for 循环访问向量中的每个元素\n",
    "* 将每个元素乘以标量\n",
    "* 将结果追加到空列表中"
   ]
  },
  {
   "cell_type": "code",
   "execution_count": null,
   "metadata": {},
   "outputs": [],
   "source": [
    "## TODO: Multiply each element in the x1 vector by the conversion\n",
    "## factor shown belowand store the results in the variable s. \n",
    "## Use a for loop\n",
    "\n",
    "meters_to_feet = 1.0 / 0.3048\n",
    "x1feet =[]"
   ]
  },
  {
   "cell_type": "code",
   "execution_count": null,
   "metadata": {},
   "outputs": [],
   "source": [
    "### Test Cases\n",
    "### Run this test case to see if your results are as expected\n",
    "### Running this cell should produce no output if all assertions are True\n",
    "x1feet_sol = [8/.3048, 7/.3048, 12/.3048, 5/.3048]\n",
    "\n",
    "assert(len(x1feet) == len(x1feet_sol)) \n",
    "for response, expected in zip(x1feet, x1feet_sol):\n",
    "    assert(abs(response-expected) < 0.001)"
   ]
  },
  {
   "cell_type": "markdown",
   "metadata": {},
   "source": [
    "### 向量数学: 点积\n",
    "\n",
    "被跟踪的车辆目前所处的状态表示为：\n",
    "$$\\mathbf{x_1} = [8, 7, 12, 5] $$.\n",
    "\n",
    "该车辆在两秒钟内将到达哪里？\n",
    "\n",
    "你可以使用矩阵乘法快速解决这个问题，但我们还没有谈到矩阵乘法。相反，分别考虑一下 x 方向和 y 方向，以及如何使用点积来做到这一点。\n",
    "\n",
    "#### 用点积解决问题\n",
    "你已经知道在 x1 处跟踪的车辆在 x 方向上距离你8米，并且正在以12米/秒的速度行驶。假设速度恒定，2秒后新的 x 位置将是\n",
    "\n",
    "$$8 + 12*2 = 32$$\n",
    "\n",
    "新的 y 位置将是\n",
    "$$7 + 5*2 = 17$$\n",
    "\n",
    "实际上，你可以使用点积解决每个方程：\n",
    "\n",
    "$$x_2 = [8, 7, 12, 5]\\cdot[1, 0, 2, 0] \\\\\\ \n",
    "= 8\\times1 + 7\\times0 + 12\\times2 + 5\\times0 \\\\\\\n",
    "= 32$$\n",
    "\n",
    "$$y_2 = [8, 7, 12, 5]\\cdot[0, 1, 0, 2] \\\\\\ \n",
    "= 8\\times0 + 7\\times1 + 12\\times0 + 5\\times2 \\\\\\\n",
    "= 17$$\n",
    "\n",
    "既然你假设速度恒定，最终的状态向量就是 \n",
    "\n",
    "$$\\mathbf{x_2} = [32, 17, 12, 5]$$\n",
    "\n",
    "#### 编码点积\n",
    "\n",
    " 现在，计算状态向量 $$\\mathbf{x_2}$$，但需要带有代码。你需要计算两个向量的点积。编写一个函数来计算两个Python列表的点积，而不是编写x方向的点积代码然后复制y方向的代码。\n",
    "\n",
    "以下是步骤要点：\n",
    "* 将一个空列表初始化\n",
    "* 初始化一个值为零的变量以累加和\n",
    "* 使用for循环迭代向量。假设两个矢量具有相同的长度\n",
    "* 将这些元素放在一起时，累加和\n",
    "\n",
    "你会在起始代码中看到，根据你的 dotproduct 函数结果，x2 已经在为你进行计算了"
   ]
  },
  {
   "cell_type": "code",
   "execution_count": null,
   "metadata": {},
   "outputs": [],
   "source": [
    "## TODO: Fill in the dotproduct() function to calculate the \n",
    "## dot product of two vectors.\n",
    "##\n",
    "\n",
    "## Here are the inputs and outputs of the dotproduct() function:\n",
    "##     INPUTS: vector, vector\n",
    "##     OUTPUT: dot product of the two vectors\n",
    "##         \n",
    "##\n",
    "## The dot product involves mutliplying the vectors element\n",
    "## by element and then taking the sum of the results\n",
    "##\n",
    "## For example, the dot product of [9, 7, 5] and [2, 3, 4] is \n",
    "## 9*2+7*3 +5*4 = 59\n",
    "## \n",
    "## Hint: You can use a for loop. You will also need to accumulate\n",
    "## the sum as you iterate through the vectors. In Python, you can accumulate \n",
    "## sums with syntax like w = w + 1\n",
    "\n",
    "x2 = []\n",
    "\n",
    "def dotproduct(vectora, vectorb):\n",
    "    \n",
    "    # variable for accumulating the sum\n",
    "    result = 0\n",
    "    \n",
    "    # TODO: Use a for loop to multiply the two vectors\n",
    "    # element by element. Accumulate the sum in the result variable\n",
    "    \n",
    "    \n",
    "    return result\n",
    "    \n",
    "x2 = [dotproduct([8, 7, 12, 5], [1, 0, 2, 0]), \n",
    "      dotproduct([8, 7, 12, 5], [0, 1, 0, 2]),\n",
    "      12,\n",
    "      5]"
   ]
  },
  {
   "cell_type": "code",
   "execution_count": null,
   "metadata": {},
   "outputs": [],
   "source": [
    "### Test Case\n",
    "### Run this test case to see if your results are as expected\n",
    "### Running this cell should produce no output if all assertions are True\n",
    "assert x2 == [32, 17, 12, 5]"
   ]
  }
 ],
 "metadata": {
  "kernelspec": {
   "display_name": "Python 3",
   "language": "python",
   "name": "python3"
  },
  "language_info": {
   "codemirror_mode": {
    "name": "ipython",
    "version": 3
   },
   "file_extension": ".py",
   "mimetype": "text/x-python",
   "name": "python",
   "nbconvert_exporter": "python",
   "pygments_lexer": "ipython3",
   "version": "3.6.3"
  }
 },
 "nbformat": 4,
 "nbformat_minor": 2
}
