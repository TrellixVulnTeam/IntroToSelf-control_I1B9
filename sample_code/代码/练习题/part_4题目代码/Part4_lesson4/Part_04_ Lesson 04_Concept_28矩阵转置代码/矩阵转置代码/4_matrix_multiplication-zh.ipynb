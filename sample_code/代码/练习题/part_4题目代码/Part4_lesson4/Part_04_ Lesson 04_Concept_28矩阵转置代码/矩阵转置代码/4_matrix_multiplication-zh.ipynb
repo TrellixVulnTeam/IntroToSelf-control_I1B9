{
 "cells": [
  {
   "cell_type": "markdown",
   "metadata": {},
   "source": [
    "# 矩阵乘法\n",
    "\n",
    "矩阵乘法涉及编写代码方面的很多步骤。但需要牢记的是，矩阵乘法的基本知识包括在矩阵A中取一行，并在矩阵B中找到一个列的点积。\n",
    "\n",
    "所以你要写一个函数，并从矩阵A中提取一行，从矩阵B中提取一列，然后计算该行和该列的点积。\n",
    "\n",
    "然后你可以使用这些函数输出这两个矩阵相乘的结果。\n",
    "\n",
    "这是你将要编写的代码的总体概述。假设你正在计算点积\n",
    "\n",
    "$$A\\times{B}$$\n",
    "\n",
    "* 编写一个循环遍历矩阵A的m行和矩阵B的P列的嵌套for循环\n",
    "* 把将要保存最终矩阵值的空列表初始化\n",
    "* 从矩阵A的第一行开始，找到矩阵B的第一列的点积\n",
    "* 将结果附加到表示最终矩阵中的一行的空列表中\n",
    "* 现在，找到矩阵A的第一行和矩阵B第二列之间的点积\n",
    "* 将结果追加到行列表中\n",
    "* 继续上一步，直到到达B的最后一列\n",
    "* 将行列表追加到输出变量。重新初始化行列表，使其为空。\n",
    "* 然后从矩阵A的第二行开始。遍历B的所有列，得到点积\n",
    "* 等等...\n",
    "\n",
    "# 将该流程分解成几个步骤\n",
    "\n",
    "不是将所有的矩阵乘法代码写入一个函数，而是将这个过程分解为几个函数：\n",
    "\n",
    "**get_row(matrix, row_number)**\n",
    "\n",
    "因为你将需要矩阵A中的行，所以你需要使用一个名为get_row的函数，它会输入一个矩阵和行号，然后返回一行矩阵。我们已为你提供了这个函数。\n",
    "\n",
    "**get_column(matrix, column_number)**\n",
    "\n",
    "同样，你将需要矩阵B中的列。因此，你需要编写一个类似的函数，它可以输入矩阵和列号，然后从矩阵B中返回一列。\n",
    "\n",
    "**dot_product(vectorA, vectorB)**\n",
    "\n",
    "事实上，你已经事先编写了这个函数。 dot_product函数可以用来计算两个向量的点积。\n",
    "\n",
    "**matrix_multiply(matrixA, matrixB)**\n",
    "\n",
    "这是计算两个矩阵乘积的函数。你需要编写一个循环遍历A行和B列的嵌套for循环。对于每个行 - 列组合，你需要计算点积，然后将结果附加到输出矩阵。\n",
    "\n",
    "# get_row\n",
    "\n",
    "第一个函数是get_row函数。我们为你提供了这个函数。\n",
    "\n",
    "get_row函数有两个输入和一个输出。\n",
    "\n",
    "输入\n",
    "* matrix矩阵\n",
    "* row行号\n",
    "\n",
    "输出\n",
    "\n",
    "  ● 表示矩阵中的一行的列表\n",
    "\n",
    "* a list, which represents one row of the matrix\n",
    "\n",
    "在Python中，矩阵是列表的列表。如果你有这样一个矩阵："
   ]
  },
  {
   "cell_type": "code",
   "execution_count": 1,
   "metadata": {},
   "outputs": [],
   "source": [
    "m = [\n",
    "    [5, 9, 11, 2],\n",
    "    [3, 2, 99, 3],\n",
    "    [7, 1, 8, 2]\n",
    "]"
   ]
  },
  {
   "cell_type": "markdown",
   "metadata": {},
   "source": [
    "那么，第一行会访问"
   ]
  },
  {
   "cell_type": "code",
   "execution_count": 2,
   "metadata": {},
   "outputs": [
    {
     "data": {
      "text/plain": [
       "[5, 9, 11, 2]"
      ]
     },
     "execution_count": 2,
     "metadata": {},
     "output_type": "execute_result"
    }
   ],
   "source": [
    "m[0]"
   ]
  },
  {
   "cell_type": "markdown",
   "metadata": {},
   "source": [
    "第二行会访问"
   ]
  },
  {
   "cell_type": "code",
   "execution_count": 3,
   "metadata": {},
   "outputs": [
    {
     "data": {
      "text/plain": [
       "[3, 2, 99, 3]"
      ]
     },
     "execution_count": 3,
     "metadata": {},
     "output_type": "execute_result"
    }
   ],
   "source": [
    "m[1]"
   ]
  },
  {
   "cell_type": "markdown",
   "metadata": {},
   "source": [
    "第三行会访问"
   ]
  },
  {
   "cell_type": "code",
   "execution_count": 4,
   "metadata": {},
   "outputs": [
    {
     "data": {
      "text/plain": [
       "[7, 1, 8, 2]"
      ]
     },
     "execution_count": 4,
     "metadata": {},
     "output_type": "execute_result"
    }
   ],
   "source": [
    "m[2]"
   ]
  },
  {
   "cell_type": "code",
   "execution_count": 5,
   "metadata": {},
   "outputs": [],
   "source": [
    "## TODO: Run this code cell to load the get_row function\n",
    "## You do not need to modify this cell\n",
    "\n",
    "def get_row(matrix, row):\n",
    "    return matrix[row]"
   ]
  },
  {
   "cell_type": "markdown",
   "metadata": {},
   "source": [
    "# 从矩阵中获取列\n",
    "\n",
    "由于矩阵以列表的形式存储，因此提取一行相对简单。 如果A是矩阵，那么"
   ]
  },
  {
   "cell_type": "code",
   "execution_count": null,
   "metadata": {},
   "outputs": [],
   "source": [
    "A[0]"
   ]
  },
  {
   "cell_type": "markdown",
   "metadata": {},
   "source": [
    "将输出矩阵的第一行。"
   ]
  },
  {
   "cell_type": "code",
   "execution_count": null,
   "metadata": {},
   "outputs": [],
   "source": [
    "A[1]"
   ]
  },
  {
   "cell_type": "markdown",
   "metadata": {},
   "source": [
    "输出矩阵的第二行。\n",
    "\n",
    "但是如果你想获得一个矩阵列呢？ 这不是非常方便。 要获得第一列的值，你需要输出："
   ]
  },
  {
   "cell_type": "code",
   "execution_count": null,
   "metadata": {},
   "outputs": [],
   "source": [
    "A[0][0]\n",
    "A[1][0]\n",
    "A[2][0]\n",
    "...\n",
    "A[m][0]"
   ]
  },
  {
   "cell_type": "markdown",
   "metadata": {},
   "source": [
    "对于矩阵乘法，你需要访问B矩阵的列。 因此，编写一个名为get_column的函数，它可以接收一个矩阵和一个从零开始索引的列号。然后，该函数输出一个矢量，该矢量会作为包含该列的列表。 例如"
   ]
  },
  {
   "cell_type": "code",
   "execution_count": null,
   "metadata": {},
   "outputs": [],
   "source": [
    "get_column([\n",
    "        [1, 2, 4], \n",
    "        [7, 8, 1], \n",
    "        [5, 2, 1]\n",
    "        ], \n",
    "    1)"
   ]
  },
  {
   "cell_type": "markdown",
   "metadata": {},
   "source": [
    "将输出第二列"
   ]
  },
  {
   "cell_type": "code",
   "execution_count": null,
   "metadata": {},
   "outputs": [],
   "source": [
    "[2, 8, 2]"
   ]
  },
  {
   "cell_type": "markdown",
   "metadata": {},
   "source": [
    "# get_column\n",
    "\n",
    "get_column函数与get_row函数相似，除了现在你将返回一个列。\n",
    "\n",
    "下面是函数的输入和输出\n",
    "\n",
    "输入\n",
    "* 矩阵\n",
    "* 行号\n",
    "\n",
    "输出\n",
    "* 一个列表，表示矩阵的一列\n",
    "\n",
    "获取矩阵列实际上比获取矩阵行更有难度。\n",
    "\n",
    "再看看这个示例矩阵："
   ]
  },
  {
   "cell_type": "code",
   "execution_count": null,
   "metadata": {},
   "outputs": [],
   "source": [
    "m = [\n",
    "    [5, 9, 11, 2],\n",
    "    [3, 2, 99, 3],\n",
    "    [7, 1, 8, 2]\n",
    "]"
   ]
  },
  {
   "cell_type": "markdown",
   "metadata": {},
   "source": [
    "如果你想提取第一列作为列表[5,3,7]，会出现什么情况。 实际上，你无法像使用一行那样直接获取该列。\n",
    "\n",
    "你需要考虑使用for语句遍历行并获取你想要的列列表的特定值。"
   ]
  },
  {
   "cell_type": "code",
   "execution_count": 6,
   "metadata": {},
   "outputs": [],
   "source": [
    "### TODO: Write a function that receives a matrix and a column number.\n",
    "###       the output should be the column in the form of a list\n",
    "\n",
    "\n",
    "### Example input:\n",
    "# matrix = [\n",
    "#    [5, 9, 11, 2],\n",
    "#    [3, 2, 99, 3],\n",
    "#    [7, 1, 8, 2]\n",
    "# ]\n",
    "#\n",
    "# column_number = 1\n",
    "\n",
    "### Example output:\n",
    "# [9, 2, 1]\n",
    "#\n",
    "\n",
    "def get_column(matrix, column_number):\n",
    "    column = []\n",
    "    for i in range(len(matrix)):\n",
    "        column.append(matrix[i][column_number])\n",
    "    return column"
   ]
  },
  {
   "cell_type": "code",
   "execution_count": 7,
   "metadata": {},
   "outputs": [],
   "source": [
    "### TODO: Run this code to test your get_column function\n",
    "assert get_column([[1, 2, 4], \n",
    "                   [7, 8, 1], \n",
    "                   [5, 2, 1]], 1) == [2, 8, 2]\n",
    "\n",
    "assert get_column([[5]], 0) == [5]"
   ]
  },
  {
   "cell_type": "markdown",
   "metadata": {},
   "source": [
    "### 两个向量的点积\n",
    "\n",
    "作为计算矩阵乘积的一部分，你需要计算矩阵A中某行的点积和矩阵B中的一列。你要多次执行此过程，所以，为什么不将该过程抽象为函数呢？\n",
    "\n",
    "如果考虑A的单行为向量，B的单行也是向量，则可以计算点积。\n",
    "\n",
    "请牢记，要使矩阵乘法有效，A的大小需要为m x n，而B的大小为n x p。 A中的列数必须等于B中的行数，这样的话，就可以计算A的行与B的列之间的点积。\n",
    "\n",
    "需要注意的是， `<a1, a2, a3, a4>` 与 `<b1, b2, b3, b4>` 的点积等于 \n",
    "\n",
    "`a1*b1 + a2*b2 + a3*b3 + a4*b4`"
   ]
  },
  {
   "cell_type": "code",
   "execution_count": 8,
   "metadata": {},
   "outputs": [],
   "source": [
    "### TODO: Write a function called dot_product() that\n",
    "###       has two vectors as inputs and outputs the dot product of the \n",
    "###       two vectors. First, you will need to do element-wise\n",
    "###       multiplication and then sum the results. \n",
    "\n",
    "### HINT: You wrote this function previously in the vector coding\n",
    "###        exercises\n",
    "\n",
    "def dot_product(vector_one, vector_two):\n",
    "    result = 0\n",
    "    for i in range(len(vector_one)):\n",
    "        result += vector_one[i]*vector_two[i]\n",
    "    return result"
   ]
  },
  {
   "cell_type": "code",
   "execution_count": 9,
   "metadata": {},
   "outputs": [],
   "source": [
    "### TODO: Run this cell to test your results\n",
    "\n",
    "assert dot_product([4, 5, 1], [2, 1, 5]) == 18\n",
    "assert dot_product([6], [7]) == 42"
   ]
  },
  {
   "cell_type": "markdown",
   "metadata": {},
   "source": [
    "### 矩阵乘法\n",
    "\n",
    "现在，你要编写一个函数，用它在两个矩阵之间执行矩阵乘法。\n",
    "\n",
    "如果你有一个m×n矩阵和一个n×p矩阵，你的结果将是m×p。\n",
    "\n",
    "根据你的策略，可能需要循环遍历一个空的n×p矩阵并填充每个元素值。"
   ]
  },
  {
   "cell_type": "code",
   "execution_count": 19,
   "metadata": {},
   "outputs": [],
   "source": [
    "### TODO: Write a function called matrix_multiplication that takes\n",
    "###       two matrices,multiplies them together and then returns\n",
    "###       the results\n",
    "###       \n",
    "###       Make sure that your function can handle matrices that contain\n",
    "###       only one row or one column. For example,\n",
    "###       multiplying two matrices of size (4x1)x(1x4) should return a\n",
    "###       4x4 matrix\n",
    "\n",
    "def matrix_multiplication(matrixA, matrixB):\n",
    "    \n",
    "    ### TODO: store the number of rows in A and the number\n",
    "    ###       of columns in B. This will be the size of the output\n",
    "    ###       matrix\n",
    "    ### HINT: The len function in Python will be helpful\n",
    "     \n",
    "    row_result = []\n",
    "    result = []\n",
    "    \n",
    "    # empty list that will hold the product of AxB\n",
    "\n",
    "    \n",
    "    ### TODO:  Write a for loop within a for loop. The outside\n",
    "    ###        for loop will iterate through m_rows.\n",
    "    ###        The inside for loop will iterate through p_columns.\n",
    "    for i in range(len(matrixA)):\n",
    "        for j in range(len(matrixB[0])):\n",
    "            m_rows = get_row(matrixA, i)\n",
    "            p_columns = get_column(matrixB, j)\n",
    "            \n",
    "            a = dot_product(m_rows, p_columns)\n",
    "            #print(a)\n",
    "            row_result.append(a)\n",
    "        result.append(row_result)\n",
    "        row_result = []\n",
    "    ### TODO:  As you iterate through the m_rows and p_columns,\n",
    "    ###        use your get_row function to grab the current A row\n",
    "    ###        and use your get_column function to grab the current\n",
    "    ###        B column.\n",
    "    \n",
    "    \n",
    "    ### TODO: Calculate the dot product of the A row and the B column\n",
    "    \n",
    "    \n",
    "    ### TODO: Append the dot product to an empty list called row_result. \n",
    "    ###       This list will accumulate the values of a row \n",
    "    ###        in the result matrix\n",
    "    \n",
    "    \n",
    "    ### TODO: After iterating through all of the columns in matrix B,\n",
    "    ###       append the row_result list to the result variable. \n",
    "    ###       Reinitialize the row_result to row_result = []. \n",
    "    ###       Your for loop will move down to the next row \n",
    "    ###       of matrix A.\n",
    "    ###       The loop will iterate through all of the columns \n",
    "    ###       taking the dot product\n",
    "    ###       between the row in A and each column in B.\n",
    "    \n",
    "    ### TODO: return the result of AxB\n",
    "    \n",
    "    \n",
    "    return result"
   ]
  },
  {
   "cell_type": "code",
   "execution_count": 20,
   "metadata": {},
   "outputs": [],
   "source": [
    "### TODO: Run this code cell to test your results\n",
    "assert matrix_multiplication([[5], [2]], [[5, 1]]) == [[25, 5], [10, 2]]\n",
    "assert matrix_multiplication([[5, 1]], [[5], [2]]) == [[27]]\n",
    "assert matrix_multiplication([[4]], [[3]]) == [[12]]\n",
    "assert matrix_multiplication([[2, 1, 8, 2, 1], [5, 6, 4, 2, 1]], [[1, 7, 2], [2, 6, 3], [3, 1, 1], [1, 20, 1], [7, 4, 16]]) == [[37, 72, 33], [38, 119, 50]]"
   ]
  },
  {
   "cell_type": "code",
   "execution_count": null,
   "metadata": {},
   "outputs": [],
   "source": []
  }
 ],
 "metadata": {
  "kernelspec": {
   "display_name": "Python 3",
   "language": "python",
   "name": "python3"
  },
  "language_info": {
   "codemirror_mode": {
    "name": "ipython",
    "version": 3
   },
   "file_extension": ".py",
   "mimetype": "text/x-python",
   "name": "python",
   "nbconvert_exporter": "python",
   "pygments_lexer": "ipython3",
   "version": "3.6.3"
  }
 },
 "nbformat": 4,
 "nbformat_minor": 2
}
