{
 "cells": [
  {
   "cell_type": "markdown",
   "metadata": {},
   "source": [
    "# 矩阵转置\n",
    "\n",
    "在这组练习中，你将要用到矩阵的转置。\n",
    "\n",
    "你的第一个任务是编写一个采用矩阵转置的函数。想一想如何高效地使用嵌套 for 循环。\n",
    "\n",
    "第二项任务是编写一个新的矩阵乘法函数，它将要用到你的矩阵转置函数。"
   ]
  },
  {
   "cell_type": "code",
   "execution_count": null,
   "metadata": {},
   "outputs": [],
   "source": [
    "### TODO: Write a function called transpose() that \n",
    "###       takes in a matrix and outputs the transpose of the matrix\n",
    "\n",
    "def transpose(matrix):\n",
    "    matrix_transpose = []\n",
    "    \n",
    "    return matrix_transpose"
   ]
  },
  {
   "cell_type": "code",
   "execution_count": null,
   "metadata": {},
   "outputs": [],
   "source": [
    "### TODO: Run the code in the cell below. If there is no \n",
    "###       output, then your answers were as expected\n",
    "\n",
    "assert transpose([[5, 4, 1, 7], [2, 1, 3, 5]]) == [[5, 2], [4, 1], [1, 3], [7, 5]]\n",
    "assert transpose([[5]]) == [[5]]\n",
    "assert transpose([[5, 3, 2], [7, 1, 4], [1, 1, 2], [8, 9, 1]]) == [[5, 7, 1, 8], [3, 1, 1, 9], [2, 4, 2, 1]]\n"
   ]
  },
  {
   "cell_type": "markdown",
   "metadata": {},
   "source": [
    "### 矩阵乘法\n",
    "\n",
    "现在你的转置函数已经开始正常运行，请编写一个利用转置的矩阵乘法函数。\n",
    "\n",
    "作为矩阵乘法代码的一部分，你可能需要从矩阵乘法练习中再次使用点乘积函数。但是你不再需要 get_row 和 get_column 函数了，因为该转置基本上会把列转换成行向量。\n",
    "\n",
    "请牢记，如果矩阵 A 是 mxn，而矩阵 B 是 nxp，则最终的点积将是mxp。"
   ]
  },
  {
   "cell_type": "code",
   "execution_count": null,
   "metadata": {},
   "outputs": [],
   "source": [
    "### TODO: Write a function called matrix_multiplication() that\n",
    "###       takes in two matrices and outputs the product of the two\n",
    "###       matrices\n",
    "\n",
    "### TODO: Copy your dot_product() function here so that you can\n",
    "###       use it in your matrix_multiplication function\n",
    "\n",
    "def matrix_multiplication(matrixA, matrixB):\n",
    "    product = []\n",
    "    \n",
    "    \n",
    "    ## TODO: Take the transpose of matrixB and store the result\n",
    "    ##       in a new variable\n",
    "    \n",
    "    \n",
    "    ## TODO: Use a nested for loop to iterate through the rows\n",
    "    ## of matrix A and the rows of the tranpose of matrix B\n",
    "    \n",
    "    ## TODO: Calculate the dot product between each row of matrix A\n",
    "    ##         with each row in the transpose of matrix B\n",
    "    \n",
    "    ## TODO: As you calculate the results inside your for loops,\n",
    "    ##       store the results in the product variable\n",
    "    \n",
    "    \n",
    "    ## TODO:\n",
    "    return product"
   ]
  },
  {
   "cell_type": "code",
   "execution_count": null,
   "metadata": {},
   "outputs": [],
   "source": [
    "### TODO: Run the code in the cell below. If there is no \n",
    "###       output, then your answers were as expected\n",
    "\n",
    "assert matrix_multiplication([[5, 3, 1], \n",
    "                              [6, 2, 7]], \n",
    "                             [[4, 2], \n",
    "                              [8, 1], \n",
    "                              [7, 4]]) == [[51, 17], \n",
    "                                           [89, 42]]\n",
    "\n",
    "assert matrix_multiplication([[5]], [[4]]) == [[20]]\n",
    "\n",
    "assert matrix_multiplication([[2, 8, 1, 2, 9],\n",
    "                             [7, 9, 1, 10, 5],\n",
    "                             [8, 4, 11, 98, 2],\n",
    "                             [5, 5, 4, 4, 1]], \n",
    "                             [[4], \n",
    "                              [2], \n",
    "                              [17], \n",
    "                              [80], \n",
    "                              [2]]) == [[219], [873], [8071], [420]]\n",
    "\n",
    "\n",
    "assert matrix_multiplication([[2, 8, 1, 2, 9],\n",
    "                             [7, 9, 1, 10, 5],\n",
    "                             [8, 4, 11, 98, 2],\n",
    "                             [5, 5, 4, 4, 1]], \n",
    "                             [[4, 1, 2], \n",
    "                              [2, 3, 1], \n",
    "                              [17, 8, 1], \n",
    "                              [1, 3, 0], \n",
    "                              [2, 1, 4]]) == [[61, 49, 49], [83, 77, 44], [329, 404, 39], [104, 65, 23]]"
   ]
  }
 ],
 "metadata": {},
 "nbformat": 4,
 "nbformat_minor": 2
}
