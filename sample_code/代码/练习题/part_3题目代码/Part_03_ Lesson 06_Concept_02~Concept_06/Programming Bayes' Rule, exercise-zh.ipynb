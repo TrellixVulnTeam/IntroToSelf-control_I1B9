{
 "cells": [
  {
   "cell_type": "markdown",
   "metadata": {},
   "source": [
    "# 贝叶斯定理\n",
    "\n",
    "贝叶斯定理可以被描述为通过结合与某种判断相关的观测数据（如测试数据或传感器测量）来改进先验判断的一种方法。该法则可表示为：\n",
    "\n",
    "$$P(A|B) = \\frac{P(B|A)\\cdot P(A)} {P(B)}$$\n",
    "\n",
    "其中A是事件，B是一些观察到的相关数据。\n",
    "\n",
    "在下一个测验中，只给出了三个概率：`p_A`，`p_B_given_A`以及`p_notB_given_notA`，它们可以用符号表示为：\n",
    "\n",
    "$$P(A), P(B|A)$$ \n",
    "$$P(\\neg B|\\neg A)$$ \n",
    "\n",
    "你需要写一个用于计算后验概率的函数\n",
    "$$P(A|B)$$\n",
    "\n",
    "*注*: 这是一个具有挑战性的问题，因此请务必测试你的代码，或者使用笔和纸来完成此练习！\n",
    "\n",
    "### TODO: 完成 `bayes` 函数\n",
    "\n",
    "完成此函数，使其能够返回任何输入集合的后验概率。"
   ]
  },
  {
   "cell_type": "code",
   "execution_count": 6,
   "metadata": {},
   "outputs": [
    {
     "name": "stdout",
     "output_type": "stream",
     "text": [
      "Your function returned that the posterior is: 0.3103448275862069\n"
     ]
    }
   ],
   "source": [
    "# Given three input probabilities, complete this function\n",
    "# so that it returns the posterior probability\n",
    "\n",
    "def bayes(p_A, p_B_given_A, p_notB_given_notA):\n",
    "    \n",
    "    ## TODO: Calculate the posterior probability\n",
    "    ## and change this value\n",
    "    posterior = (p_A*p_B_given_A) / ((p_A*p_B_given_A + (1-p_A) * (1-p_notB_given_notA)))\n",
    "    \n",
    "    return posterior\n",
    "\n",
    "\n",
    "## TODO: Change these values, run your code with them, and use print \n",
    "## statements to see the output of your function and get feedback\n",
    "p_A = 0.2\n",
    "p_B_given_A = 0.9\n",
    "p_notB_given_notA = 0.5\n",
    "\n",
    "posterior = bayes(p_A, p_B_given_A, p_notB_given_notA)\n",
    "print('Your function returned that the posterior is: ' + str(posterior))"
   ]
  },
  {
   "cell_type": "markdown",
   "metadata": {},
   "source": [
    "### 测试单元格\n",
    "\n",
    "运行这个单元格，它将对你的函数输出和正确的预期输出进行对比。\n",
    "\n",
    "**你的代码应通过所有测试，并适用于任何有效的输入值。**"
   ]
  },
  {
   "cell_type": "code",
   "execution_count": 4,
   "metadata": {},
   "outputs": [
    {
     "name": "stdout",
     "output_type": "stream",
     "text": [
      "Your code returned that the posterior is: 0.875, which does not match the correct value.\n"
     ]
    }
   ],
   "source": [
    "# Test code - do not change\n",
    "import solution\n",
    "\n",
    "test_p_A = 0.2\n",
    "test_p_B_given_A = 0.9\n",
    "test_p_notB_given_notA = 0.9\n",
    "\n",
    "# This line calls your function and stores the output\n",
    "posterior = bayes(test_p_A, test_p_B_given_A, test_p_notB_given_notA)\n",
    "correct_posterior = solution.bayes(test_p_A, test_p_B_given_A, test_p_notB_given_notA)\n",
    "\n",
    "# Assertion, comparison test\n",
    "try:\n",
    "    \n",
    "    assert(abs(posterior - correct_posterior) < 0.0001)\n",
    "    print('That\\'s right!')\n",
    "except:\n",
    "    print ('Your code returned that the posterior is: ' +str(posterior) \n",
    "           + ', which does not match the correct value.')"
   ]
  },
  {
   "cell_type": "code",
   "execution_count": null,
   "metadata": {},
   "outputs": [],
   "source": []
  }
 ],
 "metadata": {
  "kernelspec": {
   "display_name": "Python 3",
   "language": "python",
   "name": "python3"
  },
  "language_info": {
   "codemirror_mode": {
    "name": "ipython",
    "version": 3
   },
   "file_extension": ".py",
   "mimetype": "text/x-python",
   "name": "python",
   "nbconvert_exporter": "python",
   "pygments_lexer": "ipython3",
   "version": "3.7.1"
  }
 },
 "nbformat": 4,
 "nbformat_minor": 2
}
