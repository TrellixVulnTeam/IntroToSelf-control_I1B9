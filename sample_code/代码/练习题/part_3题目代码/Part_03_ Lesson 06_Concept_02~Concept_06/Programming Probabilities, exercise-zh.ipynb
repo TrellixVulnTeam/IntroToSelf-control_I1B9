{
 "cells": [
  {
   "cell_type": "markdown",
   "metadata": {},
   "source": [
    "# 计算概率\n",
    "\n",
    "在本课中，你已经了解了关于**贝叶斯定理**的很多知识，并通过很多实例练习了计算事件发生的概率。在下面的测验中，你需要编写一些简单的函数，这些函数可以帮助你计算有限信息的先验概率、联合概率与总概率。这些将是有用的计算，便于在代码中理解与实现。\n",
    "\n",
    "编写完代码后，最好对代码进行测试并解决可能发生的任何一个小错误，所以我鼓励你使用一些测试概率值来运行代码，这样可以查看代码是否按照你期望的方式运行。这个 notebook 中的最后一个单元格也将提供对你的函数输出的反馈！\n",
    "\n",
    "在以下代码测验中，假设你熟悉这些符号：\n",
    "\n",
    "事件A发生的概率是：\n",
    "$$P(A)$$\n",
    "\n",
    "考虑到事件A的发生，另一个事件B或测试B发生的概率是：\n",
    "$$P(B|A)$$\n",
    "\n",
    "考虑到事件A还没有发生，另一个事件B或测试B发生的概率是：\n",
    "$$P(B|\\neg A)$$ \n",
    "\n",
    "### TODO: 完成 `complement` 函数\n",
    "\n",
    "完成该函数，使其返回P（A）的补数，它是事件没有发生的概率。"
   ]
  },
  {
   "cell_type": "code",
   "execution_count": 5,
   "metadata": {},
   "outputs": [
    {
     "name": "stdout",
     "output_type": "stream",
     "text": [
      "Your function returned that the complement of 0.2 is: 0.8\n"
     ]
    }
   ],
   "source": [
    "# The complement function takes in the probability of an event, P(A).\n",
    "def complement(p_A):\n",
    "    \n",
    "    ## TODO: Change the value of complement\n",
    "    ## So that it calculates the complement of any variable p_A\n",
    "    if (p_A <= 1):\n",
    "        c = 1 - p_A\n",
    "        return c\n",
    "    else: \n",
    "        return \"Invalid p_B\"\n",
    "\n",
    "    \n",
    "## TODO: Change this test value and test out your code!\n",
    "p_test = 0.2\n",
    "\n",
    "# Running your code with the p_test value\n",
    "complement_test = complement(p_test)\n",
    "print('Your function returned that the complement of '+str(p_test) +' is: '+str(complement_test))"
   ]
  },
  {
   "cell_type": "markdown",
   "metadata": {},
   "source": [
    "### 测试单元格\n",
    "\n",
    "运行这个单元格，它将对你的函数输出与正确的预期输出进行对比。\n",
    "\n",
    "**Assertions**\n",
    "\n",
    "这个单元格在 Python 中使用了一些名为 `assertions`的语句，这些语句用于检查代码的有效性。在这个示例中下，assertion 用于检查函数comp 的输出等于预期的输出：`correct_comp`，然后输出反馈结果！\n",
    "\n",
    "**你的代码应通过两个测试，并适用于任意p_A值。**"
   ]
  },
  {
   "cell_type": "code",
   "execution_count": 6,
   "metadata": {},
   "outputs": [
    {
     "name": "stdout",
     "output_type": "stream",
     "text": [
      "That's right!\n",
      "That's right!\n"
     ]
    }
   ],
   "source": [
    "# Test code - do not change\n",
    "import solution\n",
    "\n",
    "test_value = 0.4265\n",
    "\n",
    "# This line calls your function and stores the output\n",
    "comp = complement(test_value)\n",
    "correct_comp = solution.complement(test_value)\n",
    "\n",
    "# Assertion, comparison test\n",
    "try:\n",
    "    assert(abs(comp - correct_comp) < 0.0001)\n",
    "    print('That\\'s right!')\n",
    "except:\n",
    "    print ('Your code returned that the complement is: ' +str(comp) \n",
    "           + ', which does not match the correct value: ' +str(correct_comp))\n",
    "\n",
    "\n",
    "# Test 2\n",
    "comp2 = complement(solution.test_value)\n",
    "correct_comp2 = solution.complement(solution.test_value)\n",
    "\n",
    "# Assertion, comparison test\n",
    "try:\n",
    "    assert(abs(comp2 - correct_comp2) < 0.0001)\n",
    "    print('That\\'s right!')\n",
    "except:\n",
    "    print ('For test 2, your code returned that the complement is: ' +str(comp2) \n",
    "           + ', which does not match the correct value.')"
   ]
  },
  {
   "cell_type": "markdown",
   "metadata": {},
   "source": [
    "### 计算联合概率\n",
    "\n",
    "### TODO: 完成 `joint` 函数"
   ]
  },
  {
   "cell_type": "code",
   "execution_count": 9,
   "metadata": {},
   "outputs": [
    {
     "name": "stdout",
     "output_type": "stream",
     "text": [
      "Your function returned that the joint probability is: 0.08000000000000002\n"
     ]
    }
   ],
   "source": [
    "## Complete this joint function\n",
    "def joint(p_A, p_B):\n",
    "    \n",
    "    ## TODO: Change the value of joint_p\n",
    "    ## so that it calculates the joint probability of \n",
    "    ## any variables p_A, p_B, WHEN THOSE PROBABILITIES\n",
    "    ## ARE INDEPENDENT (this code wouldn't work \n",
    "    ## for probabilities that depend on each other).\n",
    "    joint = p_A *  p_B\n",
    "    \n",
    "    return joint\n",
    "\n",
    "    \n",
    "## TODO: Test out your code\n",
    "## Define test probabilities and write print statements to test \n",
    "## the output of your function!\n",
    "p_a_test = 0.2\n",
    "p_b_test = 0.4\n",
    "j = joint(p_a_test, p_b_test)\n",
    "\n",
    "print('Your function returned that the joint probability is: '+str(j))"
   ]
  },
  {
   "cell_type": "markdown",
   "metadata": {},
   "source": [
    "### 测试单元格\n",
    "\n",
    "运行这个单元格，它将对你的函数输出和正确的预期输出进行对比。\n",
    "\n",
    "**你的代码应通过两个测试，并适用于 p_A 和 p_B 的任何值。**"
   ]
  },
  {
   "cell_type": "code",
   "execution_count": 10,
   "metadata": {},
   "outputs": [
    {
     "name": "stdout",
     "output_type": "stream",
     "text": [
      "That's right!\n"
     ]
    }
   ],
   "source": [
    "# Test values\n",
    "test_A = 0.15\n",
    "test_B = 0.42\n",
    "\n",
    "# This line calls your function and stores the output\n",
    "j = joint(test_A, test_B)\n",
    "correct_j = solution.joint(test_A, test_B)\n",
    "\n",
    "# Assertion, comparison test\n",
    "try:\n",
    "    assert(abs(j - correct_j) < 0.0001)\n",
    "    print('That\\'s right!')\n",
    "except:\n",
    "    print ('Your code returned that the joint probability is: ' +str(j) \n",
    "           + ', which does not match the correct value.')\n"
   ]
  },
  {
   "cell_type": "code",
   "execution_count": null,
   "metadata": {},
   "outputs": [],
   "source": []
  }
 ],
 "metadata": {
  "kernelspec": {
   "display_name": "Python 3",
   "language": "python",
   "name": "python3"
  },
  "language_info": {
   "codemirror_mode": {
    "name": "ipython",
    "version": 3
   },
   "file_extension": ".py",
   "mimetype": "text/x-python",
   "name": "python",
   "nbconvert_exporter": "python",
   "pygments_lexer": "ipython3",
   "version": "3.7.1"
  }
 },
 "nbformat": 4,
 "nbformat_minor": 2
}
