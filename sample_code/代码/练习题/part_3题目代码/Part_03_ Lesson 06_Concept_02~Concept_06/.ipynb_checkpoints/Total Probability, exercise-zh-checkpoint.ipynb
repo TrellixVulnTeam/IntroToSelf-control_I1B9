{
 "cells": [
  {
   "cell_type": "markdown",
   "metadata": {},
   "source": [
    "# 总概率\n",
    "\n",
    "此代码用于贝叶斯法则的医学诊断用途。\n",
    "\n",
    "考虑到患者患病的先验概率`p_disease`以及给定被测试者是否患有疾病，测试的结果为阳性的概率`p_pos_given_disease`和`p_pos_given_no_disease`，`total_probability`函数会自动计算阳性测试结果的总概率。在我们通常的数学符号中，这些概率看起来是这样的：\n",
    "\n",
    "$$P(Disease)$$\n",
    "$$P(Positive  Test | Disease)$$\n",
    "$$P(Positive Test | \\neg Disease)$$\n",
    "\n",
    "这个函数将这三个概率作为输入，并返回一个单值表示阳性测试的总概率。这个函数将由你来编写！\n",
    "\n",
    "### TODO: 完成 `total_probability` 函数\n",
    "完成该函数，使其返回疾病测试的总概率，并返回阳性结果。"
   ]
  },
  {
   "cell_type": "code",
   "execution_count": null,
   "metadata": {},
   "outputs": [],
   "source": [
    "# The inputs to total probability are given descriptive names\n",
    "\n",
    "def total_probability(p_disease, p_pos_given_disease, p_pos_given_no_disease):\n",
    "    \n",
    "    ## TODO: Change the value of total so that it calculates the \n",
    "    ## total probability of a positive test result\n",
    "    ## You may use other variable in this function as well as long\n",
    "    ## as total is correct\n",
    "    total = 0\n",
    "    \n",
    "    return total\n",
    "\n",
    "    \n",
    "## TODO: Change these test values, run your function, and write print statements to test your code\n",
    "## Answer the question: what is the probability of a positive test result given the following values?\n",
    "p_disease = 0.2\n",
    "p_pos_given_disease= 0.6\n",
    "p_pos_given_no_disease= 0.6\n",
    "\n",
    "tot = total_probability(p_disease, p_pos_given_disease, p_pos_given_no_disease)\n",
    "print('Your function returned that the total probability is: '+str(tot))"
   ]
  },
  {
   "cell_type": "markdown",
   "metadata": {},
   "source": [
    "### 测试单元格\n",
    "\n",
    "运行这个单元格，它将对你的函数输出与正确的预期输出进行对比。\n",
    "\n",
    "**Assertions**\n",
    "\n",
    "这个单元格在Python中使用了一些名为 `assertions` 的语句，这些语句用于检查代码的有效性。在这个案例中，该语句用于检查函数的输出等于预期的total_probability，然后输出反馈结果！\n",
    "\n",
    "**你的代码应通过所有的测试，并适用于任何给定的概率。**"
   ]
  },
  {
   "cell_type": "code",
   "execution_count": null,
   "metadata": {},
   "outputs": [],
   "source": [
    "# Test code - do not change\n",
    "import solution\n",
    "\n",
    "p_disease = 0.1\n",
    "p_pos_given_disease= 0.9\n",
    "p_pos_given_no_disease= 0.2\n",
    "\n",
    "# This line calls your function and stores the output\n",
    "total = total_probability(p_disease, p_pos_given_disease, p_pos_given_no_disease)\n",
    "correct_total = solution.total_probability(p_disease, p_pos_given_disease, p_pos_given_no_disease)\n",
    "\n",
    "# Assertion, comparison test\n",
    "try:\n",
    "    assert(abs(total - correct_total) < 0.0001)\n",
    "    print('That\\'s right!')\n",
    "except:\n",
    "    print ('Your code returned that the total probability is: ' +str(total) \n",
    "           + ', which does not match the correct value.')"
   ]
  }
 ],
 "metadata": {
  "kernelspec": {
   "display_name": "Python 3",
   "language": "python",
   "name": "python3"
  },
  "language_info": {
   "codemirror_mode": {
    "name": "ipython",
    "version": 3
   },
   "file_extension": ".py",
   "mimetype": "text/x-python",
   "name": "python",
   "nbconvert_exporter": "python",
   "pygments_lexer": "ipython3",
   "version": "3.6.3"
  }
 },
 "nbformat": 4,
 "nbformat_minor": 2
}
