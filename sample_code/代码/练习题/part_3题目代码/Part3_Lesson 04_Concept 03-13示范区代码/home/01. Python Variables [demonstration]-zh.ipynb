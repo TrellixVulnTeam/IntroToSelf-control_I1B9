{
 "cells": [
  {
   "cell_type": "markdown",
   "metadata": {},
   "source": [
    "## 说明\n",
    "1. 仔细阅读下面的代码，然后预测一下运行该代码时会出现什么情况。\n",
    "\n",
    "2. 通过选择下面的单元格并按 `Ctrl + Enter` (或`Shift + Enter`)运行该代码。\n",
    "\n",
    "3. 修改这一行 `p_heads = 0.75` ，这样 `p_heads` 就会有不同的值 (如 0.1)。运行代码时，你认为会发生什么变化？\n",
    "\n",
    "4. 运行该代码并将输出值与你的预期值进行比较。"
   ]
  },
  {
   "cell_type": "code",
   "execution_count": 3,
   "metadata": {},
   "outputs": [
    {
     "name": "stdout",
     "output_type": "stream",
     "text": [
      "The probability of heads is 0.8\n",
      "The probability of tails is 0.19999999999999996\n"
     ]
    }
   ],
   "source": [
    "# Here we assign a value of 0.5 to the variable named p_heads\n",
    "# and then use a print statement.\n",
    "p_heads = 0.5\n",
    "print(\"The probability of heads is\", p_heads)\n",
    "\n",
    "# Here we assign a value to p_tails.\n",
    "p_tails = 1.0 - p_heads\n",
    "print(\"The probability of tails is\", p_tails)"
   ]
  }
 ],
 "metadata": {
  "kernelspec": {
   "display_name": "Python 3",
   "language": "python",
   "name": "python3"
  },
  "language_info": {
   "codemirror_mode": {
    "name": "ipython",
    "version": 3
   },
   "file_extension": ".py",
   "mimetype": "text/x-python",
   "name": "python",
   "nbconvert_exporter": "python",
   "pygments_lexer": "ipython3",
   "version": "3.6.3"
  }
 },
 "nbformat": 4,
 "nbformat_minor": 2
}
