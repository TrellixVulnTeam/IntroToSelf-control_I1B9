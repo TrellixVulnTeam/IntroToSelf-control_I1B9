{
 "cells": [
  {
   "cell_type": "markdown",
   "metadata": {},
   "source": [
    "# 模拟投币翻转[练习]\n",
    "下面的代码展示了如何利用 Python（与  `random` 库）来模拟硬币翻转。\n",
    "\n",
    "### 说明\n",
    "\n",
    "1. 阅读下面的代码。当你运行这段代码时，你觉得你会看到什么？\n",
    "\n",
    "2. 运行该代码。将输出值与你的预期做对比，是否有差异？\n",
    "\n",
    "3. 多运行几次。你得到的结果相同吗？\n",
    "\n",
    "4. 你如何更改代码才能确保“percent heads” **始终** 接近50％？ 尝试修改代码，使输出始终保持在50％上下1％以内（建议：可以通过更改前几行代码中的一个数字来实现此目的）。"
   ]
  },
  {
   "cell_type": "code",
   "execution_count": 1,
   "metadata": {},
   "outputs": [
    {
     "name": "stdout",
     "output_type": "stream",
     "text": [
      "In 1000000 trials there were 500006 heads and 499994 tails\n",
      "PERCENT HEADS: 50.0006 percent\n"
     ]
    }
   ],
   "source": [
    "import random as rd\n",
    "\n",
    "num_trials = 1000000\n",
    "heads = 0\n",
    "tails = 0\n",
    "p_heads = 0.5\n",
    "\n",
    "for i in range(num_trials):\n",
    "    random_number = rd.random()\n",
    "    if random_number < p_heads:\n",
    "        heads = heads + 1\n",
    "    else:\n",
    "        tails += 1\n",
    "\n",
    "print(\"In\", num_trials, \"trials there were\", heads, \"heads and\", tails, \"tails\")\n",
    "print(\"PERCENT HEADS:\", 100 * heads/num_trials, \"percent\")"
   ]
  },
  {
   "cell_type": "code",
   "execution_count": null,
   "metadata": {},
   "outputs": [],
   "source": [
    "# TODO - modify ONE LINE of the above code so that \n",
    "#        running the code above consistently gives a \n",
    "#        \"percent heads\" that's between 49 - 51 percent"
   ]
  }
 ],
 "metadata": {
  "kernelspec": {
   "display_name": "Python 3",
   "language": "python",
   "name": "python3"
  },
  "language_info": {
   "codemirror_mode": {
    "name": "ipython",
    "version": 3
   },
   "file_extension": ".py",
   "mimetype": "text/x-python",
   "name": "python",
   "nbconvert_exporter": "python",
   "pygments_lexer": "ipython3",
   "version": "3.6.3"
  }
 },
 "nbformat": 4,
 "nbformat_minor": 2
}
