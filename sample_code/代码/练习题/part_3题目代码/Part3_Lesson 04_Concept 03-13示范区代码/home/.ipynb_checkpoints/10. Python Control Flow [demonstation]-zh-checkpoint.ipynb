{
 "cells": [
  {
   "cell_type": "markdown",
   "metadata": {},
   "source": [
    "# Python 中的控制流\n",
    "下面的代码演示了如何使用`if`，`elif`和`else`等语句来控制程序执行流程。"
   ]
  },
  {
   "cell_type": "code",
   "execution_count": 1,
   "metadata": {},
   "outputs": [
    {
     "name": "stdout",
     "output_type": "stream",
     "text": [
      "Y is between 5 and 10\n"
     ]
    }
   ],
   "source": [
    "Y = 7\n",
    "if 5 < Y < 10:\n",
    "    print(\"Y is between 5 and 10\")\n",
    "else: \n",
    "    print(\"Y is not between 5 and 10\")"
   ]
  },
  {
   "cell_type": "code",
   "execution_count": 2,
   "metadata": {},
   "outputs": [
    {
     "name": "stdout",
     "output_type": "stream",
     "text": [
      "X is a small number\n"
     ]
    }
   ],
   "source": [
    "X = 4\n",
    "if X < 5:\n",
    "    print(\"X is a small number\")\n",
    "elif X < 20:\n",
    "    print(\"X is a medium sized number\")\n",
    "else:\n",
    "    print(\"X is a big number\")"
   ]
  },
  {
   "cell_type": "code",
   "execution_count": 3,
   "metadata": {},
   "outputs": [
    {
     "name": "stdout",
     "output_type": "stream",
     "text": [
      "True is always True!\n"
     ]
    }
   ],
   "source": [
    "if True:\n",
    "    print(\"True is always True!\")"
   ]
  },
  {
   "cell_type": "code",
   "execution_count": 4,
   "metadata": {},
   "outputs": [],
   "source": [
    "if False:\n",
    "    print(\"This will never be printed\")    "
   ]
  }
 ],
 "metadata": {
  "kernelspec": {
   "display_name": "Python 3",
   "language": "python",
   "name": "python3"
  },
  "language_info": {
   "codemirror_mode": {
    "name": "ipython",
    "version": 3
   },
   "file_extension": ".py",
   "mimetype": "text/x-python",
   "name": "python",
   "nbconvert_exporter": "python",
   "pygments_lexer": "ipython3",
   "version": "3.6.3"
  }
 },
 "nbformat": 4,
 "nbformat_minor": 2
}
