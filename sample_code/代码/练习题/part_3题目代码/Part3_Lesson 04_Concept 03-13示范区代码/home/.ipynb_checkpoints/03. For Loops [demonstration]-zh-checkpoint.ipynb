{
 "cells": [
  {
   "cell_type": "markdown",
   "metadata": {},
   "source": [
    "# For 循环 [示范]\n",
    "下面的代码演示了循环遍历数字 0,1,2,3,4,5 的两种方法"
   ]
  },
  {
   "cell_type": "code",
   "execution_count": null,
   "metadata": {},
   "outputs": [],
   "source": [
    "print(\"1 - demonstrating for loop\")\n",
    "for i in [0,1,2,3,4,5]:\n",
    "    print(i)"
   ]
  },
  {
   "cell_type": "code",
   "execution_count": null,
   "metadata": {},
   "outputs": [],
   "source": [
    "print(\"2 - demonstrating for loop with range()\")\n",
    "for i in range(6):\n",
    "    print(i)"
   ]
  },
  {
   "cell_type": "markdown",
   "metadata": {},
   "source": [
    "###  `range` 函数\n",
    " `range` 函数是你可能会经常使用的一个函数，通常与for循环结合使用。下面的代码显示了如何使用 range 函数输出一个乘法表。\n",
    "\n",
    "阅读下面的代码。你期望看到的输出的最大数值是多少？"
   ]
  },
  {
   "cell_type": "code",
   "execution_count": null,
   "metadata": {},
   "outputs": [],
   "source": [
    "for left_num in range(5):\n",
    "    for right_num in range(5):\n",
    "        product = left_num * right_num\n",
    "        print(left_num, \"x\", right_num, \"=\", product)"
   ]
  }
 ],
 "metadata": {},
 "nbformat": 4,
 "nbformat_minor": 2
}
