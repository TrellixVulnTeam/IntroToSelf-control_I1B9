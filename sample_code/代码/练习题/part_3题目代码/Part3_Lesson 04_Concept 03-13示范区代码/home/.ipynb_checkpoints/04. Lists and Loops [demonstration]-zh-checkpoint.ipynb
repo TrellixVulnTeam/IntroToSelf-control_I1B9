{
 "cells": [
  {
   "cell_type": "markdown",
   "metadata": {},
   "source": [
    "# 列表与循环[示范]\n",
    "下面的代码展示了一些使用 python **列表** （在很多语言中称为 **数组**）的方法。需要注意的是，如何使用 `my_list[i:j]`表示法将这些列表从索引 i “切片”到 j 。"
   ]
  },
  {
   "cell_type": "code",
   "execution_count": null,
   "metadata": {},
   "outputs": [],
   "source": [
    "my_list = [1, 2, 3, \"a\", \"b\", \"c\"]\n",
    "print(\"my_list is:\", my_list)\n"
   ]
  },
  {
   "cell_type": "code",
   "execution_count": null,
   "metadata": {},
   "outputs": [],
   "source": [
    "print(\"Looping through a list...\")\n",
    "for item in my_list:\n",
    "    print(\"item is\", item)\n",
    "    "
   ]
  },
  {
   "cell_type": "code",
   "execution_count": null,
   "metadata": {},
   "outputs": [],
   "source": [
    "print(\"The len function is important!\")\n",
    "num_elements = len(my_list)\n",
    "print(\"my_list has\", num_elements, \"elements\")"
   ]
  },
  {
   "cell_type": "code",
   "execution_count": null,
   "metadata": {},
   "outputs": [],
   "source": [
    "print(\"A less great way to loop through a list...\")\n",
    "for index in range(len(my_list)):\n",
    "    item = my_list[index] # accessing an element in a list!\n",
    "    print(\"item is\", item)\n",
    "    "
   ]
  },
  {
   "cell_type": "code",
   "execution_count": null,
   "metadata": {},
   "outputs": [],
   "source": [
    "print(\"Slicing a list from beginning...\")\n",
    "for item in my_list[:3]:\n",
    "    print(\"item is\", item)\n",
    "    "
   ]
  },
  {
   "cell_type": "code",
   "execution_count": null,
   "metadata": {},
   "outputs": [],
   "source": [
    "print(\"Slicing a list to the end...\")\n",
    "for item in my_list[3:]:\n",
    "    print(\"item is\", item)\n",
    "    "
   ]
  },
  {
   "cell_type": "code",
   "execution_count": null,
   "metadata": {},
   "outputs": [],
   "source": [
    "print(\"Slicing a list in the middle...\")\n",
    "for item in my_list[2:4]:\n",
    "    print(\"item is\", item)\n",
    "    "
   ]
  },
  {
   "cell_type": "code",
   "execution_count": null,
   "metadata": {},
   "outputs": [],
   "source": [
    "print(\"Enumerating a list...\")\n",
    "for i, item in enumerate(my_list):\n",
    "    print(\"item number\", i, \"is\", item)\n",
    "    "
   ]
  },
  {
   "cell_type": "code",
   "execution_count": null,
   "metadata": {},
   "outputs": [],
   "source": [
    "print(\"Another way to enumerate using a list 'method'...\")\n",
    "for item in my_list:\n",
    "    index = my_list.index(item)\n",
    "    print(\"item\", item, \"has index\", index)\n"
   ]
  }
 ],
 "metadata": {},
 "nbformat": 4,
 "nbformat_minor": 2
}
