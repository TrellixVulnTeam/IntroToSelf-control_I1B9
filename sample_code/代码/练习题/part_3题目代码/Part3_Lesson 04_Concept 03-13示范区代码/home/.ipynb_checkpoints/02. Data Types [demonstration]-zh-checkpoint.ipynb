{
 "cells": [
  {
   "cell_type": "markdown",
   "metadata": {},
   "source": [
    "# 数据类型[示范]\n",
    "探索如何在 Python 中定义 **字符串**、 **数字**, 与 **布尔值** 。\n",
    "\n",
    "仔细阅读代码，并尝试预测每个单元格的输出在运行该单元格之前是什么样子的。"
   ]
  },
  {
   "cell_type": "code",
   "execution_count": null,
   "metadata": {},
   "outputs": [],
   "source": [
    "# STRINGS\n",
    "#\n",
    "# In this section you define several variables. These are all defined\n",
    "# to be strings. Note that there are several ways to define a string.\n",
    "# \n",
    "print(\"STRINGS\")\n",
    "my_string_1 = \"hello\"\n",
    "my_string_2 = 'world'\n",
    "my_multiline_string = \"\"\"\n",
    "\n",
    "Dear World,\n",
    "\n",
    "Hello. I am a multiline python string.\n",
    "I'm enclosed in triple quotes. I'd write\n",
    "them here, but that would end the string!\n",
    "\n",
    "I know! I'll use a slash as an escape character.\n",
    "\n",
    "Triple quotes look like this: \\\"\\\"\\\" \n",
    "\n",
    "Sincerely,\n",
    "Python\n",
    "\"\"\"\n",
    "\n",
    "newline_character = \"\\n\"\n",
    "print(\"Now run the cell below to see these strings printed!\")"
   ]
  },
  {
   "cell_type": "code",
   "execution_count": null,
   "metadata": {},
   "outputs": [],
   "source": [
    "print(my_string_1, my_string_2)\n",
    "print(my_multiline_string)\n",
    "print(newline_character)\n",
    "print(\"-----------\")\n",
    "print(newline_character)"
   ]
  },
  {
   "cell_type": "code",
   "execution_count": null,
   "metadata": {},
   "outputs": [],
   "source": [
    "# NUMBERS AND BOOLEANS\n",
    "print(\"NUMBERS\")\n",
    "my_float    = 0.5\n",
    "my_integer  = 7\n",
    "my_negative = -3.5 \n",
    "my_fraction = 1/2\n",
    "\n",
    "# what do you think THIS line of code will assign to the variable\n",
    "# does_half_equal_point_five?\n",
    "does_half_equal_point_five = (my_fraction == my_float)"
   ]
  },
  {
   "cell_type": "code",
   "execution_count": null,
   "metadata": {},
   "outputs": [],
   "source": [
    "print(\"The absolute value of\", my_negative, \"is\", abs(my_negative))\n",
    "print(my_integer, \"squared is equal to\", my_integer ** 2)\n",
    "print(\"Does\", my_fraction, \"equal\", my_float, \"?\", does_half_equal_point_five)"
   ]
  }
 ],
 "metadata": {},
 "nbformat": 4,
 "nbformat_minor": 2
}
