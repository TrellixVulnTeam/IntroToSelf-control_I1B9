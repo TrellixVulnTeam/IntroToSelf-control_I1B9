{
 "cells": [
  {
   "cell_type": "markdown",
   "metadata": {},
   "source": [
    "# 函数[示范]\n",
    "你刚才看到的代码看起来与下面的代码很像。 希望你能够发现，通过改变 num_trials 的值，你也可以改变总体 “heads percentage” 与50％的差距。通过运行越来越多的试验，你会越来越接近一个一致的值，即50％。"
   ]
  },
  {
   "cell_type": "code",
   "execution_count": null,
   "metadata": {},
   "outputs": [],
   "source": [
    "import random as rd\n",
    "\n",
    "num_trials = 100\n",
    "heads = 0\n",
    "tails = 0\n",
    "p_heads = 0.5\n",
    "\n",
    "for i in range(num_trials):\n",
    "    random_number = rd.random()\n",
    "    if random_number < p_heads:\n",
    "        heads = heads + 1\n",
    "    else:\n",
    "        tails += 1"
   ]
  },
  {
   "cell_type": "markdown",
   "metadata": {},
   "source": [
    "现在，我们将通过将其放入我们定义的函数来 **封装** 此代码。 下面的代码展示了如何在 Python中 **定义**  和 **调用** 一个函数。\n",
    "\n",
    "阅读下面的代码时，请注意以下事项：\n",
    "\n",
    "1. **空格 / 缩进**。 许多编程语言使用大括号{}，括号（），括号<>等来划分代码块。 Python则不会！\n",
    "2. **定义函数 与 调用函数** 。第 3-14 行之间的所有代码都是`simulate_coin_flips` 的*定义*，第 16 行显示了你该如何 *调用*  `simulate_coin_flips`。"
   ]
  },
  {
   "cell_type": "code",
   "execution_count": 4,
   "metadata": {},
   "outputs": [
    {
     "name": "stdout",
     "output_type": "stream",
     "text": [
      "0.49965\n"
     ]
    }
   ],
   "source": [
    "import random as rd\n",
    "\n",
    "def simulate_coin_flips(num_trials):\n",
    "    heads = 0\n",
    "    tails = 0\n",
    "    p_heads = 0.5\n",
    "    for i in range(num_trials):\n",
    "        random_number = rd.random()\n",
    "        if random_number < p_heads:\n",
    "            heads = heads + 1\n",
    "        else:\n",
    "            tails += 1\n",
    "    percent_heads = heads / num_trials\n",
    "    return percent_heads\n",
    "    \n",
    "percentage = simulate_coin_flips(20000) # calling the function\n",
    "print(percentage)"
   ]
  },
  {
   "cell_type": "markdown",
   "metadata": {},
   "source": [
    "你现在有一个可以使用的新工具了！ 如果你想尝试用 num_trials 的不同值来调用这个函数，就大胆地尝试吧。"
   ]
  },
  {
   "cell_type": "code",
   "execution_count": 5,
   "metadata": {},
   "outputs": [
    {
     "name": "stdout",
     "output_type": "stream",
     "text": [
      "0.55\n"
     ]
    }
   ],
   "source": [
    "print(simulate_coin_flips(100))"
   ]
  },
  {
   "cell_type": "code",
   "execution_count": 6,
   "metadata": {},
   "outputs": [
    {
     "name": "stdout",
     "output_type": "stream",
     "text": [
      "0.4998\n"
     ]
    }
   ],
   "source": [
    "print(simulate_coin_flips(10000))"
   ]
  },
  {
   "cell_type": "code",
   "execution_count": 7,
   "metadata": {},
   "outputs": [
    {
     "name": "stdout",
     "output_type": "stream",
     "text": [
      "0.501088\n"
     ]
    }
   ],
   "source": [
    "print(simulate_coin_flips(1000000))"
   ]
  }
 ],
 "metadata": {
  "kernelspec": {
   "display_name": "Python 3",
   "language": "python",
   "name": "python3"
  },
  "language_info": {
   "codemirror_mode": {
    "name": "ipython",
    "version": 3
   },
   "file_extension": ".py",
   "mimetype": "text/x-python",
   "name": "python",
   "nbconvert_exporter": "python",
   "pygments_lexer": "ipython3",
   "version": "3.6.3"
  }
 },
 "nbformat": 4,
 "nbformat_minor": 2
}
