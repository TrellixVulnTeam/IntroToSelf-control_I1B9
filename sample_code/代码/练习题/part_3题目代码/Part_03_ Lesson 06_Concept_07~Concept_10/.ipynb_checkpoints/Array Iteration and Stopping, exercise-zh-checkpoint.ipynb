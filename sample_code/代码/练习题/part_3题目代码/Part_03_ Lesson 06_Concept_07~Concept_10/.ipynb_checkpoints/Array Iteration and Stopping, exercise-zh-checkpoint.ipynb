{
 "cells": [
  {
   "cell_type": "markdown",
   "metadata": {},
   "source": [
    "# 迭代与迭代终止\n",
    "\n",
    "本节中的道路与上次示例中的完全相同。现在我们知道如何从代表道路的数组中读取信息，我们希望对这些信息进行处理！ 如果停车标志在正前方，则告知车辆停车。\n",
    "\n",
    "<img src=\"files/images/stop_4.png\" width=\"50%\" height=\"50%\" >\n",
    "\n",
    "### 道路"
   ]
  },
  {
   "cell_type": "code",
   "execution_count": null,
   "metadata": {},
   "outputs": [],
   "source": [
    "import numpy as np\n",
    "\n",
    "# The 1x7 road\n",
    "road = np.array(['r', 'r', 'r', 'r', 'r', 's', 'r'])"
   ]
  },
  {
   "cell_type": "markdown",
   "metadata": {},
   "source": [
    "### TODO: 完成  `find_stop_index` 函数\n",
    "\n",
    "完成此函数，这样它可以返回停车标志*正前方*的单元格的索引（例如，如果停车标志位于索引1处，则返回0）！"
   ]
  },
  {
   "cell_type": "code",
   "execution_count": null,
   "metadata": {},
   "outputs": [],
   "source": [
    "# This function takes in the road and determines where to stop\n",
    "def find_stop_index(road):\n",
    "    ## TODO: Iterate through the road array\n",
    "    ## TODO: Check if a stop sign ('s') is found in the array\n",
    "    ## If one is, break out of your iteration\n",
    "    ## and return the value of the index that is *right before* the stop sign\n",
    "    ## Change the stop_index value\n",
    "    stop_index = 0\n",
    "    \n",
    "    return stop_index\n"
   ]
  },
  {
   "cell_type": "markdown",
   "metadata": {},
   "source": [
    "### 测试单元格\n",
    "\n",
    "运行这个单元格，它将会对你的函数的输出值和正确的预期输出值进行对比。\n",
    "\n",
    "**Assertions**\n",
    "\n",
    "这个单元格在Python中使用了一些称为 `assertions`的语句，这些语句用于检查代码的有效性。在这种例子中，第一个assertion将检查函数的输出：`stop`，是否等于预期的输出：correct_stop，然后输出反馈结果！\n",
    "\n",
    "**你的代码应通过两项测试并适用于任何一个一维道路。**"
   ]
  },
  {
   "cell_type": "code",
   "execution_count": null,
   "metadata": {},
   "outputs": [],
   "source": [
    "# Test code - do not change\n",
    "import array_solution\n",
    "\n",
    "# This line calls the stop function and stores the output\n",
    "stop = find_stop_index(road)\n",
    "correct_stop = array_solution.stop_test(road)\n",
    "\n",
    "# Assertion, comparison test\n",
    "try:\n",
    "    assert(stop == correct_stop)\n",
    "    print('That\\'s right!')\n",
    "except:\n",
    "    print ('Your code returned that the stop index is: ' +str(stop) \n",
    "           + ', which does not match the correct value: ' +str(correct_stop))\n",
    "\n",
    "# Test 2\n",
    "stop2 = find_stop_index(array_solution.test_road)\n",
    "correct_stop2 = array_solution.stop_test(array_solution.test_road)\n",
    "\n",
    "try:\n",
    "    assert(stop2 == correct_stop2)    \n",
    "    print('You passed the second test!')\n",
    "except:\n",
    "    print ('For test 2, your code returned that the stop index is: ' +str(stop2) \n",
    "           + ', which does not match the correct value.')"
   ]
  }
 ],
 "metadata": {
  "kernelspec": {
   "display_name": "Python 3",
   "language": "python",
   "name": "python3"
  },
  "language_info": {
   "codemirror_mode": {
    "name": "ipython",
    "version": 3
   },
   "file_extension": ".py",
   "mimetype": "text/x-python",
   "name": "python",
   "nbconvert_exporter": "python",
   "pygments_lexer": "ipython3",
   "version": "3.6.3"
  }
 },
 "nbformat": 4,
 "nbformat_minor": 2
}
