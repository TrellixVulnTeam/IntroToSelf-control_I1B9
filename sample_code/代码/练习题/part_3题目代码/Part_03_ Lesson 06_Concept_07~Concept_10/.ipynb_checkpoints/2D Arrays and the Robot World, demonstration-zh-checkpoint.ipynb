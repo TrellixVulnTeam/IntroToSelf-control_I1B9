{
 "cells": [
  {
   "cell_type": "markdown",
   "metadata": {},
   "source": [
    "# 机器人世界\n",
    "\n",
    "机器人，与你很像，会通过它的“感官”来感知世界。例如，无人驾驶汽车会使用视频、雷达和激光雷达观察周围的世界。随着汽车不断收集数据，它们会建立起一个三维观察世界，这个三维世界会告诉汽车自己在哪里，其他物体（如树木、行人和其他车辆）在哪里，以及它应该去哪里！\n",
    "\n",
    "在本节中，为简单起见，我们将使用二维世界的表示形式，因为我们通常需要两个维度来解决某个问题。\n",
    "\n",
    "<img src=\"files/images/lidar.png\" width=\"50%\" height=\"50%\">\n",
    "\n",
    "### 二维阵列 \n",
    "\n",
    "这个例子展示了如何将机器人的世界表示为二维观察数组，在这种情况下，我们会使用一个简单的例子，它将使用整型变量来表示是否存在（1）或不存在（0）网格上的位置。\n",
    "\n",
    "例如，能够看到2x4世界的机器人可能会看到这个二维数组："
   ]
  },
  {
   "cell_type": "code",
   "execution_count": null,
   "metadata": {},
   "outputs": [],
   "source": [
    "[[0, 0, 0, 1],\n",
    " [1, 0, 0, 0]]"
   ]
  },
  {
   "cell_type": "markdown",
   "metadata": {},
   "source": [
    "这表明只有两棵树：一棵在这个机器人的世界的最右上角，另一棵在最左下角。实际上，这些树位置的坐标或索引对于右上角是[0,3]，对于左下角是[1,0]。这与指数在Python中的计数方式有关。图形表示如下所示。\n",
    "\n",
    "<img src=\"files/images/2D_trees.png\" width=\"50%\" height=\"50%\">\n",
    "\n",
    "请注意，在该示例中，我们将再次使用`numpy` 库，这个Python库可以帮助我们创建和操作数组。\n",
    "\n",
    "### 定义二维世界"
   ]
  },
  {
   "cell_type": "code",
   "execution_count": null,
   "metadata": {},
   "outputs": [],
   "source": [
    "import numpy as np\n",
    "\n",
    "# A simple robot world can be defined by a 2D array\n",
    "# Here is a 6x5 (num_rows x num_cols) world\n",
    "world = np.array([ [0, 0, 0, 1, 0],\n",
    "                   [0, 0, 0, 1, 0],\n",
    "                   [0, 1, 1, 0, 0],\n",
    "                   [0, 0, 0, 0, 1],\n",
    "                   [1, 0, 0, 1, 0],\n",
    "                   [1, 0, 0, 0, 0] ])\n",
    "\n",
    "# Visualize the world\n",
    "print(world)"
   ]
  },
  {
   "cell_type": "code",
   "execution_count": null,
   "metadata": {},
   "outputs": [],
   "source": [
    "# Print out some information about the world\n",
    "\n",
    "print('The shape of this array is: ' + str(world.shape))\n",
    "print('Notice that the number of rows come before the number of columns!')\n",
    "print('It\\'s height is: ' + str(world.shape[0]) + \n",
    "      ', and it\\'s width is: ' + str(world.shape[1]))"
   ]
  },
  {
   "cell_type": "markdown",
   "metadata": {},
   "source": [
    "### 读取并比较二维数组中的值"
   ]
  },
  {
   "cell_type": "code",
   "execution_count": null,
   "metadata": {},
   "outputs": [],
   "source": [
    "# Access a location and read its value\n",
    "value = world[3][0]\n",
    "print('\\n')\n",
    "print('Value at index [3, 0] = ' +str(value))\n",
    "\n",
    "# Read the first three items in the 3rd row\n",
    "row = 2\n",
    "column_index = 0\n",
    "value_left = world[row, column_index]\n",
    "value_middle = world[row, column_index + 1]\n",
    "value_right = world[row, column_index + 2]\n",
    "\n",
    "print('\\nThe first three values in row 2 : ' +str(value_left)+', '\n",
    "                                              +str(value_middle) +', '\n",
    "                                              +str(value_right) )\n",
    "\n",
    "# Compare the first two values and print the result\n",
    "compare = world[0][0] == world[0][1]\n",
    "print('\\nDo the first two values match? ' + str(compare))"
   ]
  },
  {
   "cell_type": "markdown",
   "metadata": {},
   "source": [
    "### 更改数组并种植一棵树！"
   ]
  },
  {
   "cell_type": "code",
   "execution_count": null,
   "metadata": {},
   "outputs": [],
   "source": [
    "# Define a function to plant a tree \n",
    "# and change the value of the array in that location\n",
    "def plant_tree(y, x):\n",
    "    # check that the indices are in the boundaries of the array dimensions\n",
    "    if(y < world.shape[0] and x < world.shape[1]):\n",
    "        world[y,x] = 1\n",
    "        print('\\n' + str(world)) # prints a newline and the current world\n",
    "\n",
    "# Call the function at the location x = 3, and y = 2\n",
    "# You can call this multiple times in a row\n",
    "plant_tree(0, 2)"
   ]
  }
 ],
 "metadata": {},
 "nbformat": 4,
 "nbformat_minor": 2
}
