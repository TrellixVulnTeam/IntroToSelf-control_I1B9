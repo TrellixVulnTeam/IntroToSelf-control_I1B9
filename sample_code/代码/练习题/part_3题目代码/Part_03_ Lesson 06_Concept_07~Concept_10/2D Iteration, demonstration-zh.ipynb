{
 "cells": [
  {
   "cell_type": "markdown",
   "metadata": {},
   "source": [
    "# 二维迭代\n",
    "\n",
    "在这个演示中，你将看到如何使用嵌套循环迭代二维数组。此外，我们将使用我们的迭代技能来定位这个世界中的树！\n",
    "\n",
    "### 创造这个世界"
   ]
  },
  {
   "cell_type": "code",
   "execution_count": 1,
   "metadata": {},
   "outputs": [
    {
     "name": "stdout",
     "output_type": "stream",
     "text": [
      "[[0 0 0 1 0]\n",
      " [0 0 0 1 0]\n",
      " [0 1 1 0 0]\n",
      " [0 0 0 0 1]\n",
      " [1 0 0 1 0]\n",
      " [1 0 0 0 0]]\n",
      "\n",
      "The shape of this array is: (6, 5)\n"
     ]
    }
   ],
   "source": [
    "import numpy as np\n",
    "\n",
    "# A 6x5 robot world\n",
    "world = np.array([ [0, 0, 0, 1, 0],\n",
    "                   [0, 0, 0, 1, 0],\n",
    "                   [0, 1, 1, 0, 0],\n",
    "                   [0, 0, 0, 0, 1],\n",
    "                   [1, 0, 0, 1, 0],\n",
    "                   [1, 0, 0, 0, 0] ])\n",
    "\n",
    "# Print out some information about the world\n",
    "print(world)\n",
    "print('\\nThe shape of this array is: ' + str(world.shape))"
   ]
  },
  {
   "cell_type": "markdown",
   "metadata": {},
   "source": [
    "### 迭代这个世界中所有的项"
   ]
  },
  {
   "cell_type": "code",
   "execution_count": 2,
   "metadata": {},
   "outputs": [
    {
     "name": "stdout",
     "output_type": "stream",
     "text": [
      "\n",
      "\n",
      "Index [0][0] = 0\n",
      "Index [0][1] = 0\n",
      "Index [0][2] = 0\n",
      "Index [0][3] = 1\n",
      "Index [0][4] = 0\n",
      "Index [1][0] = 0\n",
      "Index [1][1] = 0\n",
      "Index [1][2] = 0\n",
      "Index [1][3] = 1\n",
      "Index [1][4] = 0\n",
      "Index [2][0] = 0\n",
      "Index [2][1] = 1\n",
      "Index [2][2] = 1\n",
      "Index [2][3] = 0\n",
      "Index [2][4] = 0\n",
      "Index [3][0] = 0\n",
      "Index [3][1] = 0\n",
      "Index [3][2] = 0\n",
      "Index [3][3] = 0\n",
      "Index [3][4] = 1\n",
      "Index [4][0] = 1\n",
      "Index [4][1] = 0\n",
      "Index [4][2] = 0\n",
      "Index [4][3] = 1\n",
      "Index [4][4] = 0\n",
      "Index [5][0] = 1\n",
      "Index [5][1] = 0\n",
      "Index [5][2] = 0\n",
      "Index [5][3] = 0\n",
      "Index [5][4] = 0\n"
     ]
    }
   ],
   "source": [
    "# This function uses nested for loops and knowledge\n",
    "# about the shape of the array to print out each item with it's index\n",
    "def iterate2D(world):\n",
    "    # y-dimension (rows)\n",
    "    for i in range(0, world.shape[0]):\n",
    "        # x-dimension (columns)\n",
    "        for j in range(0, world.shape[1]):\n",
    "            print('Index ['+str(i)+']['+str(j)+'] = ' +str(world[i][j]))\n",
    "\n",
    "# Call the iterate function\n",
    "print('\\n')\n",
    "iterate2D(world)"
   ]
  },
  {
   "cell_type": "markdown",
   "metadata": {},
   "source": [
    "### 在这个世界中，找到第一棵树 `1`"
   ]
  },
  {
   "cell_type": "code",
   "execution_count": 4,
   "metadata": {},
   "outputs": [
    {
     "name": "stdout",
     "output_type": "stream",
     "text": [
      "\n",
      "\n",
      "First tree found at location: [0][3]\n",
      "First tree found at location: [1][3]\n",
      "First tree found at location: [2][1]\n",
      "First tree found at location: [2][2]\n",
      "First tree found at location: [3][4]\n",
      "First tree found at location: [4][0]\n",
      "First tree found at location: [4][3]\n",
      "First tree found at location: [5][0]\n"
     ]
    }
   ],
   "source": [
    "# This function is similar to our iterate2D function,\n",
    "# But looks for the first tree in the array and prints its location [x][y]\n",
    "def first_tree(world):\n",
    "    # iterates through all indices starting at the top-left [0][0]\n",
    "    for i in range(0, world.shape[0]):\n",
    "        for j in range(0, world.shape[1]):\n",
    "            # check if a tree is found\n",
    "            if(world[i][j] == 1):\n",
    "                # if so, print the index and leave the loop with a return statement\n",
    "                print('First tree found at location: ['+str(i)+']['+str(j)+']')\n",
    "                return \n",
    "\n",
    "            \n",
    "# Call the first_tree function\n",
    "print('\\n')\n",
    "first_tree(world)"
   ]
  },
  {
   "cell_type": "code",
   "execution_count": null,
   "metadata": {},
   "outputs": [],
   "source": []
  }
 ],
 "metadata": {
  "kernelspec": {
   "display_name": "Python 3",
   "language": "python",
   "name": "python3"
  },
  "language_info": {
   "codemirror_mode": {
    "name": "ipython",
    "version": 3
   },
   "file_extension": ".py",
   "mimetype": "text/x-python",
   "name": "python",
   "nbconvert_exporter": "python",
   "pygments_lexer": "ipython3",
   "version": "3.7.1"
  }
 },
 "nbformat": 4,
 "nbformat_minor": 2
}
