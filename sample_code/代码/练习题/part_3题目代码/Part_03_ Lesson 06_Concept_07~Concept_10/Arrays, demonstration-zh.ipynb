{
 "cells": [
  {
   "cell_type": "markdown",
   "metadata": {},
   "source": [
    "# 数组\n",
    "\n",
    "数组是可以包含多个值的数据结构，类似于Python中的列表，但它们只包含一种类型的数据，即所有整数或全部字符，它们通常用于表示机器人的环境。这在一个例子中最容易看到，即假设我们有一辆无人驾驶的汽车在单线道路上行驶，并且在该道路的尽头附近有一个停车标志，如下图所示。\n",
    "\n",
    "<img src=\"files/images/road1.png\" width=\"50%\" height=\"50%\">\n",
    "\n",
    "### 道路数组\n",
    "\n",
    "我们可以将这条道路当作一个数组来处理，并将其分解成一个机器人可以理解的网格单元格；每个网格单元格都将包含有关我们可以用来帮助汽车导航的道路信息！\n",
    "\n",
    "<img src=\"files/images/numbered_grid2.png\" width=\"50%\" height=\"50%\">\n",
    "\n",
    "在Python代码中，道路将包含两个字符值：`'r'`表示道路，`'s'`表示停车标志。然后我们可以创建一个遍历这个数组的程序，检查停车标志（'s'）并使汽车停在停车标志*正前方* 的单元格中（在这种情况下是在一个单元格之前）。\n",
    "\n",
    "请注意，在这个示例中，我们将使用`numpy`库，它是一个Python库，可以帮助我们创建和操作数组；它通常用于包括无人驾驶汽车在内的各种应用中，我们会在代码中多次看到它。"
   ]
  },
  {
   "cell_type": "code",
   "execution_count": 2,
   "metadata": {},
   "outputs": [
    {
     "name": "stdout",
     "output_type": "stream",
     "text": [
      "['r' 'r' 'r' 'r' 'r' 's' 'r']\n"
     ]
    }
   ],
   "source": [
    "import numpy as np\n",
    "\n",
    "# A one-lane road, represented by an array\n",
    "# Here is a 1x7 road\n",
    "road = np.array(['r', 'r', 'r', 'r', 'r', 's', 'r'])\n",
    "print(road)"
   ]
  },
  {
   "cell_type": "markdown",
   "metadata": {},
   "source": [
    "### 输出关于该数组的一些信息"
   ]
  },
  {
   "cell_type": "code",
   "execution_count": 3,
   "metadata": {},
   "outputs": [
    {
     "name": "stdout",
     "output_type": "stream",
     "text": [
      "The length of this array is: 7\n"
     ]
    }
   ],
   "source": [
    "# Print out some information about this road\n",
    "print('The length of this array is: ' + str(len(road)))"
   ]
  },
  {
   "cell_type": "markdown",
   "metadata": {},
   "source": [
    "### 读取数组中的值"
   ]
  },
  {
   "cell_type": "code",
   "execution_count": 4,
   "metadata": {},
   "outputs": [
    {
     "name": "stdout",
     "output_type": "stream",
     "text": [
      "\n",
      "\n",
      "Value at index [0] = r\n",
      "\n",
      "\n",
      "Value at index [-1] = r\n",
      "\n",
      "\n",
      "Are the first and last values equal? True\n"
     ]
    }
   ],
   "source": [
    "# Access the first index and read its value\n",
    "value = road[0]\n",
    "print('\\n')\n",
    "print('Value at index [0] = ' +str(value))\n",
    "\n",
    "# Read the last item in the array\n",
    "# A negative index moves from the end of the list backwards!\n",
    "value_end = road[-1]\n",
    "print('\\n')\n",
    "print('Value at index [-1] = ' +str(value_end))\n",
    "\n",
    "# Compare first and last values\n",
    "equal = (value == value_end)\n",
    "print('\\n')\n",
    "print('Are the first and last values equal? ' +str(equal))"
   ]
  },
  {
   "cell_type": "markdown",
   "metadata": {},
   "source": [
    "# 数组迭代\n",
    "\n",
    "通过数组遍历或循环是按顺序读取它包含的所有信息的一个有效的方法。以下代码演示了如何遍历整个数组以及如何迭代，直到找到某个位置。"
   ]
  },
  {
   "cell_type": "code",
   "execution_count": 5,
   "metadata": {},
   "outputs": [
    {
     "name": "stdout",
     "output_type": "stream",
     "text": [
      "road[0] = r\n",
      "road[1] = r\n",
      "road[2] = r\n",
      "road[3] = r\n",
      "road[4] = r\n",
      "road[5] = s\n",
      "road[6] = r\n"
     ]
    }
   ],
   "source": [
    "import numpy as np\n",
    "\n",
    "# A 1x7 road\n",
    "road = np.array(['r', 'r', 'r', 'r', 'r', 's', 'r'])\n",
    "\n",
    "# Iterate through the array\n",
    "length = len(road)\n",
    "for index in range(0, length):\n",
    "    # Find and store the value at each index\n",
    "    value = road[index]\n",
    "    # Print a new line and the value\n",
    "    print('road['+str(index)+'] = '+str(value))\n"
   ]
  },
  {
   "cell_type": "code",
   "execution_count": 6,
   "metadata": {},
   "outputs": [
    {
     "name": "stdout",
     "output_type": "stream",
     "text": [
      "0\n",
      "1\n",
      "2\n",
      "3\n",
      "We've reached the middle of the road and we're leaving the loop!\n"
     ]
    }
   ],
   "source": [
    "# Iterate and exit the loop (return) once you reach index 3 - the middle\n",
    "for index in range(0, length):\n",
    "    # Check if index is equal to 3\n",
    "    print(str(index))\n",
    "    if index == 3:\n",
    "        print('We\\'ve reached the middle of the road and we\\'re leaving the loop!')\n",
    "        break"
   ]
  },
  {
   "cell_type": "code",
   "execution_count": 1,
   "metadata": {},
   "outputs": [],
   "source": [
    "\n",
    "import numpy as np"
   ]
  },
  {
   "cell_type": "code",
   "execution_count": 59,
   "metadata": {},
   "outputs": [],
   "source": [
    "world = np.array([ ['o', 'b', 'o', 'o', 'b'],\n",
    "                   ['o', 'o', 'b', 'o', 'o'],\n",
    "                   ['b', 'o', 'o', 'b', 'o'],\n",
    "                   ['b', 'o', 'o', 'o', 'o'] ])\n"
   ]
  },
  {
   "cell_type": "code",
   "execution_count": 69,
   "metadata": {},
   "outputs": [
    {
     "name": "stdout",
     "output_type": "stream",
     "text": [
      "4\n",
      "[[0, 1], [1, 2], [2, 0], [2, 3], [3, 0]]\n"
     ]
    }
   ],
   "source": [
    "# Sensor measurement\n",
    "measurement = ['b', 'o']\n",
    "\n",
    "# This function takes in the world and the sensor measurement.\n",
    "# Complete this function so that it returns the indices of the \n",
    "# likely robot locations, based on matching the measurement \n",
    "# with the color patterns in the world\n",
    "print(world.shape[0])\n",
    "\n",
    "def find_match(world,measurement):\n",
    "    possible_locations = []\n",
    "    for y in range(0, world.shape[0]):\n",
    "        for x in range(0, world.shape[1]):\n",
    "            if x == (world.shape[1]-1):\n",
    "                continue\n",
    "            m_under = world[y,x]\n",
    "            m_front = world[y,x+1]\n",
    "            if [m_under, m_front] == measurement:\n",
    "                possible_locations.append([y,x])\n",
    "    return possible_locations\n",
    "\n",
    "\n",
    "\n",
    "locations = find_match(world, measurement)\n",
    "print(locations)"
   ]
  },
  {
   "cell_type": "code",
   "execution_count": null,
   "metadata": {},
   "outputs": [],
   "source": []
  }
 ],
 "metadata": {
  "kernelspec": {
   "display_name": "Python 3",
   "language": "python",
   "name": "python3"
  },
  "language_info": {
   "codemirror_mode": {
    "name": "ipython",
    "version": 3
   },
   "file_extension": ".py",
   "mimetype": "text/x-python",
   "name": "python",
   "nbconvert_exporter": "python",
   "pygments_lexer": "ipython3",
   "version": "3.7.1"
  }
 },
 "nbformat": 4,
 "nbformat_minor": 2
}
