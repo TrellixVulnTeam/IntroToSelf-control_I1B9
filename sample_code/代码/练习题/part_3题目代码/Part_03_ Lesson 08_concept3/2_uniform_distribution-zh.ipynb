{
 "cells": [
  {
   "cell_type": "markdown",
   "metadata": {},
   "source": [
    "# 均匀概率分布\n",
    "\n",
    "### 你的任务\n",
    "\n",
    "让我们开始吧！在本练习中，你将要编写一个用于计算连续均匀概率分布的函数。\n",
    "\n",
    "### 连续均匀分布\n",
    "\n",
    " 从课程视频中，幸运轮和转瓶示例都有连续的均匀概率分布。你旋转的时候，幸运轮上的箭头或瓶子停止在0到360度之间任何一个地方的概率是相同的。\n",
    "\n",
    "### 说明\n",
    "对于第一个编程练习，编写一个函数来计算箭头在两个角度之间停止的概率。你希望这个函数适用于任何连续的均匀分布，而不仅仅是上面提到的轮子或瓶子示例。\n",
    "\n",
    "举个例子：瓶子停在20到30度之间的概率是 P = (30 - 20) / (360 - 0).\n",
    "\n",
    "该函数有四个输入：\n",
    "* `low_range` 代表第一个你感兴趣的角度\n",
    "* `high_range` 代表第二个角度\n",
    "* `minimum` 表示分布中的最小值（转瓶示例中为0）\n",
    "* `maximum` 表示分布中的最大值（转瓶示例中为360）\n",
    "\n",
    "输出应该是箭头在low_range和high_range之间停止的概率。\n",
    "\n",
    "假设 low_range < high_range。"
   ]
  },
  {
   "cell_type": "code",
   "execution_count": 1,
   "metadata": {},
   "outputs": [],
   "source": [
    "def probability_uniform(low_range, high_range, minimum, maximum):\n",
    "    \n",
    "    ## TODO: Calculate the probability of an event occurring \n",
    "    ## between low_range and high_range.\n",
    "    ## Assume the user has given valid inputs such that low_range < high_range.\n",
    "    ##   minimum < maximum\n",
    "    ##\n",
    "    probability = (high_range-low_range)/(maximum-minimum)\n",
    "    \n",
    "    #两个感兴趣的角度除于表示中的最大值减去最小值得出兴趣角度之间的停止概率\n",
    "    \n",
    "    \n",
    "    #probability = (high_range-low_range)/(maximum-minimum) \n",
    "    \n",
    "    return probability\n",
    "    \n",
    "\n"
   ]
  },
  {
   "cell_type": "markdown",
   "metadata": {},
   "source": [
    "# 测试你的结果\n",
    "\n",
    "运行下面的代码单元格来测试你的结果。如果你收到一个 error 语句，那意味着你的答案不符合我们的预期。"
   ]
  },
  {
   "cell_type": "code",
   "execution_count": 2,
   "metadata": {},
   "outputs": [
    {
     "name": "stdout",
     "output_type": "stream",
     "text": [
      "Great work! Your code outputs the expected results.\n"
     ]
    }
   ],
   "source": [
    "## TODO: Test your results by running this cell.\n",
    "## If the cell produces no output, your answer was as expected\n",
    "\n",
    "assert \"{0:.2f}\".format(probability_uniform(15, 305, 0, 360)) == '0.81'\n",
    "assert \"{0:.2f}\".format(probability_uniform(1, 5, 0, 10)) == '0.40'\n",
    "assert \"{0:.2f}\".format(probability_uniform(55, 70, 20, 300)) == '0.05'\n",
    "print('Great work! Your code outputs the expected results.')"
   ]
  },
  {
   "cell_type": "code",
   "execution_count": null,
   "metadata": {},
   "outputs": [],
   "source": []
  }
 ],
 "metadata": {
  "kernelspec": {
   "display_name": "Python 3",
   "language": "python",
   "name": "python3"
  },
  "language_info": {
   "codemirror_mode": {
    "name": "ipython",
    "version": 3
   },
   "file_extension": ".py",
   "mimetype": "text/x-python",
   "name": "python",
   "nbconvert_exporter": "python",
   "pygments_lexer": "ipython3",
   "version": "3.7.1"
  }
 },
 "nbformat": 4,
 "nbformat_minor": 2
}
