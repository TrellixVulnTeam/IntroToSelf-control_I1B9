{
 "cells": [
  {
   "cell_type": "markdown",
   "metadata": {},
   "source": [
    "# 使均匀概率分布可视化\n",
    "\n",
    "你是否记得在课程视频中看到旋转瓶的概率分布是什么样子的？\n",
    "\n",
    "\n",
    "因为瓶子在0和360之间的任何角度着陆的概率是相等的，所以旋转瓶具有连续均匀的概率分布。这种分布看起来像一个矩形。\n",
    "\n",
    "你可以使用折线图来制作此可视化文件。以下是最小值为100和最大可能值500的连续分布示例。\n",
    "\n",
    "![continuous distribution](continuous_distribution_example.png)\n",
    "\n",
    "# 练习\n",
    "\n",
    "在下面的单元格中，编写一个名为 uniform_distribution_height 的函数，用于输出均匀连续概率分布的高度。\n",
    "\n",
    "该函数有两个输入：\n",
    "* x_minimum - 包含概率分布的最小值\n",
    "* x_maximum - 包含概率分布的最大值\n",
    "\n",
    "例如，如果旋转瓶的 x_minimum = 0，x_maximum = 360，你就可以知道形成概率分布的矩形的面积为1，从而知道其高度。"
   ]
  },
  {
   "cell_type": "code",
   "execution_count": null,
   "metadata": {},
   "outputs": [],
   "source": [
    "def uniform_distribution_height(x_minimum, x_maximum):\n",
    "    \n",
    "    # TODO: calculate the height of the uniform continuous\n",
    "    # probability distribution based on x_minimum and x_maximum.\n",
    "    \n",
    "    height = 0\n",
    "    return height"
   ]
  },
  {
   "cell_type": "markdown",
   "metadata": {},
   "source": [
    "# 将结果可视化\n",
    "\n",
    "运行下面的代码框，基于旋转瓶的概率分布，显示结果。"
   ]
  },
  {
   "cell_type": "code",
   "execution_count": null,
   "metadata": {},
   "outputs": [],
   "source": [
    "import matplotlib.pyplot as plt\n",
    "%matplotlib inline\n",
    "\n",
    "y = uniform_distribution_height(0, 360)\n",
    "\n",
    "plt.plot([0, 360], [y, y], color='blue')\n",
    "plt.plot([0, 0], [0, y], '--', color='blue', )\n",
    "plt.plot([360, 360], [0, y], '--', color='blue', )\n",
    "plt.ylim([0, y + y/2])\n",
    "\n",
    "plt.xlabel('Degrees')\n",
    "plt.ylabel('Probability Distribution')\n",
    "plt.title('Uniform Probability Distribution \\n for a Spinning Bottle')\n",
    "plt.xticks(range(0, 361, 30))\n",
    "plt.show()"
   ]
  },
  {
   "cell_type": "markdown",
   "metadata": {},
   "source": [
    "如果你的uniform_distribution_height（）函数正确，则其可视化应如下所示：\n",
    "\n",
    "![continuous distribution](continuous_distribution.png)"
   ]
  }
 ],
 "metadata": {},
 "nbformat": 4,
 "nbformat_minor": 2
}
