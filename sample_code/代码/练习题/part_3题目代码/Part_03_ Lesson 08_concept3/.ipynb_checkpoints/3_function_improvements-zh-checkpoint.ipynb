{
 "cells": [
  {
   "cell_type": "markdown",
   "metadata": {},
   "source": [
    "# probability_uniform 函数存在的问题\n",
    "\n",
    " `probability_uniform` 函数应该在此处派上用场。但是，你可能会遇到一些问题。\n",
    "\n",
    "1. 如果这样调用你的函数会发生什么情况： `probability_range(35, 20, 0, 360)` ?\n",
    "2. 如果输入一个超出瓶子的概率范围的角度，会发生什么情况，如 probability_range(-25, 390, 0, 360)？\n",
    "3. 如果这样调用你的函数会发生什么情况：probability_range('a', 'b', 0, 360)？\n",
    "\n",
    "在编写函数时，重要的是考虑边缘情况或不正确的用户输入。\n",
    "\n",
    "# 你的任务\n",
    "\n",
    "你的任务是完善你的函数。让我们一次一个地完成这些任务。\n",
    "\n",
    "# 任务一\n",
    "\n",
    "当 low_range 大于 high_range 时，确保函数输出的是有效的概率。\n",
    "\n",
    "有很多方法可以解决这个问题。你可以：\n",
    "1. 计算 high_range - low_range 的绝对值\n",
    "2. 使用 if 语句比较 low_range 与 high_range，看一看哪个值更大\n",
    "\n",
    "这里是使用 Python 的绝对值函数的一个 [链接](https://docs.python.org/2/library/functions.html#abs) 。\n",
    "\n",
    "填写下面的TODO。"
   ]
  },
  {
   "cell_type": "code",
   "execution_count": null,
   "metadata": {},
   "outputs": [],
   "source": [
    "def probability_range_improved(low_range, high_range, minimum, maximum):\n",
    "\n",
    "    # TODO: calulate and return the probability \n",
    "    # even if low range is greater than high range.\n",
    "    # Use the abs() function or if statements\n",
    "    probability = 0\n",
    "    return probability"
   ]
  },
  {
   "cell_type": "markdown",
   "metadata": {},
   "source": [
    "运行下面的单元格，查看你的函数是否如预期运行。"
   ]
  },
  {
   "cell_type": "code",
   "execution_count": null,
   "metadata": {},
   "outputs": [],
   "source": [
    "assert \"{0:.2f}\".format(probability_range_improved(25, 700, 5, 800)) == '0.85'\n",
    "assert \"{0:.2f}\".format(probability_range_improved(700, 25, 5, 800)) == '0.85'\n",
    "print('Nice work!')"
   ]
  },
  {
   "cell_type": "markdown",
   "metadata": {},
   "source": [
    "# 任务二\n",
    "\n",
    " 检查函数的输入，确保它们不是字符串。 如果用户输入了一个字符串，该函数应返回 None。\n",
    "\n",
    "这个练习可能看起来微不足道，但是如果你尝试在 Python 中输入一个 `'my_string'/2` ，你会收到一个 error 返回 。 调试 error 并避免 error 的出现是一项非常重要的编程技巧。\n",
    "\n",
    "提示：使用 Python isinstance（）函数。 如果你不确定如何使用此函数，请在网上进行搜索。\n",
    "\n",
    "提示：使用任务一中的代码来计算概率"
   ]
  },
  {
   "cell_type": "code",
   "execution_count": null,
   "metadata": {},
   "outputs": [],
   "source": [
    "def probability_range_improved(low_range, high_range, minimum, maximum):\n",
    "\n",
    "    # TODO: check if any of the inputs are strings.\n",
    "    # hint: the python function isinstance() will be useful\n",
    "    if ():\n",
    "        # print a message to the user and return none\n",
    "        print('Inputs should be numbers not string')\n",
    "        return None\n",
    "    \n",
    "    probability = 0\n",
    "    return probability\n"
   ]
  },
  {
   "cell_type": "markdown",
   "metadata": {},
   "source": [
    "运行下一个单元格以检查结果。"
   ]
  },
  {
   "cell_type": "code",
   "execution_count": null,
   "metadata": {},
   "outputs": [],
   "source": [
    "assert probability_range_improved('a', 0, -100, 500) == None\n",
    "assert probability_range_improved(5, 'b', -100, 500) == None\n",
    "\n",
    "assert \"{0:.2f}\".format(probability_range_improved(25, 700, 5, 800)) == '0.85'\n",
    "assert \"{0:.2f}\".format(probability_range_improved(700, 25, 5, 800)) == '0.85'\n",
    "\n",
    "print('Well done!')"
   ]
  },
  {
   "cell_type": "markdown",
   "metadata": {},
   "source": [
    "# 任务三\n",
    "\n",
    "检查用户是否只输入了介于允许的最小值和最大值之间的 low_range 和high_range 值。如果输入了超出允许范围的值，则返回 None。\n",
    "\n",
    "提示：使用任务一中的代码来计算概率"
   ]
  },
  {
   "cell_type": "code",
   "execution_count": null,
   "metadata": {},
   "outputs": [],
   "source": [
    "def probability_range_improved(low_range, high_range, minimum, maximum):\n",
    "    \n",
    "    # TODO check that low_range is between minimum and maximum\n",
    "    if ():\n",
    "        # print a message to the user and return none\n",
    "        print('Your low range value must be between minimum and maximum')\n",
    "        return None\n",
    "        \n",
    "    # TODO check that high_range is between min and max\n",
    "    if ():\n",
    "        # print a message to the user and return none\n",
    "        print('The high range value must be between minimum and maximum')\n",
    "        return None\n",
    "\n",
    "    probability = 0\n",
    "    return probability\n"
   ]
  },
  {
   "cell_type": "markdown",
   "metadata": {},
   "source": [
    "运行下一个码元以检查结果。"
   ]
  },
  {
   "cell_type": "code",
   "execution_count": null,
   "metadata": {},
   "outputs": [],
   "source": [
    "assert probability_range_improved(-100, 300, 100, 500) == None\n",
    "assert probability_range_improved(105, 700, 100, 500) == None\n",
    "\n",
    "assert \"{0:.2f}\".format(probability_range_improved(25, 700, 5, 800)) == '0.85'\n",
    "assert \"{0:.2f}\".format(probability_range_improved(700, 25, 5, 800)) == '0.85'\n",
    "\n",
    "print('Awesome!')"
   ]
  },
  {
   "cell_type": "markdown",
   "metadata": {},
   "source": [
    "# 任务四\n",
    "\n",
    "把你在任务一、二、三中的所有工作提取出来，放到一个最终的函数中。"
   ]
  },
  {
   "cell_type": "code",
   "execution_count": null,
   "metadata": {},
   "outputs": [],
   "source": [
    "def probability_range_improved(low_range, high_range, minimum, maximum):\n",
    "\n",
    "    # TODO: check if any of the inputs are strings.\n",
    "    # hint: the python function isinstance() will be useful\n",
    "    if ():\n",
    "        # print a message to the user and return none\n",
    "        print('Inputs should be numbers not string')\n",
    "        return None\n",
    "    \n",
    "    # TODO check that low_range is between minimum and maximum\n",
    "    if ():\n",
    "        # print a message to the user and return none\n",
    "        print('Your low range value must be between minimum and maximum')\n",
    "        return None\n",
    "        \n",
    "    # TODO check that high_range is between min and max\n",
    "    if ():\n",
    "        # print a message to the user and return none\n",
    "        print('The high range value must be between minimum and maximum')\n",
    "        return None\n",
    "\n",
    "    # TODO: calulate and return the probability \n",
    "    # even if low range is greater than high range\n",
    "    probability = 0\n",
    "    return probability\n"
   ]
  },
  {
   "cell_type": "markdown",
   "metadata": {},
   "source": [
    "运行下面的单元格。 如果没有 AssertionErrors，则代码按预期运行。 在 Python 中，assert 可以用来检查是否有语句\n",
    "为 True 或 False"
   ]
  },
  {
   "cell_type": "code",
   "execution_count": null,
   "metadata": {},
   "outputs": [],
   "source": [
    "assert probability_range_improved('a', 0, -100, 500) == None\n",
    "assert probability_range_improved(0, 'b', -100, 500) == None\n",
    "assert probability_range_improved(-100, 300, 100, 500) == None\n",
    "assert probability_range_improved(105, 700, 100, 500) == None\n",
    "assert \"{0:.2f}\".format(probability_range_improved(25, 700, 5, 800)) == '0.85'\n",
    "assert \"{0:.2f}\".format(probability_range_improved(700, 25, 5, 800)) == '0.85'\n",
    "print('You got the results we were looking for!')"
   ]
  }
 ],
 "metadata": {},
 "nbformat": 4,
 "nbformat_minor": 2
}
