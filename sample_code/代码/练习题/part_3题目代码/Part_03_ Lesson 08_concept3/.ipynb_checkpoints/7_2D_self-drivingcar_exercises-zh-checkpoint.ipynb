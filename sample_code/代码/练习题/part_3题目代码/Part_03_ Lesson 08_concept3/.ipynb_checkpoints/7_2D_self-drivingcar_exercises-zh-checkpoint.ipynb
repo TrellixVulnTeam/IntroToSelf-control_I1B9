{
 "cells": [
  {
   "cell_type": "markdown",
   "metadata": {},
   "source": [
    "# 无人驾驶汽车-2D世界\n",
    "\n",
    "以下是这组练习的几个任务：\n",
    "* 编写一个函数，用来初始化网格中的概率\n",
    "* 编写一个函数，输出机器人在网格上特定点的概率\n",
    "* 编写一个函数，用来显示网格的概率（这个函数是为你提供的）\n",
    "* 编写一个函数，用来更新网格上的点的概率\n",
    "\n",
    "这组练习与1D世界中的练习相同。但是现在你需要使用嵌套for循环和嵌套列表，这可能会比较有难度。\n",
    "\n",
    "# 练习1\n",
    "\n",
    "编写一个函数，用来初始化2D网格的概率。请牢记，最初，整个网格的概率是相等的。所有的概率需要总计为1。\n",
    "\n",
    "所以，如果你的网格是5×4，你将会有20个空间；与每个空间相关的初始概率将是1/20。\n",
    "\n",
    "以下是该函数的输入和输出：\n",
    "\n",
    "**输入** \n",
    "* 网格中的行数\n",
    "* 网格中的列数\n",
    "\n",
    "**输出** \n",
    "* 包含每个网格单元的概率的嵌套列表"
   ]
  },
  {
   "cell_type": "code",
   "execution_count": null,
   "metadata": {},
   "outputs": [],
   "source": [
    "def initial_grid(rows, columns):\n",
    "\n",
    "    # TODO: initialize an empty list in a variable called grid\n",
    "    grid = []\n",
    "    \n",
    "    # TODO: initialize an empty row in a variable called row\n",
    "    row = []\n",
    "\n",
    "    # TODO: calculate the initial probability\n",
    "    probability = 0\n",
    "    \n",
    "    # TODO: write a nested for loop that appends values to the grid variable\n",
    "    # HINT: You first need to fill in a row with values and then append the row to the grid.\n",
    "    #        Then you'll need to set the row variable to an empty list.\n",
    "    #        The logic of all this can be tough to think through. \n",
    "    #        If you get stuck, see the demonstrations in the previous part of the lesson\n",
    "        \n",
    "    return grid"
   ]
  },
  {
   "cell_type": "markdown",
   "metadata": {},
   "source": [
    "运行下面的代码单元格，测试你的结果"
   ]
  },
  {
   "cell_type": "code",
   "execution_count": null,
   "metadata": {},
   "outputs": [],
   "source": [
    "assert initial_grid(5, 4) == [[0.05, 0.05, 0.05, 0.05],\n",
    "                              [0.05, 0.05, 0.05, 0.05],\n",
    "                              [0.05, 0.05, 0.05, 0.05],\n",
    "                              [0.05, 0.05, 0.05, 0.05],\n",
    "                              [0.05, 0.05, 0.05, 0.05]]\n",
    "\n",
    "assert initial_grid(2, 5) == [[0.1, 0.1, 0.1, 0.1, 0.1], \n",
    "                              [0.1, 0.1, 0.1, 0.1, 0.1]]\n",
    "\n",
    "assert initial_grid(2, 2) == [[0.25, 0.25], \n",
    "                              [0.25, 0.25]]\n",
    "\n",
    "print('Hooray!')"
   ]
  },
  {
   "cell_type": "markdown",
   "metadata": {},
   "source": [
    "# 练习 2\n",
    "\n",
    "编写一个函数，输出机器人在网格上特定点的概率。\n",
    "\n",
    "以下是该函数的输入和输出：\n",
    "\n",
    "**输入** \n",
    "\n",
    "* 表示为嵌套列表的一个2D网格\n",
    "* 一个行编号\n",
    "* 一个列编号\n",
    "\n",
    "**输出** \n",
    "* 输入该行、列的概率\n",
    "\n",
    "**提示** \n",
    "\n",
    "请牢记，第一行第一列中的第一个网格单元是`[0][0]`而不是`[1][1]` 。"
   ]
  },
  {
   "cell_type": "code",
   "execution_count": null,
   "metadata": {},
   "outputs": [],
   "source": [
    "def probability(grid, row, column):\n",
    "    \n",
    "    # TODO: return the probability that the robot as at the space representing by the row and column values.\n",
    "    \n",
    "    return"
   ]
  },
  {
   "cell_type": "code",
   "execution_count": null,
   "metadata": {},
   "outputs": [],
   "source": [
    "assert probability([[.25, .1], \n",
    "                    [.45, .2]], \n",
    "                   1, 1) == 0.2\n",
    "\n",
    "assert probability([[.05, .1, .1],\n",
    "                    [.04, .3, .02],\n",
    "                    [.01, .02, .02],\n",
    "                    [.005, .012, .06],\n",
    "                    [.09, .07, .103]], 3, 2) == 0.06\n",
    "\n",
    "assert probability([[.05, .1, .1],\n",
    "                    [.04, .3, .02],\n",
    "                    [.01, .023, .017],\n",
    "                    [.005, .012, .06],\n",
    "                    [.09, .07, .103]], 2, 2) == .017\n",
    "\n",
    "print('You passed all the assertion tests.')"
   ]
  },
  {
   "cell_type": "markdown",
   "metadata": {},
   "source": [
    "# 演示\n",
    "\n",
    "运行下面的代码单元，从而将该网格的概率可视化。此函数是为你提供的。我们为你提供此代码的原因在于，我们尚未讨论如何在2D世界中以图形方式表示概率分布。\n",
    "\n",
    "运行下面的代码单元，查看输出值。 该代码显示的是热图。尽管条形图可以表示y轴上的概率，但热图可以用颜色表示概率。"
   ]
  },
  {
   "cell_type": "code",
   "execution_count": null,
   "metadata": {},
   "outputs": [],
   "source": [
    "import matplotlib.pyplot as plt\n",
    "%matplotlib inline\n",
    "\n",
    "def graph_grid(grid):\n",
    "    plt.imshow(grid, cmap='Greys', clim=(0,.1))\n",
    "    plt.title('Heat Map of Grid Probabilities')\n",
    "    plt.xlabel('grid x axis')\n",
    "    plt.ylabel('grid y axis')\n",
    "    plt.legend()\n",
    "    plt.show()"
   ]
  },
  {
   "cell_type": "code",
   "execution_count": null,
   "metadata": {},
   "outputs": [],
   "source": [
    "grid = [[.05, .1, .1],\n",
    "        [.04, .3, .02],\n",
    "        [.01, .023, .017],\n",
    "        [.005, .012, .06],\n",
    "        [.09, .07, .103]]\n",
    "\n",
    "graph_grid(grid)"
   ]
  },
  {
   "cell_type": "markdown",
   "metadata": {},
   "source": [
    "# 练习 3\n",
    "\n",
    " 编写一个函数，用来更新网格上的概率。与1D中的示例一样，你的函数将接收一个坐标和更新后的概率。 更新的概率坐标不会有任何特定的顺序；例如，该列表可能包含网格单元格（2,5），然后是网格单元格（1,7）。\n",
    "\n",
    "下面是该函数的输入和输出。\n",
    "\n",
    "**输入** \n",
    "* 一个二维嵌套列表，包含了机器人位于每个单元格的概率\n",
    "* 一个嵌套列表，包含了网格单元坐标和新概率\n",
    "\n",
    "**输出** \n",
    "* 一个代表网格的二维嵌套列表，其中包含更新的机器人网格概率\n",
    "\n",
    "\n",
    "假设你有一个具有以下概率的网格："
   ]
  },
  {
   "cell_type": "code",
   "execution_count": null,
   "metadata": {},
   "outputs": [],
   "source": [
    "grid = [[.05, .1, .1],\n",
    "        [.04, .3, .02],\n",
    "        [.01, .023, .017],\n",
    "        [.005, .012, .06],\n",
    "        [.09, .07, .103]]"
   ]
  },
  {
   "cell_type": "markdown",
   "metadata": {},
   "source": [
    "你收到的是具有以下值的更新列表"
   ]
  },
  {
   "cell_type": "code",
   "execution_count": null,
   "metadata": {},
   "outputs": [],
   "source": [
    "update_list = [\n",
    "              [[4,2], 0.012],\n",
    "              [[2,2], 0.108],\n",
    "              [[0,1], 0.004],\n",
    "              [[3,0], 0.101]\n",
    "              ]"
   ]
  },
  {
   "cell_type": "markdown",
   "metadata": {},
   "source": [
    "目前[4,2]网格单元的概率值为0.103。现在，你将用0.012替换该值。\n",
    "\n",
    "2,3]网格单元的概率为0.017。\n",
    "\n",
    "不要被update_list变量吓倒！ 这只是一个嵌套列表，类似于你已经看到的内容。要知道，update_list变量是列表的一个列表。\n",
    "\n",
    "例如，[4,3]代表第5行第3列中的网格单元，0.012则代表新的概率。\n",
    "\n",
    "在下一个单元格中，你将通过几种不同的方式来找到一些示例代码，从而访问列表中的值。研究这些示例并使用示例来帮助你编写update_probability（）函数。\n",
    "\n",
    "### 嵌套循环示例"
   ]
  },
  {
   "cell_type": "code",
   "execution_count": null,
   "metadata": {},
   "outputs": [],
   "source": [
    "# Example of nested lists\n",
    "\n",
    "update_list = [\n",
    "              [[4,2], 0.012],\n",
    "              [[2,2], 0.108],\n",
    "              [[0,1], 0.004],\n",
    "              [[3,0], 0.101]\n",
    "              ]\n",
    "\n",
    "# Code for accessing the first element in the list\n",
    "print(update_list[0])\n",
    "print(update_list[0][0])\n",
    "print(update_list[0][0][0])\n",
    "print(update_list[0][0][1])\n",
    "print(update_list[0][1])\n",
    "\n",
    "# Output of for loop\n",
    "print('\\noutput of for loop')\n",
    "for element in update_list:\n",
    "    print(element)\n",
    "\n",
    "print('\\noutput rows and columns with probability')\n",
    "for element in update_list:\n",
    "    row, col = element[0]\n",
    "    probability = element[1]\n",
    "    print('row ', row, 'col ', col, 'probability ', probability)\n"
   ]
  },
  {
   "cell_type": "markdown",
   "metadata": {},
   "source": [
    "### 完成练习\n",
    "\n",
    "现在完成这个练习，使用update_list更新网格变量中的概率。"
   ]
  },
  {
   "cell_type": "code",
   "execution_count": null,
   "metadata": {},
   "outputs": [],
   "source": [
    "def update_probability(grid, update_list):\n",
    "\n",
    "    #### TODO:\n",
    "    # Use the update_list probabilities to update the probabilities in the grid variable. \n",
    "    # For example, if the grid is \n",
    "    \n",
    "    # grid = [[.05, .1, .1],\n",
    "    #    [.04, .3, .02],\n",
    "    #    [.01, .023, .017],\n",
    "    #    [.005, .012, .06],\n",
    "    #    [.09, .07, .103]]\n",
    "\n",
    "    # update_list = [[4, 2], 0.012]]\n",
    "    \n",
    "    # So the element in row 5, column 3 (remember Python does zero indexing) would be \n",
    "    # changed from 0.103 to 0.012\n",
    "    \n",
    "    return grid"
   ]
  },
  {
   "cell_type": "markdown",
   "metadata": {},
   "source": [
    "现在，通过运行下面的代码，测试你的结果"
   ]
  },
  {
   "cell_type": "code",
   "execution_count": null,
   "metadata": {},
   "outputs": [],
   "source": [
    "grid = [[.05, .1, .1],\n",
    "        [.04, .3, .02],\n",
    "        [.01, .023, .017],\n",
    "        [.005, .012, .06],\n",
    "        [.09, .07, .103]]\n",
    "\n",
    "update_list = [\n",
    "              [[4,2], 0.012],\n",
    "              [[2,2], 0.108],\n",
    "              [[0,1], 0.004],\n",
    "              [[3,0], 0.101]\n",
    "              ]\n",
    "\n",
    "assert update_probability(grid, update_list) == [[0.05, 0.004, 0.1],\n",
    " [0.04, 0.3, 0.02],\n",
    " [0.01, 0.023, 0.108],\n",
    " [0.101, 0.012, 0.06],\n",
    " [0.09, 0.07, 0.012]]\n",
    "\n",
    "print('Nicely done')"
   ]
  }
 ],
 "metadata": {
  "kernelspec": {
   "display_name": "Python 3",
   "language": "python",
   "name": "python3"
  },
  "language_info": {
   "codemirror_mode": {
    "name": "ipython",
    "version": 3
   },
   "file_extension": ".py",
   "mimetype": "text/x-python",
   "name": "python",
   "nbconvert_exporter": "python",
   "pygments_lexer": "ipython3",
   "version": "3.6.3"
  }
 },
 "nbformat": 4,
 "nbformat_minor": 2
}
