{
 "cells": [
  {
   "cell_type": "markdown",
   "metadata": {},
   "source": [
    "# 无人驾驶汽车-2D世界 [示范]\n",
    "\n",
    "现在，你将要使用2维网格，而不是1维网格。但是你要做的四件事情，与你在之前的那个1D案例中的四件事情一样：\n",
    "* 编写一个函数，用于初始化网格中的概率\n",
    "* 编写一个函数，输出机器人在网格上特定点的概率\n",
    "* 编写一个函数，用于显示网格的概率（这个函数是为你提供的）\n",
    "* 编写一个函数，用于更新网格上点的概率\n",
    "\n",
    "# 2D网格示例\n",
    "\n",
    "现在，你的机器人生活在一个二维世界中。它可以向左、向右、向前或向后移动。下面是一个7×7网格例子的鸟瞰图。\n",
    "\n",
    "![alt text](2Dgrid.png \"2D Grid\")\n",
    "\n",
    "\n",
    "# 在Python中查看一维网格\n",
    "\n",
    "在1D的案例中，你用Python做了一个列表，其概率如下："
   ]
  },
  {
   "cell_type": "code",
   "execution_count": null,
   "metadata": {},
   "outputs": [],
   "source": [
    "probability_list = [.2, .2, .2, .2, .2]"
   ]
  },
  {
   "cell_type": "markdown",
   "metadata": {},
   "source": [
    "然后你得到了这样的概率："
   ]
  },
  {
   "cell_type": "code",
   "execution_count": null,
   "metadata": {},
   "outputs": [],
   "source": [
    "probability_list[0]\n",
    "probability_list[1]\n",
    "probability_list[2]\n",
    "probability_list[3]\n",
    "probability_list[4]"
   ]
  },
  {
   "cell_type": "markdown",
   "metadata": {},
   "source": [
    "下图显示了网格的外观以及每个空间的关联索引。\n",
    "\n",
    "![alt text](1Dgrid_index.png \"2D Grid\")\n",
    "\n",
    "# Python中的2D网格\n",
    "\n",
    "\n",
    "现在，对于2D网格，每个空间需要两个索引：一个索引用于行，另一个索引用于列。\n",
    "\n",
    "![alt text](2Dgrid_index.png \"2D Grid\")\n",
    "\n",
    "第一个索引代表行，第二个索引代表列。在Python中，2D网格可以用这样的嵌套列表来表示。"
   ]
  },
  {
   "cell_type": "code",
   "execution_count": null,
   "metadata": {},
   "outputs": [],
   "source": [
    "probability_grid = [[1/15, 1/15, 1/15, 1/15, 1/15],\n",
    "                    [1/15, 1/15, 1/15, 1/15, 1/15],\n",
    "                    [1/15, 1/15, 1/15, 1/15, 1/15]]\n"
   ]
  },
  {
   "cell_type": "markdown",
   "metadata": {},
   "source": [
    "要获取这些值，你需要行编号和列编号。第一行的值是"
   ]
  },
  {
   "cell_type": "code",
   "execution_count": null,
   "metadata": {},
   "outputs": [],
   "source": [
    "probability_grid[0][0]\n",
    "probability_grid[0][1]\n",
    "probability_grid[0][2]\n",
    "probability_grid[0][3]\n",
    "probability_grid[0][4]"
   ]
  },
  {
   "cell_type": "markdown",
   "metadata": {},
   "source": [
    "第二行的值是"
   ]
  },
  {
   "cell_type": "code",
   "execution_count": null,
   "metadata": {},
   "outputs": [],
   "source": [
    "probability_grid[1][0]\n",
    "probability_grid[1][1]\n",
    "probability_grid[1][2]\n",
    "probability_grid[1][3]\n",
    "probability_grid[1][4]"
   ]
  },
  {
   "cell_type": "markdown",
   "metadata": {},
   "source": [
    "第三行的值是"
   ]
  },
  {
   "cell_type": "code",
   "execution_count": null,
   "metadata": {},
   "outputs": [],
   "source": [
    "probability_grid[2][0]\n",
    "probability_grid[2][1]\n",
    "probability_grid[2][2]\n",
    "probability_grid[2][3]\n",
    "probability_grid[2][4]"
   ]
  },
  {
   "cell_type": "markdown",
   "metadata": {},
   "source": [
    "# 代码示例\n",
    "\n",
    "现在，运行下面的代码单元格。它包含了几个关于如何使用嵌套for循环的示例。这些代码示例应该可以帮助你进行编码练习。\n",
    "\n",
    "### 例1\n",
    "\n",
    "输出嵌套列表中的值"
   ]
  },
  {
   "cell_type": "code",
   "execution_count": null,
   "metadata": {},
   "outputs": [],
   "source": [
    "nested_list = [[5, 3, 9, 7, 6],\n",
    "               [2, 7, 2, 1, 9],\n",
    "              [8, 5, 3, 1, 8]]\n",
    "\n",
    "def print_list(nested_list):\n",
    "    print('print out list values one at a time')\n",
    "    for i in range(len(nested_list)):\n",
    "        for j in range(len(nested_list[0])):\n",
    "            print(nested_list[i][j])\n",
    "\n",
    "print_list(nested_list)"
   ]
  },
  {
   "cell_type": "code",
   "execution_count": null,
   "metadata": {},
   "outputs": [],
   "source": [
    "print out list values one at a time\n",
    "5\n",
    "3\n",
    "9\n",
    "7\n",
    "6\n",
    "2\n",
    "7\n",
    "2\n",
    "1\n",
    "9\n",
    "8\n",
    "5\n",
    "3\n",
    "1\n",
    "8\n"
   ]
  },
  {
   "cell_type": "markdown",
   "metadata": {},
   "source": [
    "### 例2\n",
    "\n",
    "使用更好的格式输出嵌套列表中的值"
   ]
  },
  {
   "cell_type": "code",
   "execution_count": null,
   "metadata": {},
   "outputs": [],
   "source": [
    "def print_formatted_list(nested_list):\n",
    "    # print a blank line\n",
    "    print('\\nprint out list values with formatting')\n",
    "    # print out list values with formatting\n",
    "    for i in range(len(nested_list)):\n",
    "        for j in range(len(nested_list[0])):\n",
    "            # if statement makes sure the last number in a row does not have a comma\n",
    "            if j != len(nested_list[0]) - 1:\n",
    "                print(str(nested_list[i][j]) + \", \" , end=\"\")\n",
    "            else:\n",
    "                print(str(nested_list[i][j]), end=\"\")\n",
    "\n",
    "        print()\n",
    "    print()\n",
    "    \n",
    "print_formatted_list(nested_list)"
   ]
  },
  {
   "cell_type": "code",
   "execution_count": null,
   "metadata": {},
   "outputs": [],
   "source": [
    "print out list values with formatting\n",
    "5, 3, 9, 7, 6\n",
    "2, 7, 2, 1, 9\n",
    "8, 5, 3, 1, 8\n",
    "\n"
   ]
  },
  {
   "cell_type": "markdown",
   "metadata": {},
   "source": [
    "### 例3\n",
    "\n",
    "该示例演示了如何创建2D列表并将新行添加到列表中。"
   ]
  },
  {
   "cell_type": "code",
   "execution_count": null,
   "metadata": {},
   "outputs": [],
   "source": [
    "twodlist = []\n",
    "number_rows = 5\n",
    "\n",
    "for i in range(number_rows):\n",
    "    twodlist.append([5, 2, 1, 8])        \n",
    "\n",
    "print_formatted_list(twodlist)"
   ]
  },
  {
   "cell_type": "code",
   "execution_count": null,
   "metadata": {},
   "outputs": [],
   "source": [
    "print out list values with formatting\n",
    "5, 2, 1, 8\n",
    "5, 2, 1, 8\n",
    "5, 2, 1, 8\n",
    "5, 2, 1, 8\n",
    "5, 2, 1, 8\n",
    "\n"
   ]
  },
  {
   "cell_type": "markdown",
   "metadata": {},
   "source": [
    "### 例4\n",
    "\n",
    "对于最后一个例子，这是一个用嵌套for循环创建的2D列表。注意该代码是如何首先创建一个新行，然后将该行添加到2D列表中。"
   ]
  },
  {
   "cell_type": "code",
   "execution_count": null,
   "metadata": {},
   "outputs": [],
   "source": [
    "twodlist = []\n",
    "row = []\n",
    "number_rows = 5\n",
    "number_columns = 6\n",
    "\n",
    "for i in range(number_rows):\n",
    "    for j in range(number_columns):\n",
    "        row.append(i)\n",
    "    twodlist.append(row)\n",
    "    row = []\n",
    "\n",
    "print_formatted_list(twodlist)"
   ]
  },
  {
   "cell_type": "code",
   "execution_count": null,
   "metadata": {},
   "outputs": [],
   "source": [
    "print out list values with formatting\n",
    "0, 0, 0, 0, 0, 0\n",
    "1, 1, 1, 1, 1, 1\n",
    "2, 2, 2, 2, 2, 2\n",
    "3, 3, 3, 3, 3, 3\n",
    "4, 4, 4, 4, 4, 4\n",
    "\n"
   ]
  },
  {
   "cell_type": "markdown",
   "metadata": {},
   "source": [
    "# 练习\n",
    "\n",
    "进入本课的下一部分开始练习吧！"
   ]
  }
 ],
 "metadata": {},
 "nbformat": 4,
 "nbformat_minor": 2
}
