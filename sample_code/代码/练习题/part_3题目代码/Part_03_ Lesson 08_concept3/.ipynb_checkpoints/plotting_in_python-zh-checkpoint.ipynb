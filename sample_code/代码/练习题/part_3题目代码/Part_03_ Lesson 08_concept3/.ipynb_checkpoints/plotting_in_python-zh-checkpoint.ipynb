{
 "cells": [
  {
   "cell_type": "markdown",
   "metadata": {},
   "source": [
    "# 演示：使用Python进行可视化\n",
    "\n",
    "本课的下一部分是关于可视化概率分布。\n",
    "\n",
    "Python有一个非常有用但很复杂的库，用于创建名为 [matplotlib](https://matplotlib.org/)的可视化对象。\n",
    "\n",
    "学习matplotlib的最好方法之一就是看例子。如果在互联网上搜索“matplotlib条形图”或“matplotlib散点图”，你会发现很多可以学习的代码示例。\n",
    "\n",
    "为了让你入门，我们将使用matplotlib向你展示一些图。这些示例可以帮助你进行下一部分编程课程的学习。\n",
    "\n",
    "# 示例：散点图\n",
    "\n",
    "最常见的散点图之一是x-y散点图。下面的代码会大致告诉你一个matplotlib是如何工作的，你会看到如何一点点建立起一个散点图。\n",
    "\n",
    "我们正在使用点的x和y位置的一些构成数据。运行下面的代码，然后我们将解释每一行代码分布代表什么。"
   ]
  },
  {
   "cell_type": "code",
   "execution_count": null,
   "metadata": {},
   "outputs": [],
   "source": [
    "import matplotlib.pyplot as plt\n",
    "%matplotlib inline\n",
    "\n",
    "x = [1, 2, 3, 4, 5, 6, 7, 8, 9, 10]\n",
    "y = [2, 4, 6, 8, 10, 12, 14, 16, 18, 20]\n",
    "\n",
    "plt.scatter(x, y)\n",
    "plt.xlabel('x values')\n",
    "plt.ylabel('y values')\n",
    "plt.title('X values versus Y values')\n",
    "plt.xticks([0, 1, 2, 3, 4, 5, 6, 7, 8, 9, 10, 11])\n",
    "plt.show()"
   ]
  },
  {
   "cell_type": "markdown",
   "metadata": {},
   "source": [
    "# 代码解释"
   ]
  },
  {
   "cell_type": "code",
   "execution_count": null,
   "metadata": {},
   "outputs": [],
   "source": [
    "import matplotlib.pyplot as plt"
   ]
  },
  {
   "cell_type": "markdown",
   "metadata": {},
   "source": [
    "导入语句能够使matplotlib库可用于你的程序。 'as plt'意味着我们可以将库称为plt而不是其全名。"
   ]
  },
  {
   "cell_type": "code",
   "execution_count": null,
   "metadata": {},
   "outputs": [],
   "source": [
    "x = [1, 2, 3, 4, 5, 6, 7, 8, 9, 10]\n",
    "y = [2, 4, 6, 8, 10, 12, 14, 16, 18, 20]"
   ]
  },
  {
   "cell_type": "markdown",
   "metadata": {},
   "source": [
    "在这里，我们分配要绘制的值。如果你用（x，y）来表示，那么这些点将是（1,2），然后是（2,4）然后是（3,6），以此类推。但是，matplotlib期望的是，x值与y值出现在单独的列表中。"
   ]
  },
  {
   "cell_type": "code",
   "execution_count": null,
   "metadata": {},
   "outputs": [],
   "source": [
    "plt.scatter(x, y)"
   ]
  },
  {
   "cell_type": "markdown",
   "metadata": {},
   "source": [
    "`plt.scatter(x,y)`行是在告诉Python创建一个散点图。"
   ]
  },
  {
   "cell_type": "code",
   "execution_count": null,
   "metadata": {},
   "outputs": [],
   "source": [
    "plt.xlabel('x values')\n",
    "plt.ylabel('y values')\n",
    "plt.title('X values versus Y values')"
   ]
  },
  {
   "cell_type": "markdown",
   "metadata": {},
   "source": [
    "这些行将标签放在x轴、y轴上，并给这个图表一个标题。"
   ]
  },
  {
   "cell_type": "code",
   "execution_count": null,
   "metadata": {},
   "outputs": [],
   "source": [
    "plt.xticks([0, 1, 2, 3, 4, 5, 6, 7, 8, 9, 10, 11])"
   ]
  },
  {
   "cell_type": "markdown",
   "metadata": {},
   "source": [
    "该行手动设置x-tick标记。"
   ]
  },
  {
   "cell_type": "code",
   "execution_count": null,
   "metadata": {},
   "outputs": [],
   "source": [
    "plt.show()"
   ]
  },
  {
   "cell_type": "markdown",
   "metadata": {},
   "source": [
    "最后，`plt.show()`输出该散点图。\n",
    "\n",
    "# 示例：条形图\n",
    "\n",
    "如果我们用相同的x和y值创建一个条形图，该怎么做呢？其实，与散点图相比，下面的代码只改变了两件事。\n",
    "\n",
    "我们创建了一个条形图，而不是散点图。\n",
    "`plt.bar(x,y)`\n",
    "\n",
    "我们修改了x刻度标记，使其不包括0和11。运行下面的代码，看看会发生什么。"
   ]
  },
  {
   "cell_type": "code",
   "execution_count": null,
   "metadata": {},
   "outputs": [],
   "source": [
    "import matplotlib.pyplot as plt\n",
    "%matplotlib inline\n",
    "\n",
    "x = [1, 2, 3, 4, 5, 6, 7, 8, 9, 10]\n",
    "y = [2, 4, 6, 8, 10, 12, 14, 16, 18, 20]\n",
    "\n",
    "plt.bar(x, y)\n",
    "plt.xlabel('x values')\n",
    "plt.ylabel('y values')\n",
    "plt.title('X values versus Y values')\n",
    "plt.xticks([1, 2, 3, 4, 5, 6, 7, 8, 9, 10])\n",
    "plt.show()"
   ]
  },
  {
   "cell_type": "markdown",
   "metadata": {},
   "source": [
    "# 示例：条形图\n",
    "\n",
    "如果你熟悉条形图，你可能会记得x轴实际上是一个离散变量。看一看下面的代码，看看这个可视化变化是如何发生的。代码中的主要变化是，x值现在是字符串，而不是数字。\n",
    "\n",
    "运行下面的代码单元格。"
   ]
  },
  {
   "cell_type": "code",
   "execution_count": null,
   "metadata": {},
   "outputs": [],
   "source": [
    "import matplotlib.pyplot as plt\n",
    "%matplotlib inline\n",
    "\n",
    "x = ['apples', 'pears', 'bananas', \n",
    "     'grapes', 'melons', 'avocados', 'cherries', 'oranges', 'pumpkins',\n",
    "    'tomatoes']\n",
    "y = [2, 4, 6, 8, 10, 12, 14, 16, 18, 20]\n",
    "\n",
    "plt.bar(x, y)\n",
    "plt.xlabel('x values')\n",
    "plt.ylabel('y values')\n",
    "plt.title('X values versus Y values')\n",
    "plt.xticks(rotation=70)\n",
    "plt.show()"
   ]
  },
  {
   "cell_type": "markdown",
   "metadata": {},
   "source": [
    "Matplotlib会按照字母顺序排列x值。\n",
    "\n",
    "# 示例：折线图\n",
    "\n",
    "对于最后的这个示例，运行下面的代码单元格，它会输出一个折线图。"
   ]
  },
  {
   "cell_type": "code",
   "execution_count": null,
   "metadata": {},
   "outputs": [],
   "source": [
    "import matplotlib.pyplot as plt\n",
    "%matplotlib inline\n",
    "\n",
    "x = [1, 2, 3, 4, 5, 6, 7, 8, 9, 10]\n",
    "y = [2, 4, 6, 8, 10, 12, 14, 16, 18, 20]\n",
    "\n",
    "plt.plot(x, y)\n",
    "plt.xlabel('x values')\n",
    "plt.ylabel('y values')\n",
    "plt.title('X values versus Y values')\n",
    "plt.xticks([1, 2, 3, 4, 5, 6, 7, 8, 9, 10])\n",
    "plt.show()"
   ]
  },
  {
   "cell_type": "markdown",
   "metadata": {},
   "source": [
    "唯一改变的代码行是\n",
    "`plt.plot(x,y)` ，而不是 `plt.bar(x,y)`. \n",
    "\n",
    "当你调用plt.plot（）时，Matplotlib会自动输出一个折线图。\n",
    "\n",
    "现在你已经对matplotlib很熟悉了，尝试做一些可视化图吧！"
   ]
  }
 ],
 "metadata": {},
 "nbformat": 4,
 "nbformat_minor": 2
}
