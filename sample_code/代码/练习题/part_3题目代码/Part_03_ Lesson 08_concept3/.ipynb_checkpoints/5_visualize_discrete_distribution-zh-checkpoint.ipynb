{
 "cells": [
  {
   "cell_type": "markdown",
   "metadata": {},
   "source": [
    "# 说明\n",
    "\n",
    "编写一个函数，给定 x 轴间距列表、相对概率与总概率，计算每个柱的高度。需要注意的是，所有柱的面积总和应该等于总概率。\n",
    "\n",
    "以下是一组输入和输出示例：\n",
    "\n",
    "* 早上 5 点到上午 10 点，发生交通事故的概率是午夜到凌晨 5 点的 5 倍。\n",
    "* 上午 10 点到下午 4 点，发生交通事故的概率是午夜 12 点到凌晨 5 点的 3 倍。\n",
    "* 下午 4 点到晚上 9 点，发生交通事故的概率是午夜 12 点到凌晨 5 点的6倍。\n",
    "* 晚上 9 点到午夜 12 点，发生交通事故的概率是午夜到凌晨 5 点的0.5 倍。\n",
    "* 在某一天发生交通事故的概率是 0.05\n",
    "\n",
    "输入将如下所示。\n",
    "\n",
    "对于时间的表示法，你可以使用24小时制\n",
    "hour_intervals = [0, 5, 10, 16, 21, 24]\n",
    "\n",
    "relative_probabilities = [1, 5, 3, 6, 0.5]\n",
    "\n",
    "total_probability = 0.05\n",
    "\n",
    "输出则是每个柱的高度："
   ]
  },
  {
   "cell_type": "code",
   "execution_count": null,
   "metadata": {},
   "outputs": [],
   "source": [
    "[0.0006451612903225806,\n",
    " 0.0032258064516129032,\n",
    " 0.0016129032258064516,\n",
    " 0.003870967741935484,\n",
    " 0.0005376344086021505]"
   ]
  },
  {
   "cell_type": "markdown",
   "metadata": {},
   "source": [
    "练习结束时，你的可视化图应该如下所示：\n",
    "\n",
    "![piece-wise continuous visualization](piece-wise-function.png)\n",
    "\n",
    "# 提示\n",
    "\n",
    "* 所有柱的面积总和等于总概率，在这种示例中，总概率为0.05。\n",
    "* 可以使用相对概率和总概率来查找每个柱的精确区域。如果第一个柱的面积为A，则第二个柱的面积为 5A，第三柱为 3A，以此类推。\n",
    "* 知道了每个柱的面积后，就可以将每个面积的宽度分开来计算柱的高度。\n",
    "\n",
    "## 函数输入和输出\n",
    "\n",
    "下面是bar_heights（）函数的三个输入：\n",
    "* intervals - 表示每个柱的x轴间距\n",
    "* relative_probabilities - 表示每个间距的相对概率\n",
    "* total_probability - 表示所有柱的总面积\n",
    "\n",
    "下面是bar_heights（）函数的一个输出：\n",
    "* heights - 概率密度函数中每个间距对应的每个高度的列表\n",
    "\n",
    "填写TODO，让该函数正常运行。"
   ]
  },
  {
   "cell_type": "code",
   "execution_count": null,
   "metadata": {},
   "outputs": [],
   "source": [
    "def bar_heights(intervals, relative_probabilities, total_probability):\n",
    "\n",
    "    heights = []\n",
    "    \n",
    "    #TODO: sum the relative probabilities\n",
    "    total_relative_prob = 0\n",
    "    \n",
    "    for i in range(0, len(relative_probabilities)):\n",
    "        \n",
    "        #TODO: Looping through the relative_probabilities list, \n",
    "        #      take one probability at a time and \n",
    "        #      calculate the area of each bar. Think about how you can \n",
    "        #      calculate the area of a bar knowing the total_probability,\n",
    "        #      relative probability, and the sum of the relative probabilities.\n",
    "        \n",
    "        #HINT: It's possible to do this in one line of code\n",
    "        \n",
    "        bar_area = 0\n",
    "        \n",
    "        # TODO: Calculate the height of the bar and append the value to the\n",
    "        # heights list. Remember that the area of each bar \n",
    "        # is the width of the bar times the height of the bar\n",
    "        \n",
    "        #HINT: It's possible to do this in one line of code\n",
    "        heights.append(0)\n",
    "        \n",
    "    return heights"
   ]
  },
  {
   "cell_type": "markdown",
   "metadata": {},
   "source": [
    "运行下一个单元格，测试你的函数。"
   ]
  },
  {
   "cell_type": "code",
   "execution_count": null,
   "metadata": {},
   "outputs": [],
   "source": [
    "print(bar_heights([0, 5, 10, 16, 21, 24], [1, 5, 3, 6, 0.5], 0.05))"
   ]
  },
  {
   "cell_type": "markdown",
   "metadata": {},
   "source": [
    "### 将你的结果可视化\n",
    "\n",
    "bar_heights 函数开始运行后，下面的这些代码可以用来将你的结果可视化。"
   ]
  },
  {
   "cell_type": "code",
   "execution_count": null,
   "metadata": {},
   "outputs": [],
   "source": [
    "import matplotlib.pyplot as plt\n",
    "%matplotlib inline\n",
    "\n",
    "hour_intervals = [0, 5, 10, 16, 21, 24]\n",
    "probability_intervals = [1, 5, 3, 6, 1/2]\n",
    "accident_probability = 0.05\n",
    "\n",
    "heights = bar_heights(hour_intervals, probability_intervals, accident_probability)\n",
    "\n",
    "for i in range(len(probability_intervals)):\n",
    "    plt.plot([hour_intervals[i], hour_intervals[i+1]], [heights[i], heights[i]], color='blue') \n",
    "    plt.plot([hour_intervals[i], hour_intervals[i]], [0, heights[i]], '--', color='blue')\n",
    "    plt.plot([hour_intervals[i+1], hour_intervals[i+1]], [0, heights[i]], '--', color='blue')\n",
    "\n",
    "plt.xticks(range(0,25,1))\n",
    "plt.xlabel('hours')\n",
    "plt.ylabel('probability density function')\n",
    "plt.title('Probability Density Function \\n for Car Accidents During the Day')\n",
    "plt.show()"
   ]
  },
  {
   "cell_type": "markdown",
   "metadata": {},
   "source": [
    "当你运行上面的代码单元时，可视化应该看起来像这样：\n",
    "\n",
    "![piece-wise continuous visualization](piece-wise-function.png)"
   ]
  }
 ],
 "metadata": {},
 "nbformat": 4,
 "nbformat_minor": 2
}
