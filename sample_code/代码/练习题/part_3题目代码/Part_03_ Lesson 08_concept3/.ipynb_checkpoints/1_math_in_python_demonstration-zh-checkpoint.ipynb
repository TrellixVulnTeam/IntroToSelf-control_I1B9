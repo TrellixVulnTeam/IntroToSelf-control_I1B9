{
 "cells": [
  {
   "cell_type": "markdown",
   "metadata": {},
   "source": [
    "# Python中的数学[示范]\n",
    "下面的代码演示了 Python 中的一些常见数学运算以及 Python 的 `isinstance` 函数的用法。\n",
    "\n",
    "### Python 中的数学\n",
    "\n",
    "运行下面的单元格，查看在Python中使用数学的示例。数学库包含了许多方法，包括输出pi值的方法。"
   ]
  },
  {
   "cell_type": "code",
   "execution_count": null,
   "metadata": {},
   "outputs": [],
   "source": [
    "import math\n",
    "\n",
    "radius        = 10.0\n",
    "diameter      = 2 * radius\n",
    "circumference = 2 * math.pi * radius\n",
    "area          = math.pi * radius ** 2\n",
    "\n",
    "print(\"Radius is\", radius)\n",
    "print(\"Diameter is\", diameter)\n",
    "print(\"Circumference is\", circumference)\n",
    "print(\"Area is\", area)\n",
    "\n"
   ]
  },
  {
   "cell_type": "markdown",
   "metadata": {},
   "source": [
    "### isinstance() 函数\n",
    "\n",
    "在下一个代码单元中，你将会看到isinstance () 函数的工作原理。\n",
    "\n",
    "isinstance () 函数检查变量是否保存某个类型的值，如 integer，float，string 等。"
   ]
  },
  {
   "cell_type": "code",
   "execution_count": null,
   "metadata": {},
   "outputs": [],
   "source": [
    "sqr_root_2 = math.sqrt(2)\n",
    "is_sqr_root_2_an_integer = isinstance(sqr_root_2, int)\n",
    "print(\"Is square root two an integer?\", is_sqr_root_2_an_integer)\n",
    "\n",
    "is_sqr_root_2_a_float = isinstance(sqr_root_2, float)\n",
    "print(\"Is square root two a float?\", is_sqr_root_2_a_float)"
   ]
  }
 ],
 "metadata": {},
 "nbformat": 4,
 "nbformat_minor": 2
}
