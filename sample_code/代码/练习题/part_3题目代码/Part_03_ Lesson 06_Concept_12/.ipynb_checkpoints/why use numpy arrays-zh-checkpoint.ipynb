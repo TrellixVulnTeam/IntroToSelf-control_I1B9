{
 "cells": [
  {
   "cell_type": "markdown",
   "metadata": {},
   "source": [
    "# 为什么使用 numpy 数组？\n",
    "Numpy是你在学习无人驾驶汽车时不断出现的工具之一。 这是因为numpy数组往往：\n",
    "\n",
    "1. **紧凑** （它们不占用Python列表的内存空间）。\n",
    "\n",
    "2. **高效**（numpy数组的计算通常比Python列表计算快得多）。\n",
    "\n",
    "3. **方便** （我们现在将更多地讨论这方面的话题）。"
   ]
  },
  {
   "cell_type": "code",
   "execution_count": null,
   "metadata": {},
   "outputs": [],
   "source": [
    "# consider this 2d python grid (list of lists)\n",
    "grid = [\n",
    "    [0, 1, 5],\n",
    "    [1, 2, 6],\n",
    "    [2, 3, 7],\n",
    "    [3, 4, 8]\n",
    "]\n",
    "\n",
    "# It's easy to print, for example, row number 0:\n",
    "print(grid[0])"
   ]
  },
  {
   "cell_type": "code",
   "execution_count": null,
   "metadata": {},
   "outputs": [],
   "source": [
    "# but how would you print COLUMN 0? In numpy, this is easy\n",
    "\n",
    "import numpy as np\n",
    "\n",
    "np_grid = np.array([\n",
    "    [0, 1, 5],\n",
    "    [1, 2, 6],\n",
    "    [2, 3, 7],\n",
    "    [3, 4, 8]\n",
    "])\n",
    "\n",
    "# The ':' usually means \"*all values*\n",
    "print(np_grid[:,0])"
   ]
  },
  {
   "cell_type": "code",
   "execution_count": null,
   "metadata": {},
   "outputs": [],
   "source": [
    "# What if you wanted to change the shape of the array?\n",
    "\n",
    "# For example, we can turn the 2D grid from above into a 1D array\n",
    "# Here, the -1 means automatically fit all values into this 1D shape\n",
    "np_1D = np.reshape(np_grid, (1, -1))\n",
    "\n",
    "print(np_1D)"
   ]
  },
  {
   "cell_type": "code",
   "execution_count": null,
   "metadata": {},
   "outputs": [],
   "source": [
    "# We can also create a 2D array of zeros or ones\n",
    "# which is useful for car world creation and analysis\n",
    "\n",
    "# Create a 5x4 array\n",
    "zero_grid = np.zeros((5, 4))\n",
    "\n",
    "print(zero_grid)"
   ]
  }
 ],
 "metadata": {},
 "nbformat": 4,
 "nbformat_minor": 2
}
