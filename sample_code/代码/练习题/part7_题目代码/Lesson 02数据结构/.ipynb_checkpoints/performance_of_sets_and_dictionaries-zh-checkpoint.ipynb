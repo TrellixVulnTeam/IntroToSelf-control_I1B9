{
 "cells": [
  {
   "cell_type": "markdown",
   "metadata": {},
   "source": [
    "# 集合与字典的性能"
   ]
  },
  {
   "cell_type": "code",
   "execution_count": null,
   "metadata": {},
   "outputs": [],
   "source": [
    "# Run this cell first!\n",
    "\n",
    "import time\n",
    "import random\n",
    "from matplotlib import pyplot as plt"
   ]
  },
  {
   "cell_type": "markdown",
   "metadata": {},
   "source": [
    "### 感受 *缓慢*\n",
    "\n",
    "在之前的 notebook 中，你*看到了*列表运行的速度是多么的缓慢。但随着列表变得越来越大，执行归属测试所需的时间也会变得越来越长。\n",
    "\n",
    "但你还是可以*感受*到速度的缓慢。比较一下，运行下面两个单元格各自需要多长时间。"
   ]
  },
  {
   "cell_type": "code",
   "execution_count": null,
   "metadata": {},
   "outputs": [],
   "source": [
    "# SMALL list membership tests\n",
    "\n",
    "small_list = list(range(10)) # ten element list of integers\n",
    "nonexistent_element = -1\n",
    "num_trials = 5000\n",
    "\n",
    "start = time.clock()\n",
    "\n",
    "# do lots of membership tests\n",
    "for _ in range(num_trials):\n",
    "    nonexistent_element in small_list\n",
    "\n",
    "end = time.clock()\n",
    "millis = (end-start) * 1000\n",
    "print(\"Execution complete! That took\", millis, \"milliseconds\")"
   ]
  },
  {
   "cell_type": "code",
   "execution_count": null,
   "metadata": {},
   "outputs": [],
   "source": [
    "# BIG list membership tests\n",
    "\n",
    "big_list = list(range(100000)) # 100K element list of integers\n",
    "nonexistent_element = -1\n",
    "num_trials = 5000\n",
    "\n",
    "start = time.clock()\n",
    "\n",
    "# do lots of membership tests\n",
    "for _ in range(num_trials):\n",
    "    nonexistent_element in big_list\n",
    "\n",
    "end = time.clock()\n",
    "millis = (end-start) * 1000\n",
    "print(\"Execution complete! That took\", millis, \"milliseconds\")"
   ]
  },
  {
   "cell_type": "markdown",
   "metadata": {},
   "source": [
    "那太**无聊** 了，对吧？\n",
    "\n",
    "等待代码执行，即使只需要几秒钟，也已被证明是世界上最枯燥的事情。当无人驾驶汽车的代码运行速度很慢时，它可能会非常危险。\n",
    "\n",
    "幸运的是，我们通常可以通过选择正确的数据结构来**大大**加快代码的运行速度。\n",
    "\n",
    "### 感受 *速度*\n",
    "\n",
    "下面的代码单元格与上面的代码单元格完全相同，除了它们在第一行中使用`set`而不是`list` 。"
   ]
  },
  {
   "cell_type": "code",
   "execution_count": null,
   "metadata": {},
   "outputs": [],
   "source": [
    "# SMALL set membership tests\n",
    "\n",
    "small_set = set(range(10)) # ten element list of integers\n",
    "nonexistent_element = -1\n",
    "num_trials = 5000\n",
    "\n",
    "start = time.clock()\n",
    "\n",
    "# do lots of membership tests\n",
    "for _ in range(num_trials):\n",
    "    nonexistent_element in small_set\n",
    "\n",
    "end = time.clock()\n",
    "millis = (end-start) * 1000\n",
    "print(\"Execution complete! That took\", millis, \"milliseconds\")"
   ]
  },
  {
   "cell_type": "markdown",
   "metadata": {},
   "source": [
    "### 拭目以待吧！\n",
    "\n",
    "![drum roll](https://d17h27t6h515a5.cloudfront.net/topher/2017/November/5a04cbf1_drum-roll/drum-roll.gif)\n",
    "\n",
    "还记得大列表的运行速度*慢得多么让人崩溃*吗？现在，抓紧你的座位，拭目以待吧！"
   ]
  },
  {
   "cell_type": "code",
   "execution_count": null,
   "metadata": {},
   "outputs": [],
   "source": [
    "# BIG set membership tests\n",
    "\n",
    "big_set = set(range(100000)) # 100K element list of integers\n",
    "nonexistent_element = -1\n",
    "num_trials = 5000\n",
    "\n",
    "start = time.clock()\n",
    "\n",
    "# do lots of membership tests\n",
    "for _ in range(num_trials):\n",
    "    nonexistent_element in big_set\n",
    "\n",
    "end = time.clock()\n",
    "millis = (end-start) * 1000\n",
    "print(\"Execution complete! That took\", millis, \"milliseconds\")"
   ]
  },
  {
   "cell_type": "markdown",
   "metadata": {},
   "source": [
    "![fast car](https://d17h27t6h515a5.cloudfront.net/topher/2017/November/5a04cd26_fast-sport-car-1466168667pxr/fast-sport-car-1466168667pxr.jpg)\n",
    "\n",
    "### 退后一步\n",
    "\n",
    "\"对不起，你要重复运行代码。有时候我在编程时会太过激动，以至于忽略了那些声音“把你的动作连贯起来！写一个函数，不要再重复了！”\n",
    "\n",
    "现在我要听听那个声音，清理这个代码，并告诉你集合运行的速度有多快。"
   ]
  },
  {
   "cell_type": "code",
   "execution_count": null,
   "metadata": {},
   "outputs": [],
   "source": [
    "def test_data_structure_speed(data_structure_type, size, N=50):\n",
    "    if data_structure_type != dict:\n",
    "        data_structure = data_structure_type(range(size))\n",
    "    else:\n",
    "        data_structure = {num: \"value\" for num in range(size)}\n",
    "    nonexistent_element = -1\n",
    "    \n",
    "    start = time.clock()\n",
    "    for _ in range(N):\n",
    "        nonexistent_element in data_structure\n",
    "    end = time.clock()\n",
    "    \n",
    "    millis = (end-start) * 1000\n",
    "    return millis    "
   ]
  },
  {
   "cell_type": "code",
   "execution_count": null,
   "metadata": {},
   "outputs": [],
   "source": [
    "# set test\n",
    "test_data_structure_speed(set, 100000, N=1000)"
   ]
  },
  {
   "cell_type": "code",
   "execution_count": null,
   "metadata": {},
   "outputs": [],
   "source": [
    "# list test\n",
    "test_data_structure_speed(list, 100000, N=1000)"
   ]
  },
  {
   "cell_type": "code",
   "execution_count": null,
   "metadata": {},
   "outputs": [],
   "source": [
    "# dictionary test\n",
    "test_data_structure_speed(dict, 100000, N=1000)"
   ]
  },
  {
   "cell_type": "code",
   "execution_count": null,
   "metadata": {},
   "outputs": [],
   "source": [
    "sizes = list(range(0, 500000, 25000))\n",
    "list_speeds = [test_data_structure_speed(list, size) for size in sizes]\n",
    "set_speeds  = [test_data_structure_speed(set,  size) for size in sizes]\n",
    "dict_speeds = [test_data_structure_speed(dict, size) for size in sizes]\n",
    "\n",
    "plt.scatter(sizes, list_speeds, c='g', marker=\"o\") #green circle\n",
    "plt.scatter(sizes, set_speeds,  c='r', marker=\"D\") #red diamond\n",
    "plt.scatter(sizes, dict_speeds, c='b', marker=\"*\") #blue star\n",
    "\n",
    "plt.xlabel(\"Data Structure Size\")\n",
    "plt.ylabel(\"Total Time (ms)\")\n",
    "plt.legend([\"List\", \"Set\", \"Dictionary\"])\n",
    "plt.title(\"Comparing Membership Testing Times\")\n",
    "plt.show()"
   ]
  },
  {
   "cell_type": "markdown",
   "metadata": {},
   "source": [
    "正如你所看到的，集合与字典的性能不依赖于集合/字典的大小，而且归属测试的速度一直 **很快**。速度快就好。"
   ]
  }
 ],
 "metadata": {
  "kernelspec": {
   "display_name": "Python 3",
   "language": "python",
   "name": "python3"
  },
  "language_info": {
   "codemirror_mode": {
    "name": "ipython",
    "version": 3
   },
   "file_extension": ".py",
   "mimetype": "text/x-python",
   "name": "python",
   "nbconvert_exporter": "python",
   "pygments_lexer": "ipython3",
   "version": "3.6.3"
  }
 },
 "nbformat": 4,
 "nbformat_minor": 2
}
