{
 "cells": [
  {
   "cell_type": "code",
   "execution_count": 1,
   "metadata": {},
   "outputs": [],
   "source": [
    "import time\n",
    "import random\n",
    "from matplotlib import pyplot as plt"
   ]
  },
  {
   "cell_type": "markdown",
   "metadata": {},
   "source": [
    "# 列表、时间与性能\n",
    "\n",
    "在这个 notebook 中，我们将要探索列表的性能。具体来说，我们将要看一看在列表中执行**归属查询**所需的时间是如何受到列表的各种属性的影响。 “归属查询”就是你在编写代码时所要做的事情："
   ]
  },
  {
   "cell_type": "code",
   "execution_count": 2,
   "metadata": {},
   "outputs": [
    {
     "ename": "SyntaxError",
     "evalue": "unexpected EOF while parsing (<ipython-input-2-1076ea899db5>, line 4)",
     "output_type": "error",
     "traceback": [
      "\u001b[0;36m  File \u001b[0;32m\"<ipython-input-2-1076ea899db5>\"\u001b[0;36m, line \u001b[0;32m4\u001b[0m\n\u001b[0;31m    # of the element 3\u001b[0m\n\u001b[0m                       ^\u001b[0m\n\u001b[0;31mSyntaxError\u001b[0m\u001b[0;31m:\u001b[0m unexpected EOF while parsing\n"
     ]
    }
   ],
   "source": [
    "my_list = [1,2,3]\n",
    "if 3 in my_list:\n",
    "    # we just checked my_list for membership\n",
    "    # of the element 3 "
   ]
  },
  {
   "cell_type": "markdown",
   "metadata": {},
   "source": [
    "让我们在代码中探索以下两个问题：\n",
    "\n",
    "1. 当列表中的元素为IS时，该元素的位置（靠近开始位置还是靠近结束位置）是否会影响执行归属查询所需的时间？\n",
    "\n",
    "2. 当一个元素不在列表中时，列表大小是否会影响执行归属查询所需的时间？\n",
    "\n",
    "我们的发现将会激发一场更深入的讨论，即列表与其他数据结构之间是如何权衡的。"
   ]
  },
  {
   "cell_type": "code",
   "execution_count": 3,
   "metadata": {},
   "outputs": [
    {
     "data": {
      "text/plain": [
       "True"
      ]
     },
     "execution_count": 3,
     "metadata": {},
     "output_type": "execute_result"
    }
   ],
   "source": [
    "# before we continue, make sure you understand \n",
    "# what we mean by \"testing for membership\" in a list. \n",
    "\n",
    "L = [1,2,3]\n",
    "2 in L"
   ]
  },
  {
   "cell_type": "code",
   "execution_count": 4,
   "metadata": {},
   "outputs": [
    {
     "data": {
      "text/plain": [
       "False"
      ]
     },
     "execution_count": 4,
     "metadata": {},
     "output_type": "execute_result"
    }
   ],
   "source": [
    "L = [1,2,3]\n",
    "4 in L"
   ]
  },
  {
   "cell_type": "markdown",
   "metadata": {},
   "source": [
    "## 问题1\n",
    "> 列表中的位置是否影响执行归属测试所需的时间？\n",
    "\n",
    "首先，我们需要弄清楚如何处理这些计时..."
   ]
  },
  {
   "cell_type": "code",
   "execution_count": 5,
   "metadata": {},
   "outputs": [
    {
     "name": "stdout",
     "output_type": "stream",
     "text": [
      "[0, 1, 2, 3, 4, 5, 6, 7, 8, 9]\n"
     ]
    }
   ],
   "source": [
    "# let's make a small list to begin with\n",
    "L = list(range(10))\n",
    "print(L)"
   ]
  },
  {
   "cell_type": "code",
   "execution_count": 6,
   "metadata": {},
   "outputs": [
    {
     "name": "stdout",
     "output_type": "stream",
     "text": [
      "0.062000000000006494 milliseconds to find 0 in list\n"
     ]
    }
   ],
   "source": [
    "# now let's time how long it takes to check for \n",
    "# membership of the very first element (0)...\n",
    "\n",
    "element = 0\n",
    "\n",
    "start_time = time.clock()\n",
    "\n",
    "element in L     # this line of code looks weird \n",
    "                 # but it's valid python!\n",
    "\n",
    "end_time =   time.clock()\n",
    "\n",
    "# make sure you understand why the following code makes sense.\n",
    "duration_in_seconds = end_time - start_time\n",
    "milliseconds = duration_in_seconds * 1000\n",
    "\n",
    "print(milliseconds, \"milliseconds to find 0 in list\")"
   ]
  },
  {
   "cell_type": "code",
   "execution_count": 7,
   "metadata": {},
   "outputs": [
    {
     "name": "stdout",
     "output_type": "stream",
     "text": [
      "on average, it took 0.009095999999999993 ms per membership test\n"
     ]
    }
   ],
   "source": [
    "# Run the above code a few times. You should notice that the time\n",
    "# can change quite a bit. What we actually want is to conduct\n",
    "# this experiment a bunch of times and find the average. \n",
    "\n",
    "\n",
    "L = list(range(1000)) # use a bigger list\n",
    "element = 500         # look in the middle of the list\n",
    "num_trials = 1000     # perform experiment many times\n",
    "\n",
    "start = time.clock()\n",
    "for _ in range(num_trials):\n",
    "    element in L\n",
    "end = time.clock()\n",
    "secs = end-start\n",
    "millis = secs * 1000\n",
    "millis_per_check = millis/num_trials\n",
    "print(\"on average, it took\", millis_per_check, \"ms per membership test\")"
   ]
  },
  {
   "cell_type": "code",
   "execution_count": 8,
   "metadata": {},
   "outputs": [
    {
     "name": "stdout",
     "output_type": "stream",
     "text": [
      "on average, it took 0.008449999999993185 ms per membership test\n"
     ]
    }
   ],
   "source": [
    "# That's a useful bit of code! \n",
    "# Let's generalize it and turn it into a reusable function\n",
    "\n",
    "def avg_millis_to_check_el_in_list(element, target_list, N=20):\n",
    "    start = time.clock()\n",
    "    for _ in range(N):\n",
    "        element in target_list\n",
    "    end = time.clock()\n",
    "    return (end-start)*1000 / N\n",
    "\n",
    "avg_millis = avg_millis_to_check_el_in_list(500, list(range(1000)))\n",
    "print(\"on average, it took\", avg_millis, \"ms per membership test\")"
   ]
  },
  {
   "cell_type": "markdown",
   "metadata": {},
   "source": [
    "### 注 - 别急，慢慢来！\n",
    "确保你把时间花在接下来的几个单元格上。尝试在运行代码**之前**仔细阅读代码，并尝试对将要发生的事情进行预测..."
   ]
  },
  {
   "cell_type": "code",
   "execution_count": 9,
   "metadata": {},
   "outputs": [
    {
     "name": "stdout",
     "output_type": "stream",
     "text": [
      "T_beginning:  0.01594999999999791\n",
      "T_middle:     8.031750000000004\n",
      "T_end:        15.987099999999998\n"
     ]
    }
   ],
   "source": [
    "# now we can compare time to lookup low numbers (near the \n",
    "# beginning of the list) vs higher numbers (near the end).\n",
    "\n",
    "# Let's use a really big list this time\n",
    "list_size = 1000000\n",
    "L = list(range(list_size))\n",
    "\n",
    "# Now make three separate timings...\n",
    "T_beginning = avg_millis_to_check_el_in_list(1000, L)\n",
    "T_middle    = avg_millis_to_check_el_in_list(500000, L)\n",
    "T_end       = avg_millis_to_check_el_in_list(999999, L)\n",
    "\n",
    "print(\"T_beginning: \", T_beginning)\n",
    "print(\"T_middle:    \", T_middle)\n",
    "print(\"T_end:       \", T_end)"
   ]
  },
  {
   "cell_type": "markdown",
   "metadata": {},
   "source": [
    "太有意思了！这显然有关系。让我们看看我们是否可以深入挖掘。在列表中显示平均时间vs位置的 [散点图](https://matplotlib.org/devdocs/api/_as_gen/matplotlib.pyplot.scatter.html) 可能有助于我们解决问题。"
   ]
  },
  {
   "cell_type": "code",
   "execution_count": 9,
   "metadata": {},
   "outputs": [
    {
     "name": "stdout",
     "output_type": "stream",
     "text": [
      "positions checked: [0, 10000, 20000, 30000, 40000, 50000, 60000, 70000, 80000, 90000]\n",
      "average millis:    [0.0004499999999962867, 0.15379999999999283, 0.3139499999999962, 0.4660999999999915, 0.6166000000000005, 0.7766999999999968, 0.928300000000004, 1.0805999999999982, 1.2410000000000032, 1.3799499999999965]\n"
     ]
    }
   ],
   "source": [
    "# Making a scatter plot of position in list (X-axis)\n",
    "# vs. average time to find element (y-axis)\n",
    "\n",
    "list_size = 100000\n",
    "L = list(range(list_size))\n",
    "\n",
    "# check between start and end in increments of 10000. This will\n",
    "# be our X axis too!\n",
    "positions = list(range(0, list_size, 10000))\n",
    "\n",
    "# use list comprehension to generate Y-axis data!\n",
    "millis = [avg_millis_to_check_el_in_list(pos, L) for pos in positions]\n",
    "\n",
    "# first, let's look at the raw data\n",
    "print(\"positions checked:\", positions)\n",
    "print(\"average millis:   \", millis)"
   ]
  },
  {
   "cell_type": "code",
   "execution_count": 10,
   "metadata": {},
   "outputs": [
    {
     "data": {
      "image/png": "[encoded data removed]",
      "text/plain": [
       "<matplotlib.figure.Figure at 0x7fd523816d68>"
      ]
     },
     "metadata": {
      "needs_background": "light"
     },
     "output_type": "display_data"
    }
   ],
   "source": [
    "# now let's make the scatter plot!\n",
    "X = positions \n",
    "Y = millis\n",
    "plt.scatter(X, Y)\n",
    "plt.title(\"Membership Test Time\\nvs Position in List\")\n",
    "plt.xlabel(\"Position in List\")\n",
    "plt.ylabel(\"Average # of millis / test\")\n",
    "plt.show()"
   ]
  },
  {
   "cell_type": "markdown",
   "metadata": {},
   "source": [
    "### 问题1的答案\n",
    "是的! 一个元素在列表中的位置 **肯定** 会影响发现该元素存在于列表中所需的时间！\n",
    "\n",
    "列表开头的元素可以很快找到。 列表末尾的元素则需要更长的时间。\n",
    "\n",
    "\n",
    "\n",
    "## 问题2 \n",
    "\n",
    "> 列表大小是否会影响某个元素不在列表中时，该元素的归属测试所需的时间？"
   ]
  },
  {
   "cell_type": "code",
   "execution_count": 11,
   "metadata": {},
   "outputs": [],
   "source": [
    "# Let's jump right into writing a function\n",
    "\n",
    "def avg_millis_to_test_for_non_existent_el(list_size, num_trials=20):\n",
    "    # 1. prepare list and nonexistent element\n",
    "    L = list(range(list_size))\n",
    "    element = -1\n",
    "    \n",
    "    # 2. start the timer\n",
    "    start = time.clock()\n",
    "    \n",
    "    # 3. repeat membership test num_trials times\n",
    "    for _ in range(num_trials):\n",
    "        element in L\n",
    "    \n",
    "    # 4. stop the timer\n",
    "    end = time.clock()\n",
    "    \n",
    "    # 5. do the math and return the result\n",
    "    millis_per_test = (end-start) * 1000 / num_trials\n",
    "    return millis_per_test"
   ]
  },
  {
   "cell_type": "code",
   "execution_count": 12,
   "metadata": {},
   "outputs": [
    {
     "name": "stdout",
     "output_type": "stream",
     "text": [
      "T_small:  0.17929999999999335\n",
      "T_medium: 1.5671499999999838\n",
      "T_large:  15.974449999999996\n"
     ]
    }
   ],
   "source": [
    "# Let's use this function on lists of different sizes\n",
    "small  = 10000\n",
    "medium = 100000\n",
    "large  = 1000000\n",
    "\n",
    "T_small  = avg_millis_to_test_for_non_existent_el(small)\n",
    "T_medium = avg_millis_to_test_for_non_existent_el(medium)\n",
    "T_large  = avg_millis_to_test_for_non_existent_el(large)\n",
    "\n",
    "print(\"T_small: \", T_small)\n",
    "print(\"T_medium:\", T_medium)\n",
    "print(\"T_large: \", T_large)"
   ]
  },
  {
   "cell_type": "markdown",
   "metadata": {},
   "source": [
    "我们再一次看到了这种关系...\n",
    "\n",
    "我们再做一个散点图。"
   ]
  },
  {
   "cell_type": "code",
   "execution_count": 13,
   "metadata": {},
   "outputs": [
    {
     "data": {
      "image/png": "[encoded data removed]",
      "text/plain": [
       "<matplotlib.figure.Figure at 0x7fd520c51898>"
      ]
     },
     "metadata": {
      "needs_background": "light"
     },
     "output_type": "display_data"
    }
   ],
   "source": [
    "sizes = list(range(100000, 1000000, 100000))\n",
    "times = [avg_millis_to_test_for_non_existent_el(s) for s in sizes]\n",
    "plt.scatter(sizes, times)\n",
    "plt.xlabel(\"List Size\")\n",
    "plt.ylabel(\"Avg Millis\")\n",
    "plt.show()"
   ]
  },
  {
   "cell_type": "markdown",
   "metadata": {},
   "source": [
    "### 问题2的答案\n",
    "是的! 当检查列表中元素的归属时，如果列表很大，要找出该列表中**不**存在的元素需要更长的时间。\n",
    "\n",
    "### 接下来的步骤\n",
    "你可以继续做这个练习，继续探索更多关于列表与时间的问题。 如果你继续探索并发现了有趣的内容，别忘了在小组Slack板块中与大家分享哦！"
   ]
  },
  {
   "cell_type": "code",
   "execution_count": null,
   "metadata": {},
   "outputs": [],
   "source": [
    "# TODO (optional) - keep exploring! "
   ]
  }
 ],
 "metadata": {
  "kernelspec": {
   "display_name": "Python 3",
   "language": "python",
   "name": "python3"
  },
  "language_info": {
   "codemirror_mode": {
    "name": "ipython",
    "version": 3
   },
   "file_extension": ".py",
   "mimetype": "text/x-python",
   "name": "python",
   "nbconvert_exporter": "python",
   "pygments_lexer": "ipython3",
   "version": "3.6.3"
  }
 },
 "nbformat": 4,
 "nbformat_minor": 2
}
