{
 "cells": [
  {
   "cell_type": "markdown",
   "metadata": {},
   "source": [
    "# 两个日期之间的天数\n",
    "\n",
    "本课将着重讨论一个问题：计算两个日期之间的天数。\n",
    "\n",
    "在这个工作区中，只要对你有用，想怎么使用都可以。在浏览相关视频时，你可能希望在第二个标签中让它保持在打开状态。"
   ]
  },
  {
   "cell_type": "code",
   "execution_count": null,
   "metadata": {},
   "outputs": [],
   "source": [
    "def days_between_dates(y1, m1, d1, y2, m2, d2):\n",
    "    \"\"\"\n",
    "    Calculates the number of days between two dates.\n",
    "    \"\"\"\n",
    "    \n",
    "    # TODO - by the end of this lesson you will have\n",
    "    #  completed this function. You do not need to complete\n",
    "    #  it yet though! \n",
    "    \n",
    "    return 0\n",
    "\n",
    "def test_days_between_dates():\n",
    "    \n",
    "    # test same day\n",
    "    assert(days_between_dates(2017, 12, 30,\n",
    "                              2017, 12, 30) == 0)\n",
    "    # test adjacent days\n",
    "    assert(days_between_dates(2017, 12, 30, \n",
    "                              2017, 12, 31) == 1)\n",
    "    # test new year\n",
    "    assert(days_between_dates(2017, 12, 30, \n",
    "                              2018, 1,  1)  == 2)\n",
    "    # test full year difference\n",
    "    assert(days_between_dates(2012, 6, 29,\n",
    "                              2013, 6, 29)  == 365)\n",
    "    \n",
    "    print(\"Congratulations! Your days_between_dates\")\n",
    "    print(\"function is working correctly!\")\n",
    "    \n",
    "test_days_between_dates()"
   ]
  }
 ],
 "metadata": {},
 "nbformat": 4,
 "nbformat_minor": 2
}
