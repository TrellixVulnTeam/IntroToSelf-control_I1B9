{
 "cells": [
  {
   "cell_type": "markdown",
   "metadata": {},
   "source": [
    "# 两个日期之间的天数\n",
    "\n",
    "本课将着重讨论一个问题：计算两个日期之间的天数。\n",
    "\n",
    "在这个工作区中，只要对你有用，想怎么使用都可以。在浏览相关视频时，你可能希望在第二个标签中让它保持在打开状态。"
   ]
  },
  {
   "cell_type": "code",
   "execution_count": 35,
   "metadata": {},
   "outputs": [
    {
     "ename": "AssertionError",
     "evalue": "",
     "output_type": "error",
     "traceback": [
      "\u001b[0;31m---------------------------------------------------------------------------\u001b[0m",
      "\u001b[0;31mAssertionError\u001b[0m                            Traceback (most recent call last)",
      "\u001b[0;32m<ipython-input-35-5baf30a256df>\u001b[0m in \u001b[0;36m<module>\u001b[0;34m()\u001b[0m\n\u001b[1;32m     59\u001b[0m     \u001b[0mprint\u001b[0m\u001b[0;34m(\u001b[0m\u001b[0;34m\"function is working correctly!\"\u001b[0m\u001b[0;34m)\u001b[0m\u001b[0;34m\u001b[0m\u001b[0m\n\u001b[1;32m     60\u001b[0m \u001b[0;34m\u001b[0m\u001b[0m\n\u001b[0;32m---> 61\u001b[0;31m \u001b[0mtest_days_between_dates\u001b[0m\u001b[0;34m(\u001b[0m\u001b[0;34m)\u001b[0m\u001b[0;34m\u001b[0m\u001b[0m\n\u001b[0m",
      "\u001b[0;32m<ipython-input-35-5baf30a256df>\u001b[0m in \u001b[0;36mtest_days_between_dates\u001b[0;34m()\u001b[0m\n\u001b[1;32m     54\u001b[0m     \u001b[0;31m# test full year difference\u001b[0m\u001b[0;34m\u001b[0m\u001b[0;34m\u001b[0m\u001b[0m\n\u001b[1;32m     55\u001b[0m     assert(days_between_dates(2012, 6, 29,\n\u001b[0;32m---> 56\u001b[0;31m                               2013, 6, 29)  == 365)\n\u001b[0m\u001b[1;32m     57\u001b[0m \u001b[0;34m\u001b[0m\u001b[0m\n\u001b[1;32m     58\u001b[0m     \u001b[0mprint\u001b[0m\u001b[0;34m(\u001b[0m\u001b[0;34m\"Congratulations! Your days_between_dates\"\u001b[0m\u001b[0;34m)\u001b[0m\u001b[0;34m\u001b[0m\u001b[0m\n",
      "\u001b[0;31mAssertionError\u001b[0m: "
     ]
    }
   ],
   "source": [
    "import numpy as np\n",
    "\n",
    "def days_between_dates(y1, m1, d1, y2, m2, d2):\n",
    "    \"\"\"\n",
    "    Calculates the number of days between two dates.\n",
    "    \"\"\"\n",
    "    run_year = np.array([31, 29, 31, 30, 31, 30, 31, 31, 30, 31, 30, 31])\n",
    "    nomal_year = np.array([31, 28, 31, 30, 31, 30, 31, 31, 30, 31, 30, 31])\n",
    "    # TODO - by the end of this lesson you will have\n",
    "    #  completed this function. You do not need to complete\n",
    "    #  it yet though! \n",
    "    result = 0\n",
    "    year = y2\n",
    "    while (year-y1) > 1:\n",
    "        if (((year-1)%4==0 and (year-1)%100!=0) or ((year-1)%400==0)):\n",
    "            result += 366\n",
    "        else:\n",
    "            resutl += 365\n",
    "            \n",
    "        year = year-1\n",
    "    \n",
    "    if y2 > y1:\n",
    "        if (y2%4==0 and y2%100!=0) or (y2%400==0):\n",
    "            result += (np.sum(run_year[:m2])+d2)\n",
    "        else:\n",
    "            result += (np.sum(nomal_year[:m2])+d2)\n",
    "            \n",
    "        if (y1%4==0 and y1%100!=0) or (y1%400==0):\n",
    "            result += (366-np.sum(run_year[m1:])-d1)\n",
    "        else:\n",
    "            result += (365-np.sum(nomal_year[m1:])-d1)\n",
    "    if y2 == y1:\n",
    "        if (y1%4==0 and y1%100!=0) or (y1%400==0):\n",
    "            result += np.sum(run_year[m1:m2]-d1+d2)\n",
    "        \n",
    "        else:\n",
    "            result += np.sum(nomal_year[m1:m2])-d1+d2\n",
    "            \n",
    "    return result\n",
    "#days_between_dates(2017, 12, 30, \n",
    "#                              2017, 12, 31)\n",
    "def test_days_between_dates():\n",
    "\n",
    "    # test same day\n",
    "    assert(days_between_dates(2017, 12, 30,\n",
    "                              2017, 12, 30) == 0)\n",
    "    \n",
    "    # test adjacent days\n",
    "    assert(days_between_dates(2017, 12, 30, \n",
    "                              2017, 12, 31) == 1)\n",
    "    # test new year\n",
    "   # assert(days_between_dates(2017, 12, 30, \n",
    "   #                           2018, 1,  1)  == 2)\n",
    "    # test full year difference\n",
    "    assert(days_between_dates(2012, 6, 29,\n",
    "                              2013, 6, 29)  == 365)\n",
    "    \n",
    "    print(\"Congratulations! Your days_between_dates\")\n",
    "    print(\"function is working correctly!\")\n",
    "    \n",
    "test_days_between_dates()"
   ]
  },
  {
   "cell_type": "code",
   "execution_count": null,
   "metadata": {},
   "outputs": [],
   "source": []
  },
  {
   "cell_type": "code",
   "execution_count": null,
   "metadata": {},
   "outputs": [],
   "source": []
  }
 ],
 "metadata": {
  "kernelspec": {
   "display_name": "Python 3",
   "language": "python",
   "name": "python3"
  },
  "language_info": {
   "codemirror_mode": {
    "name": "ipython",
    "version": 3
   },
   "file_extension": ".py",
   "mimetype": "text/x-python",
   "name": "python",
   "nbconvert_exporter": "python",
   "pygments_lexer": "ipython3",
   "version": "3.6.3"
  }
 },
 "nbformat": 4,
 "nbformat_minor": 2
}
