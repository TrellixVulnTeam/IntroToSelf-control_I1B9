{
 "cells": [
  {
   "cell_type": "markdown",
   "metadata": {},
   "source": [
    "# 绘制位置与时间关系图\n",
    "在这个 notebook 中，你需要绘制一个刚才看到的数据中位置与时间的关系图。\n",
    "\n",
    "首先，我将通过以下步骤演示这个绘图过程：\n",
    "\n",
    "1. 导入Python最流行的绘图库 `pyplot`。\n",
    "2. 将数据存储在名为`X`和`Y`的变量中。\n",
    "3. 使用pyplot的`scatter()`函数创建一个该数据的散点图。\n",
    "4. 使用pyplot的`plot()`函数添加一个连接两个数据点的线。\n",
    "5. 为该图表添加轴标签与一个标题。"
   ]
  },
  {
   "cell_type": "code",
   "execution_count": null,
   "metadata": {},
   "outputs": [],
   "source": [
    "# Step 1.\n",
    "#  we import pyplot as plt so we can refer to the pyplot\n",
    "#  succinctly. This is a standard convention for this library.\n",
    "\n",
    "from matplotlib import pyplot as plt"
   ]
  },
  {
   "cell_type": "markdown",
   "metadata": {},
   "source": [
    "刚开始，我只告诉你2：00与3：00时的里程数，该数据看起来是这样的。\n",
    "\n",
    "|  时间  | 里程数 <br>(英里) |\n",
    "| :--: | :----------: |\n",
    "| 2:00 |      30      |\n",
    "| 3:00 |      80      |\n",
    "\n",
    "我想要制作一个这些数据的散点图，并且希望**横**轴显示时间，**纵**轴显示里程数。\n",
    "\n",
    "在这个notebook（以及后面的notebook）中，我们将使用大写字母`X` 来存储横轴数据，并使用大写字母`Y`来存储纵轴数据。在这个示例中："
   ]
  },
  {
   "cell_type": "code",
   "execution_count": null,
   "metadata": {},
   "outputs": [],
   "source": [
    "# Step 2.\n",
    "#  get the data into variables called X and Y. This naming pattern\n",
    "#  is a convention. You could use any variables you like.\n",
    "\n",
    "X = [2,3]\n",
    "Y = [30,80]"
   ]
  },
  {
   "cell_type": "code",
   "execution_count": null,
   "metadata": {},
   "outputs": [],
   "source": [
    "# Step 3.\n",
    "#  create a scatter plot using plt.scatter. Note that you NEED\n",
    "#  to call plt.show() to actually see the plot. Forgetting to  \n",
    "#  call plt.show() is a common source of problems for people \n",
    "#  new to this library\n",
    "\n",
    "plt.scatter(X,Y)\n",
    "plt.show()"
   ]
  },
  {
   "cell_type": "markdown",
   "metadata": {},
   "source": [
    "这个散点图看起来不那么令人激动，因为它只有两个数据点。让我们再添加一条连接这些数据点的线。"
   ]
  },
  {
   "cell_type": "code",
   "execution_count": null,
   "metadata": {},
   "outputs": [],
   "source": [
    "# Step 4.\n",
    "#  add lines connecting adjacent points\n",
    "\n",
    "plt.scatter(X,Y)\n",
    "plt.plot(X,Y)\n",
    "plt.show()"
   ]
  },
  {
   "cell_type": "markdown",
   "metadata": {},
   "source": [
    "让我们为X轴和Y轴添加一个标题和标签。"
   ]
  },
  {
   "cell_type": "code",
   "execution_count": null,
   "metadata": {},
   "outputs": [],
   "source": [
    "plt.scatter(X,Y)\n",
    "plt.plot(X,Y)\n",
    "plt.title(\"Position vs. Time on a Roadtrip\")\n",
    "plt.xlabel(\"Time (in hours)\")\n",
    "plt.ylabel(\"Odometer Reading (in miles)\")\n",
    "plt.show()"
   ]
  },
  {
   "cell_type": "markdown",
   "metadata": {},
   "source": [
    "## 时间间隔：二十分钟\n",
    "每*20*分钟查看一次里程表，其数据如下所示：\n",
    "\n",
    "|  时间  | 里程数<br>(英里) |\n",
    "| :--: | :---------: |\n",
    "| 2:00 |     30      |\n",
    "| 2:20 |     40      |\n",
    "| 2:40 |     68      |\n",
    "| 3:00 |     80      |\n",
    "\n",
    "但这里有一个更好的绘图方法，具体是这样的（注意时间表示上的差异）：\n",
    "\n",
    "|  时间   | 里程数<br>(英里) |\n",
    "| :---: | :---------: |\n",
    "| 2.000 |     30      |\n",
    "| 2.333 |     40      |\n",
    "| 2.667 |     68      |\n",
    "| 3.000 |     80      |\n",
    "\n",
    "### 练习1 - 使用连接相邻点的线，绘制一个上述数据中的位置与时间关系图。\n",
    "\n",
    "使用上面显示的数据重现这个过程。"
   ]
  },
  {
   "cell_type": "code",
   "execution_count": null,
   "metadata": {},
   "outputs": [],
   "source": [
    "# TODO - your code for exercise 1 here\n",
    "\n",
    "\n",
    "\n",
    "\n"
   ]
  },
  {
   "cell_type": "markdown",
   "metadata": {},
   "source": [
    "#### 练习1 - 解决方案检查（notebook末尾有完整的解决方案代码）\n",
    "如果生成了一个如下所示的图表，你的绘图就是正确的：\n",
    "\n",
    "![](https://d17h27t6h515a5.cloudfront.net/topher/2017/December/5a2ee74f_vmc-l1-20-min-plot/vmc-l1-20-min-plot.png)\n",
    "\n",
    "\n",
    "### 练习2 - 思考题\n",
    "看一看上面的图表，并思考以下问题（我们将在下面的视频中进一步讨论这些问题）\n",
    "\n",
    "1. 在不查看实际数据的情况下，你如何知道哪些时间间隔的平均速度最高？\n",
    "\n",
    "2. 在一个3:00 - 4:00期间停止运行的汽车里，你要将这些数据绘制成图，则那条线的**斜率**是多少？"
   ]
  },
  {
   "cell_type": "code",
   "execution_count": null,
   "metadata": {},
   "outputs": [],
   "source": [
    "# \n",
    "\n",
    "#\n",
    "\n",
    "#\n",
    "\n",
    "#  SOLUTION CODE BELOW\n",
    "\n",
    "#\n",
    "\n",
    "#\n",
    "\n",
    "#\n",
    "\n",
    "# Exercise 1 - Solution\n",
    "\n",
    "X = [\n",
    "    2.000,\n",
    "    2.333,\n",
    "    2.667,\n",
    "    3.000\n",
    "]\n",
    "\n",
    "Y = [\n",
    "    30,\n",
    "    40,\n",
    "    68,\n",
    "    80\n",
    "]\n",
    "\n",
    "plt.scatter(X,Y)\n",
    "plt.plot(X,Y)\n",
    "plt.title(\"Position vs. Time on a Roadtrip\")\n",
    "plt.xlabel(\"Time (in hours)\")\n",
    "plt.ylabel(\"Odometer Reading (in miles)\")\n",
    "plt.show()"
   ]
  }
 ],
 "metadata": {},
 "nbformat": 4,
 "nbformat_minor": 2
}
