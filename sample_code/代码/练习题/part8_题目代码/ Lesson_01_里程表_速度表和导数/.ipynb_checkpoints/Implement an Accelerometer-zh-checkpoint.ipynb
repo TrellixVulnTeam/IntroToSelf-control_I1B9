{
 "cells": [
  {
   "cell_type": "markdown",
   "metadata": {},
   "source": [
    "# 编写一个类似于加速度计的函数\n",
    "在该 notebook 中，你将定义自己的`get_derivative_from_data`函数，并使用它来区分位置数据ONCE，从而获取速度信息，然后再获取加速度信息。\n",
    "\n",
    "在第1部分中，我将对此过程进行演示，然后在第2部分中你需要亲自尝试实现该函数。\n",
    "\n",
    "-----\n",
    "\n",
    "## 第1部分 - 提醒事项与过程示范"
   ]
  },
  {
   "cell_type": "code",
   "execution_count": null,
   "metadata": {},
   "outputs": [],
   "source": [
    "# run this cell for required imports\n",
    "\n",
    "from helpers import process_data\n",
    "from helpers import get_derivative_from_data as solution_derivative\n",
    "from matplotlib import pyplot as plt"
   ]
  },
  {
   "cell_type": "code",
   "execution_count": null,
   "metadata": {},
   "outputs": [],
   "source": [
    "# load the parallel park data\n",
    "PARALLEL_PARK_DATA = process_data(\"parallel_park.pickle\")\n",
    "\n",
    "# get the relevant columns\n",
    "timestamps    = [row[0] for row in PARALLEL_PARK_DATA]\n",
    "displacements = [row[1] for row in PARALLEL_PARK_DATA]\n",
    "\n",
    "# calculate first derivative\n",
    "speeds = solution_derivative(displacements, timestamps)\n",
    "\n",
    "# plot\n",
    "plt.title(\"Position and Velocity vs Time\")\n",
    "plt.xlabel(\"Time (seconds)\")\n",
    "plt.ylabel(\"Position (blue) and Speed (orange)\")\n",
    "plt.scatter(timestamps, displacements)\n",
    "plt.scatter(timestamps[1:], speeds)\n",
    "plt.show()"
   ]
  },
  {
   "cell_type": "markdown",
   "metadata": {},
   "source": [
    "但你刚才也看到了，加速度是速度的导数......这意味着我们可以使用相同的微分函数来计算加速度！"
   ]
  },
  {
   "cell_type": "code",
   "execution_count": null,
   "metadata": {},
   "outputs": [],
   "source": [
    "# calculate SECOND derivative \n",
    "accelerations = solution_derivative(speeds, timestamps[1:])\n",
    "\n",
    "# plot (note the slicing of timestamps from 2 --> end)\n",
    "plt.scatter(timestamps[2:], accelerations)\n",
    "plt.show()"
   ]
  },
  {
   "cell_type": "markdown",
   "metadata": {},
   "source": [
    "正如你所看到的，这个平行泊车运动由四个不同（但恒定）加速度的段组成。 我们可以像这样一次将所有的三个数量绘制成图："
   ]
  },
  {
   "cell_type": "code",
   "execution_count": null,
   "metadata": {},
   "outputs": [],
   "source": [
    "plt.title(\"x(t), v(t), a(t)\")\n",
    "plt.xlabel(\"Time (seconds)\")\n",
    "plt.ylabel(\"x (blue), v (orange), a (green)\")\n",
    "plt.scatter(timestamps, displacements)\n",
    "plt.scatter(timestamps[1:], speeds)\n",
    "plt.scatter(timestamps[2:], accelerations)\n",
    "plt.show()"
   ]
  },
  {
   "cell_type": "markdown",
   "metadata": {},
   "source": [
    "----\n",
    "\n",
    "## 第2部分 - 亲自尝试一下吧！"
   ]
  },
  {
   "cell_type": "code",
   "execution_count": null,
   "metadata": {},
   "outputs": [],
   "source": [
    "def get_derivative_from_data(position_data, time_data):\n",
    "    # TODO - try your best to implement this code yourself!\n",
    "    #        if you get really stuck feel free to go back\n",
    "    #        to the previous notebook for a hint.\n",
    "    return "
   ]
  },
  {
   "cell_type": "code",
   "execution_count": null,
   "metadata": {},
   "outputs": [],
   "source": [
    "# Testing part 1 - visual testing of first derivative\n",
    "#   compare this output to the corresponding graph above.\n",
    "speeds = get_derivative_from_data(displacements, timestamps)\n",
    "\n",
    "plt.title(\"Position and Velocity vs Time\")\n",
    "plt.xlabel(\"Time (seconds)\")\n",
    "plt.ylabel(\"Position (blue) and Speed (orange)\")\n",
    "plt.scatter(timestamps, displacements)\n",
    "plt.scatter(timestamps[1:], speeds)\n",
    "plt.show()"
   ]
  },
  {
   "cell_type": "code",
   "execution_count": null,
   "metadata": {},
   "outputs": [],
   "source": [
    "# Testing part 2 - visual testing of second derivative\n",
    "#   compare this output to the corresponding graph above.\n",
    "speeds = get_derivative_from_data(displacements, timestamps)\n",
    "accelerations = get_derivative_from_data(speeds, timestamps[1:])\n",
    "\n",
    "plt.title(\"x(t), v(t), a(t)\")\n",
    "plt.xlabel(\"Time (seconds)\")\n",
    "plt.ylabel(\"x (blue), v (orange), a (green)\")\n",
    "plt.scatter(timestamps, displacements)\n",
    "plt.scatter(timestamps[1:], speeds)\n",
    "plt.scatter(timestamps[2:], accelerations)\n",
    "plt.show()"
   ]
  }
 ],
 "metadata": {},
 "nbformat": 4,
 "nbformat_minor": 2
}
